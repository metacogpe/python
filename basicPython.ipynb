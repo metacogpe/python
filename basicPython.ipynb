{
 "cells": [
  {
   "cell_type": "markdown",
   "metadata": {},
   "source": [
    "# text printing"
   ]
  },
  {
   "cell_type": "code",
   "execution_count": 2,
   "metadata": {},
   "outputs": [
    {
     "name": "stdout",
     "output_type": "stream",
     "text": [
      "Hello!!!\n"
     ]
    }
   ],
   "source": [
    "print(\"Hello!!!\")"
   ]
  },
  {
   "cell_type": "code",
   "execution_count": 6,
   "metadata": {},
   "outputs": [
    {
     "name": "stdout",
     "output_type": "stream",
     "text": [
      "1 2\n"
     ]
    }
   ],
   "source": [
    "a=1; b=2\n",
    "print(a,b)"
   ]
  },
  {
   "cell_type": "markdown",
   "metadata": {},
   "source": [
    "## Various type printing"
   ]
  },
  {
   "cell_type": "code",
   "execution_count": 7,
   "metadata": {},
   "outputs": [
    {
     "name": "stdout",
     "output_type": "stream",
     "text": [
      "1 2 1 human 2.3\n"
     ]
    }
   ],
   "source": [
    "print(1,2,a,'human', 2.3)"
   ]
  },
  {
   "cell_type": "markdown",
   "metadata": {},
   "source": [
    "### for statement"
   ]
  },
  {
   "cell_type": "code",
   "execution_count": 8,
   "metadata": {},
   "outputs": [
    {
     "name": "stdout",
     "output_type": "stream",
     "text": [
      "1\n",
      "2\n",
      "3\n",
      "4\n",
      "5\n"
     ]
    }
   ],
   "source": [
    "a = [1,2,3,4,5]\n",
    "for i in a :\n",
    "    print(i)"
   ]
  },
  {
   "cell_type": "markdown",
   "metadata": {},
   "source": [
    "# dict item printing"
   ]
  },
  {
   "cell_type": "code",
   "execution_count": 9,
   "metadata": {},
   "outputs": [
    {
     "name": "stdout",
     "output_type": "stream",
     "text": [
      "korea seoul\n",
      "japan tokoy\n",
      "canada ottawa\n"
     ]
    }
   ],
   "source": [
    "a ={'korea':'seoul', 'japan':'tokoy', 'canada':'ottawa'}\n",
    "for k in a:\n",
    "    print(k,a[k])"
   ]
  },
  {
   "cell_type": "code",
   "execution_count": 10,
   "metadata": {},
   "outputs": [
    {
     "name": "stdout",
     "output_type": "stream",
     "text": [
      "seoul\n",
      "tokoy\n",
      "ottawa\n"
     ]
    }
   ],
   "source": [
    "for value in a.values():\n",
    "    print(value)"
   ]
  },
  {
   "cell_type": "code",
   "execution_count": 11,
   "metadata": {},
   "outputs": [
    {
     "data": {
      "text/plain": [
       "[('korea', 'seoul'), ('japan', 'tokoy'), ('canada', 'ottawa')]"
      ]
     },
     "execution_count": 11,
     "metadata": {},
     "output_type": "execute_result"
    }
   ],
   "source": [
    "list(a.items())"
   ]
  },
  {
   "cell_type": "code",
   "execution_count": 13,
   "metadata": {},
   "outputs": [
    {
     "name": "stdout",
     "output_type": "stream",
     "text": [
      "korea seoul\n",
      "japan tokoy\n",
      "canada ottawa\n"
     ]
    }
   ],
   "source": [
    "for key, value in a.items():\n",
    "    print(key,value)"
   ]
  },
  {
   "cell_type": "code",
   "execution_count": 14,
   "metadata": {},
   "outputs": [
    {
     "ename": "SyntaxError",
     "evalue": "Missing parentheses in call to 'print'. Did you mean print(i,val)? (<ipython-input-14-4eaf87ca246a>, line 3)",
     "output_type": "error",
     "traceback": [
      "\u001b[0;36m  File \u001b[0;32m\"<ipython-input-14-4eaf87ca246a>\"\u001b[0;36m, line \u001b[0;32m3\u001b[0m\n\u001b[0;31m    print i,val\u001b[0m\n\u001b[0m          ^\u001b[0m\n\u001b[0;31mSyntaxError\u001b[0m\u001b[0;31m:\u001b[0m Missing parentheses in call to 'print'. Did you mean print(i,val)?\n"
     ]
    }
   ],
   "source": [
    "a=[1,2,3,4,5]\n",
    "for i, val in enumerate(a):\n",
    "    print i,val"
   ]
  },
  {
   "cell_type": "markdown",
   "metadata": {},
   "source": [
    "break"
   ]
  },
  {
   "cell_type": "code",
   "execution_count": 16,
   "metadata": {},
   "outputs": [
    {
     "name": "stdout",
     "output_type": "stream",
     "text": [
      "100\n",
      "90\n",
      "80\n"
     ]
    }
   ],
   "source": [
    "a = [100,90,80,70,60,50]\n",
    "for num in a:\n",
    "    if num<80:\n",
    "        break\n",
    "    print(num)"
   ]
  },
  {
   "cell_type": "markdown",
   "metadata": {},
   "source": [
    "continue"
   ]
  },
  {
   "cell_type": "code",
   "execution_count": 18,
   "metadata": {},
   "outputs": [
    {
     "name": "stdout",
     "output_type": "stream",
     "text": [
      "100\n",
      "90\n",
      "80\n"
     ]
    }
   ],
   "source": [
    "a = [100,90,80,70,60,50]\n",
    "for num in a:\n",
    "    if num >= 60 and num <=70:\n",
    "        break\n",
    "    print(num)"
   ]
  },
  {
   "cell_type": "code",
   "execution_count": 19,
   "metadata": {},
   "outputs": [
    {
     "name": "stdout",
     "output_type": "stream",
     "text": [
      "[1, 2, 3, 4, 5, 6, 7, 8, 9]\n"
     ]
    }
   ],
   "source": [
    "a = list(range(1,10))\n",
    "print(a)"
   ]
  },
  {
   "cell_type": "code",
   "execution_count": 20,
   "metadata": {},
   "outputs": [
    {
     "name": "stdout",
     "output_type": "stream",
     "text": [
      "[1, 3, 5, 7, 9]\n"
     ]
    }
   ],
   "source": [
    "a = list(range(1,10,2))\n",
    "print(a)"
   ]
  },
  {
   "cell_type": "code",
   "execution_count": 21,
   "metadata": {},
   "outputs": [
    {
     "data": {
      "text/plain": [
       "[5,\n",
       " 10,\n",
       " 15,\n",
       " 20,\n",
       " 25,\n",
       " 30,\n",
       " 35,\n",
       " 40,\n",
       " 45,\n",
       " 50,\n",
       " 55,\n",
       " 60,\n",
       " 65,\n",
       " 70,\n",
       " 75,\n",
       " 80,\n",
       " 85,\n",
       " 90,\n",
       " 95,\n",
       " 100]"
      ]
     },
     "execution_count": 21,
     "metadata": {},
     "output_type": "execute_result"
    }
   ],
   "source": [
    "list(range(5,101,5))"
   ]
  },
  {
   "cell_type": "code",
   "execution_count": 23,
   "metadata": {},
   "outputs": [
    {
     "name": "stdout",
     "output_type": "stream",
     "text": [
      "2 x 1 = 2\n",
      "2 x 2 = 4\n",
      "2 x 3 = 6\n",
      "2 x 4 = 8\n",
      "2 x 5 = 10\n",
      "2 x 6 = 12\n",
      "2 x 7 = 14\n",
      "2 x 8 = 16\n",
      "2 x 9 = 18\n",
      "3 x 1 = 3\n",
      "3 x 2 = 6\n",
      "3 x 3 = 9\n",
      "3 x 4 = 12\n",
      "3 x 5 = 15\n",
      "3 x 6 = 18\n",
      "3 x 7 = 21\n",
      "3 x 8 = 24\n",
      "3 x 9 = 27\n",
      "4 x 1 = 4\n",
      "4 x 2 = 8\n",
      "4 x 3 = 12\n",
      "4 x 4 = 16\n",
      "4 x 5 = 20\n",
      "4 x 6 = 24\n",
      "4 x 7 = 28\n",
      "4 x 8 = 32\n",
      "4 x 9 = 36\n",
      "5 x 1 = 5\n",
      "5 x 2 = 10\n",
      "5 x 3 = 15\n",
      "5 x 4 = 20\n",
      "5 x 5 = 25\n",
      "5 x 6 = 30\n",
      "5 x 7 = 35\n",
      "5 x 8 = 40\n",
      "5 x 9 = 45\n",
      "6 x 1 = 6\n",
      "6 x 2 = 12\n",
      "6 x 3 = 18\n",
      "6 x 4 = 24\n",
      "6 x 5 = 30\n",
      "6 x 6 = 36\n",
      "6 x 7 = 42\n",
      "6 x 8 = 48\n",
      "6 x 9 = 54\n",
      "7 x 1 = 7\n",
      "7 x 2 = 14\n",
      "7 x 3 = 21\n",
      "7 x 4 = 28\n",
      "7 x 5 = 35\n",
      "7 x 6 = 42\n",
      "7 x 7 = 49\n",
      "7 x 8 = 56\n",
      "7 x 9 = 63\n",
      "8 x 1 = 8\n",
      "8 x 2 = 16\n",
      "8 x 3 = 24\n",
      "8 x 4 = 32\n",
      "8 x 5 = 40\n",
      "8 x 6 = 48\n",
      "8 x 7 = 56\n",
      "8 x 8 = 64\n",
      "8 x 9 = 72\n",
      "9 x 1 = 9\n",
      "9 x 2 = 18\n",
      "9 x 3 = 27\n",
      "9 x 4 = 36\n",
      "9 x 5 = 45\n",
      "9 x 6 = 54\n",
      "9 x 7 = 63\n",
      "9 x 8 = 72\n",
      "9 x 9 = 81\n"
     ]
    }
   ],
   "source": [
    "x = 2\n",
    "while x <= 9:\n",
    "    y = 1\n",
    "    while y <=9:\n",
    "        print(x, 'x', y, '=', x*y)\n",
    "        y += 1\n",
    "    x += 1"
   ]
  },
  {
   "cell_type": "code",
   "execution_count": 24,
   "metadata": {},
   "outputs": [
    {
     "ename": "SyntaxError",
     "evalue": "invalid syntax (<ipython-input-24-4fb83eb0e3fe>, line 3)",
     "output_type": "error",
     "traceback": [
      "\u001b[0;36m  File \u001b[0;32m\"<ipython-input-24-4fb83eb0e3fe>\"\u001b[0;36m, line \u001b[0;32m3\u001b[0m\n\u001b[0;31m    if x %2 ==0 or x %11 ==0\u001b[0m\n\u001b[0m                            ^\u001b[0m\n\u001b[0;31mSyntaxError\u001b[0m\u001b[0;31m:\u001b[0m invalid syntax\n"
     ]
    }
   ],
   "source": [
    "nums = list(range(1,101))\n",
    "for x in nums:\n",
    "    if x %2 ==0 or x %11 ==0\n",
    "    print(x)"
   ]
  },
  {
   "cell_type": "code",
   "execution_count": 26,
   "metadata": {},
   "outputs": [
    {
     "data": {
      "text/plain": [
       "(1, 99)"
      ]
     },
     "execution_count": 26,
     "metadata": {},
     "output_type": "execute_result"
    }
   ],
   "source": [
    "a = [22, 1,3,4,7,98,21,55,87,99,19,20,45]\n",
    "a.sort()\n",
    "a[0], a[-1]"
   ]
  },
  {
   "cell_type": "code",
   "execution_count": 27,
   "metadata": {},
   "outputs": [
    {
     "name": "stdout",
     "output_type": "stream",
     "text": [
      "1\n"
     ]
    }
   ],
   "source": [
    "_min = a[0]\n",
    "for x in a:\n",
    "    if x < _min:\n",
    "        _min =x\n",
    "print(_min)\n",
    "        "
   ]
  },
  {
   "cell_type": "code",
   "execution_count": 28,
   "metadata": {},
   "outputs": [
    {
     "name": "stdout",
     "output_type": "stream",
     "text": [
      "99\n"
     ]
    }
   ],
   "source": [
    "_max = a[0]\n",
    "for x in a:\n",
    "    if x > _max:\n",
    "        _max =x\n",
    "print(_max)"
   ]
  },
  {
   "cell_type": "code",
   "execution_count": 30,
   "metadata": {},
   "outputs": [
    {
     "name": "stdout",
     "output_type": "stream",
     "text": [
      "1 99\n"
     ]
    }
   ],
   "source": [
    "_min = a[0]\n",
    "_max = a[0]\n",
    "for x in a:\n",
    "    if x < _min:\n",
    "        _min = x\n",
    "    if x > _max:\n",
    "        _max = x\n",
    "print(_min, _max)"
   ]
  },
  {
   "cell_type": "markdown",
   "metadata": {},
   "source": [
    "# average"
   ]
  },
  {
   "cell_type": "code",
   "execution_count": 31,
   "metadata": {},
   "outputs": [
    {
     "name": "stdout",
     "output_type": "stream",
     "text": [
      "37.0\n"
     ]
    }
   ],
   "source": [
    "i =0\n",
    "_sum = 0\n",
    "while i < len(a):\n",
    "    _sum += a[i]\n",
    "    i += 1\n",
    "print(_sum / len(a))"
   ]
  },
  {
   "cell_type": "code",
   "execution_count": 34,
   "metadata": {},
   "outputs": [
    {
     "data": {
      "text/plain": [
       "10"
      ]
     },
     "execution_count": 34,
     "metadata": {},
     "output_type": "execute_result"
    }
   ],
   "source": [
    "a = [1,2,3,4]\n",
    "l = len(a)\n",
    "a, l\n",
    "suma = sum(a)\n",
    "suma"
   ]
  },
  {
   "cell_type": "markdown",
   "metadata": {},
   "source": [
    "# function"
   ]
  },
  {
   "cell_type": "code",
   "execution_count": 37,
   "metadata": {
    "collapsed": true
   },
   "outputs": [],
   "source": [
    "def add(x, y):\n",
    "    n = x + y\n",
    "    return n \n",
    "    "
   ]
  },
  {
   "cell_type": "code",
   "execution_count": 38,
   "metadata": {},
   "outputs": [
    {
     "data": {
      "text/plain": [
       "330"
      ]
     },
     "execution_count": 38,
     "metadata": {},
     "output_type": "execute_result"
    }
   ],
   "source": [
    "c = add(30, 300)\n",
    "c"
   ]
  },
  {
   "cell_type": "markdown",
   "metadata": {},
   "source": [
    "# Default parameter"
   ]
  },
  {
   "cell_type": "code",
   "execution_count": 41,
   "metadata": {},
   "outputs": [
    {
     "data": {
      "text/plain": [
       "31"
      ]
     },
     "execution_count": 41,
     "metadata": {},
     "output_type": "execute_result"
    }
   ],
   "source": [
    "def add(x, y, z=1):\n",
    "    n = x + y +z\n",
    "    return n \n",
    "d = add(10,20)\n",
    "d"
   ]
  },
  {
   "cell_type": "markdown",
   "metadata": {},
   "source": [
    "# keyword prameter"
   ]
  },
  {
   "cell_type": "markdown",
   "metadata": {},
   "source": [
    "# Value 'None' in function return "
   ]
  },
  {
   "cell_type": "markdown",
   "metadata": {},
   "source": [
    "# Multiple Return : use 'tuple'"
   ]
  },
  {
   "cell_type": "code",
   "execution_count": 42,
   "metadata": {},
   "outputs": [
    {
     "name": "stdout",
     "output_type": "stream",
     "text": [
      "<class 'tuple'>\n",
      "(23, 60)\n"
     ]
    }
   ],
   "source": [
    "def add_mul(x,y):\n",
    "    s = x + y\n",
    "    m = x * y\n",
    "    return s, m \n",
    "c = add_mul(20,3)\n",
    "print(type(c))\n",
    "print(c)"
   ]
  },
  {
   "cell_type": "markdown",
   "metadata": {},
   "source": [
    "# Variable scope !!!"
   ]
  },
  {
   "cell_type": "code",
   "execution_count": 44,
   "metadata": {},
   "outputs": [
    {
     "name": "stdout",
     "output_type": "stream",
     "text": [
      "30 40\n",
      "10 30\n"
     ]
    }
   ],
   "source": [
    "num1 = 10\n",
    "num2 = 30\n",
    "\n",
    "def test(num1, num2):\n",
    "    print(num1,num2)\n",
    "    return num1 + num2\n",
    "   \n",
    "test(30,40)\n",
    "print(num1, num2)"
   ]
  },
  {
   "cell_type": "markdown",
   "metadata": {},
   "source": [
    "# Variable length argument"
   ]
  },
  {
   "cell_type": "code",
   "execution_count": 45,
   "metadata": {},
   "outputs": [
    {
     "name": "stdout",
     "output_type": "stream",
     "text": [
      "\n",
      "1\n",
      "1 2 3\n"
     ]
    }
   ],
   "source": [
    "print()\n",
    "print(1)\n",
    "print(1,2,3) # varialbe no. of parameter "
   ]
  },
  {
   "cell_type": "code",
   "execution_count": 46,
   "metadata": {},
   "outputs": [
    {
     "name": "stdout",
     "output_type": "stream",
     "text": [
      "<class 'tuple'>\n"
     ]
    }
   ],
   "source": [
    "def test(*x):\n",
    "    print(type(x))\n",
    "test(10,20,30)\n",
    "\n",
    "    "
   ]
  },
  {
   "cell_type": "code",
   "execution_count": 47,
   "metadata": {},
   "outputs": [
    {
     "name": "stdout",
     "output_type": "stream",
     "text": [
      "<class 'tuple'>\n"
     ]
    }
   ],
   "source": [
    "def test(*x):\n",
    "    print(type(x))\n",
    "test(10)"
   ]
  },
  {
   "cell_type": "code",
   "execution_count": 48,
   "metadata": {},
   "outputs": [
    {
     "name": "stdout",
     "output_type": "stream",
     "text": [
      "10\n",
      "20\n",
      "30\n"
     ]
    }
   ],
   "source": [
    "def test(*args):\n",
    "    for item in args:\n",
    "        print(item)\n",
    "\n",
    "test(10,20,30)"
   ]
  },
  {
   "cell_type": "code",
   "execution_count": 49,
   "metadata": {},
   "outputs": [
    {
     "name": "stdout",
     "output_type": "stream",
     "text": [
      "<class 'dict'>\n"
     ]
    }
   ],
   "source": [
    "def test2(**x):\n",
    "    print(type(x))\n",
    "\n",
    "test2()\n",
    "    "
   ]
  },
  {
   "cell_type": "code",
   "execution_count": 50,
   "metadata": {},
   "outputs": [
    {
     "name": "stdout",
     "output_type": "stream",
     "text": [
      "<class 'dict'>\n"
     ]
    }
   ],
   "source": [
    "def test2(**x):\n",
    "    print(type(x))\n",
    "\n",
    "test2(a=1, b=2, c=3, d=4, name='bob')"
   ]
  },
  {
   "cell_type": "code",
   "execution_count": 54,
   "metadata": {},
   "outputs": [
    {
     "name": "stdout",
     "output_type": "stream",
     "text": [
      "key: a , value: 1\n"
     ]
    }
   ],
   "source": [
    "def test2(**kwargs):  # keyword args\n",
    "    for key, value in kwargs.items():\n",
    "        print('key:', key, ', value:', value)\n",
    "        \n",
    "test2(a=1)\n"
   ]
  },
  {
   "cell_type": "code",
   "execution_count": 56,
   "metadata": {},
   "outputs": [
    {
     "data": {
      "text/plain": [
       "'today temp: 20, rain percent: 50%'"
      ]
     },
     "execution_count": 56,
     "metadata": {},
     "output_type": "execute_result"
    }
   ],
   "source": [
    "a = 'today temp: {}, rain percent: {}%'.format(20,50) "
   ]
  },
  {
   "cell_type": "code",
   "execution_count": 57,
   "metadata": {},
   "outputs": [
    {
     "data": {
      "text/plain": [
       "'today temp: 20, rain percent: 50%'"
      ]
     },
     "execution_count": 57,
     "metadata": {},
     "output_type": "execute_result"
    }
   ],
   "source": [
    "a = 'today temp: {today_temp}, rain percent: {today_prob}%'.format(today_temp=20,today_prob=50)\n",
    "a"
   ]
  },
  {
   "cell_type": "markdown",
   "metadata": {},
   "source": [
    "# Lambda function; single statement"
   ]
  },
  {
   "cell_type": "code",
   "execution_count": 60,
   "metadata": {},
   "outputs": [
    {
     "data": {
      "text/plain": [
       "function"
      ]
     },
     "execution_count": 60,
     "metadata": {},
     "output_type": "execute_result"
    }
   ],
   "source": [
    "square = lambda x:x**2    \n",
    "type(square)"
   ]
  },
  {
   "cell_type": "code",
   "execution_count": 62,
   "metadata": {},
   "outputs": [
    {
     "data": {
      "text/plain": [
       "25"
      ]
     },
     "execution_count": 62,
     "metadata": {},
     "output_type": "execute_result"
    }
   ],
   "source": [
    "square = lambda x:x**2    \n",
    "square(5)"
   ]
  },
  {
   "cell_type": "code",
   "execution_count": 63,
   "metadata": {
    "scrolled": true
   },
   "outputs": [
    {
     "data": {
      "text/plain": [
       "30"
      ]
     },
     "execution_count": 63,
     "metadata": {},
     "output_type": "execute_result"
    }
   ],
   "source": [
    "def add(x,y):\n",
    "    return x +y\n",
    "add2 = lambda x,y:x+y\n",
    "add2(10,20)"
   ]
  },
  {
   "cell_type": "code",
   "execution_count": null,
   "metadata": {},
   "outputs": [],
   "source": []
  },
  {
   "cell_type": "code",
   "execution_count": 65,
   "metadata": {},
   "outputs": [
    {
     "data": {
      "text/plain": [
       "['bob', 'ted', 'alex', 'charles']"
      ]
     },
     "execution_count": 65,
     "metadata": {},
     "output_type": "execute_result"
    }
   ],
   "source": [
    "strings = ['bob', 'charles', 'alex', 'ted']\n",
    "strings.sort(key=lambda s:len(s))  # function as an argument\n",
    "strings"
   ]
  },
  {
   "cell_type": "code",
   "execution_count": 67,
   "metadata": {},
   "outputs": [
    {
     "data": {
      "text/plain": [
       "True"
      ]
     },
     "execution_count": 67,
     "metadata": {},
     "output_type": "execute_result"
    }
   ],
   "source": [
    "def even(n):\n",
    "    return n%2 == 0 \n",
    "even(2)\n",
    "    "
   ]
  },
  {
   "cell_type": "code",
   "execution_count": 72,
   "metadata": {},
   "outputs": [
    {
     "data": {
      "text/plain": [
       "[2, 6, 8]"
      ]
     },
     "execution_count": 72,
     "metadata": {},
     "output_type": "execute_result"
    }
   ],
   "source": [
    "# filter(func, list)\n",
    "nums = [1,2,3,6,8,9]\n",
    "list(filter(even, nums))"
   ]
  },
  {
   "cell_type": "code",
   "execution_count": 73,
   "metadata": {},
   "outputs": [
    {
     "data": {
      "text/plain": [
       "[2, 6, 8]"
      ]
     },
     "execution_count": 73,
     "metadata": {},
     "output_type": "execute_result"
    }
   ],
   "source": [
    "# filter(func, list)\n",
    "nums = [1,2,3,6,8,9]\n",
    "#list(filter(even, nums))\n",
    "list(filter(lambda n:n%2==0, nums))"
   ]
  },
  {
   "cell_type": "code",
   "execution_count": 74,
   "metadata": {},
   "outputs": [
    {
     "data": {
      "text/plain": [
       "[1, 4, 9, 36, 64, 81, 100, 121, 169, 225]"
      ]
     },
     "execution_count": 74,
     "metadata": {},
     "output_type": "execute_result"
    }
   ],
   "source": [
    "# map \n",
    "# given list, list**2 as a new lists\n",
    "nums = [1,2,3,6,8,9,10,11,13,15]\n",
    "list(map(lambda n:n**2, nums))\n"
   ]
  },
  {
   "cell_type": "code",
   "execution_count": 75,
   "metadata": {},
   "outputs": [
    {
     "data": {
      "text/plain": [
       "[False, True, False, True, True, False, True, False, False, False]"
      ]
     },
     "execution_count": 75,
     "metadata": {},
     "output_type": "execute_result"
    }
   ],
   "source": [
    "list(map(even, nums))"
   ]
  },
  {
   "cell_type": "code",
   "execution_count": 77,
   "metadata": {},
   "outputs": [
    {
     "data": {
      "text/plain": [
       "[False, True, False, True, True, False, True, False, False, False]"
      ]
     },
     "execution_count": 77,
     "metadata": {},
     "output_type": "execute_result"
    }
   ],
   "source": [
    "list(map(lambda n:n%2==0, nums))"
   ]
  },
  {
   "cell_type": "code",
   "execution_count": 79,
   "metadata": {},
   "outputs": [
    {
     "data": {
      "text/plain": [
       "17"
      ]
     },
     "execution_count": 79,
     "metadata": {},
     "output_type": "execute_result"
    }
   ],
   "source": [
    "import functools\n",
    "a= [1,3,5,8]  # 1,3 --> 1,3,5 --> 1,3,5,8 ==> 17\n",
    "functools.reduce(lambda x,y:x+y,a)"
   ]
  },
  {
   "cell_type": "code",
   "execution_count": 80,
   "metadata": {},
   "outputs": [
    {
     "data": {
      "text/plain": [
       "120"
      ]
     },
     "execution_count": 80,
     "metadata": {},
     "output_type": "execute_result"
    }
   ],
   "source": [
    "import functools\n",
    "a= [1,3,5,8]  # 1,3 --> 1,3,5 --> 1,3,5,8 ==> 17\n",
    "functools.reduce(lambda x,y:x*y,a)"
   ]
  },
  {
   "cell_type": "code",
   "execution_count": 82,
   "metadata": {},
   "outputs": [
    {
     "name": "stdout",
     "output_type": "stream",
     "text": [
      "2.0\n",
      "3.0\n"
     ]
    }
   ],
   "source": [
    "# avg of given list \n",
    "# input : no. of list\n",
    "# output : average\n",
    "def mean(nums):\n",
    "    _sum =0\n",
    "    for i in nums:\n",
    "        _sum += i\n",
    "    return _sum / len(nums)\n",
    "\n",
    "print(mean([1,2,3]))\n",
    "print(mean([1,2,3,4,5]))\n",
    "    "
   ]
  },
  {
   "cell_type": "code",
   "execution_count": 84,
   "metadata": {},
   "outputs": [
    {
     "name": "stdout",
     "output_type": "stream",
     "text": [
      "2.0\n"
     ]
    }
   ],
   "source": [
    "def mean(nums):\n",
    "    return sum(nums)/len(nums)\n",
    "print(mean([1,2,3]))\n"
   ]
  },
  {
   "cell_type": "code",
   "execution_count": 87,
   "metadata": {},
   "outputs": [
    {
     "name": "stdout",
     "output_type": "stream",
     "text": [
      "False\n"
     ]
    }
   ],
   "source": [
    "# prime no.\n",
    "# 15 ==> divide by  2,3,4,5,... 14\n",
    "# input : integer\n",
    "# output : boolean(True, false)\n",
    "def is_prime(num):\n",
    "    for i in range(2,num):  # 2 ~ num-1\n",
    "        if num%i == 0:\n",
    "            return False\n",
    "    return True\n",
    "\n",
    "print(is_prime(100))\n",
    "    "
   ]
  },
  {
   "cell_type": "code",
   "execution_count": 92,
   "metadata": {},
   "outputs": [
    {
     "name": "stdout",
     "output_type": "stream",
     "text": [
      "4\n",
      "25\n"
     ]
    }
   ],
   "source": [
    "# no of prime number \n",
    "# 2,3,4,5,6,7, --> 4 \n",
    "# input : integer\n",
    "# output : no. of prime number 2 ~ num\n",
    "\n",
    "def num_prime(num):\n",
    "    count = 0\n",
    "    for i in range(2, num+1):\n",
    "        if is_prime(i):\n",
    "            count +=1\n",
    "    return count\n",
    "print(num_prime(7))\n",
    "print(num_prime(100))"
   ]
  },
  {
   "cell_type": "code",
   "execution_count": 93,
   "metadata": {},
   "outputs": [],
   "source": [
    "# Module"
   ]
  },
  {
   "cell_type": "code",
   "execution_count": 94,
   "metadata": {},
   "outputs": [
    {
     "data": {
      "text/plain": [
       "'\\n<!doctype html>                <html lang=\"ko\" data-dark=\"false\"> <head> <meta charset=\"utf-8\"> <title>NAVER</title> <meta http-equiv=\"X-UA-Compatible\" content=\"IE=edge\"> <meta name=\"viewport\" content=\"width=1190\"> <meta name=\"apple-mobile-web-app-title\" content=\"NAVER\"/> <meta name=\"robots\" content=\"index,nofollow\"/> <meta name=\"description\" content=\"네이버 메인에서 다양한 정보와 유용한 컨텐츠를 만나 보세요\"/> <meta property=\"og:title\" content=\"네이버\"> <meta property=\"og:url\" content=\"https://www.naver.com/\"> <meta property=\"og:image\" content=\"https://s.pstatic.net/static/www/mobile/edit/2016/0705/mobile_212852414260.png\"> <meta property=\"og:description\" content=\"네이버 메인에서 다양한 정보와 유용한 컨텐츠를 만나 보세요\"/> <meta name=\"twitter:card\" content=\"summary\"> <meta name=\"twitter:title\" content=\"\"> <meta name=\"twitter:url\" content=\"https://www.naver.com/\"> <meta name=\"twitter:image\" content=\"https://s.pstatic.net/static/www/mobile/edit/2016/0705/mobile_212852414260.png\"> <meta name=\"twitter:description\" content=\"네이버 메인에서 다양한 정보와 유용한 컨텐츠를 만나 보세요\"/>  <link rel=\"stylesheet\" href=\"https://pm.pstatic.net/dist/css/nmain.20210224.css\"> <link rel=\"stylesheet\" href=\"https://ssl.pstatic.net/sstatic/search/pc/css/sp_autocomplete_201028.css\"> <link rel=\"shortcut icon\" type=\"image/x-icon\" href=\"/favicon.ico?1\"/>   <script>document.domain=\"naver.com\",window.nmain=window.nmain||{},window.nmain.supportFlicking=!1;var nsc=\"navertop.v4\",ua=navigator.userAgent;window.nmain.isIE=navigator.appName&&navigator.appName.indexOf(\"Explorer\")>0&&ua.toLocaleLowerCase().indexOf(\"msie 10.0\")<0,document.getElementsByTagName(\"html\")[0].setAttribute(\"data-useragent\",ua),window.nmain.isIE&&(Object.create=function(n){function a(){}return a.prototype=n,new a})</script> <script>var darkmode= false;window.naver_corp_da=window.naver_corp_da||{main:{}},window.naver_corp_da.main=window.naver_corp_da.main||{},window.naver_corp_da.main.darkmode=darkmode</script> <script> window.nmain.gv = {  isLogin: false,\\nuseId: null,   daInfo: {\"ANIMAL\":{\"menu\":\"ANIMAL\",\"childMenu\":\"\",\"adType\":\"singleDom\",\"multiDomAdUrl\":\"\",\"multiDomUnit\":\"\",\"infoList\":[{\"adposId\":\"1000161\",\"singleDomAdUrl\":\"https://siape.veta.naver.com/fxshow\",\"param\":{\"da_dom_id\":\"p_main_animal_1\",\"tb\":\"ANIMAL_1\",\"unit\":\"SU10567\",\"calp\":\"-\"},\"type\":{\"position\":\"abs\",\"positionIndex\":4,\"subject\":\"contents\"},\"dom\":null},{\"adposId\":\"1000162\",\"singleDomAdUrl\":\"https://siape.veta.naver.com/fxshow\",\"param\":{\"da_dom_id\":\"p_main_animal_2\",\"tb\":\"ANIMAL_1\",\"unit\":\"SU10568\",\"calp\":\"-\"},\"type\":{\"position\":\"abs\",\"positionIndex\":8,\"subject\":\"contents\"},\"dom\":null}]},\"BEAUTY\":{\"menu\":\"BEAUTY\",\"childMenu\":\"\",\"adType\":\"singleDom\",\"multiDomAdUrl\":\"\",\"multiDomUnit\":\"\",\"infoList\":[{\"adposId\":\"1000163\",\"singleDomAdUrl\":\"https://siape.veta.naver.com/fxshow\",\"param\":{\"da_dom_id\":\"p_main_beauty_1\",\"tb\":\"BEAUTY_1\",\"unit\":\"SU10595\",\"calp\":\"-\"},\"type\":{\"position\":\"abs\",\"positionIndex\":4,\"subject\":\"contents\"},\"dom\":null},{\"adposId\":\"1000164\",\"singleDomAdUrl\":\"https://siape.veta.naver.com/fxshow\",\"param\":{\"da_dom_id\":\"p_main_beauty_2\",\"tb\":\"BEAUTY_1\",\"unit\":\"SU10596\",\"calp\":\"-\"},\"type\":{\"position\":\"abs\",\"positionIndex\":8,\"subject\":\"contents\"},\"dom\":null}]},\"BUSINESS\":{\"menu\":\"BUSINESS\",\"childMenu\":\"\",\"adType\":\"singleDom\",\"multiDomAdUrl\":\"\",\"multiDomUnit\":\"\",\"infoList\":[{\"adposId\":\"1000165\",\"singleDomAdUrl\":\"https://siape.veta.naver.com/fxshow\",\"param\":{\"da_dom_id\":\"p_main_business_1\",\"tb\":\"BUSINESS_1\",\"unit\":\"SU10577\",\"calp\":\"-\"},\"type\":{\"position\":\"abs\",\"positionIndex\":4,\"subject\":\"contents\"},\"dom\":null},{\"adposId\":\"1000166\",\"singleDomAdUrl\":\"https://siape.veta.naver.com/fxshow\",\"param\":{\"da_dom_id\":\"p_main_business_2\",\"tb\":\"BUSINESS_1\",\"unit\":\"SU10578\",\"calp\":\"-\"},\"type\":{\"position\":\"abs\",\"positionIndex\":8,\"subject\":\"contents\"},\"dom\":null}]},\"CARGAME\":{\"menu\":\"CARGAME\",\"childMenu\":\"\",\"adType\":\"singleDom\",\"multiDomAdUrl\":\"\",\"multiDomUnit\":\"\",\"infoList\":[{\"adposId\":\"1000167\",\"singleDomAdUrl\":\"https://siape.veta.naver.com/fxshow\",\"param\":{\"da_dom_id\":\"p_main_cargame_1\",\"tb\":\"CARGAME_1\",\"unit\":\"SU10587\",\"calp\":\"-\"},\"type\":{\"position\":\"abs\",\"positionIndex\":4,\"subject\":\"contents\"},\"dom\":null},{\"adposId\":\"1000168\",\"singleDomAdUrl\":\"https://siape.veta.naver.com/fxshow\",\"param\":{\"da_dom_id\":\"p_main_cargame_2\",\"tb\":\"CARGAME_1\",\"unit\":\"SU10588\",\"calp\":\"-\"},\"type\":{\"position\":\"abs\",\"positionIndex\":8,\"subject\":\"contents\"},\"dom\":null}]},\"CHINA\":{\"menu\":\"CHINA\",\"childMenu\":\"\",\"adType\":\"singleDom\",\"multiDomAdUrl\":\"\",\"multiDomUnit\":\"\",\"infoList\":[{\"adposId\":\"1000169\",\"singleDomAdUrl\":\"https://siape.veta.naver.com/fxshow\",\"param\":{\"da_dom_id\":\"p_main_china_1\",\"tb\":\"CHINA_1\",\"unit\":\"SU10591\",\"calp\":\"-\"},\"type\":{\"position\":\"abs\",\"positionIndex\":4,\"subject\":\"contents\"},\"dom\":null},{\"adposId\":\"1000170\",\"singleDomAdUrl\":\"https://siape.veta.naver.com/fxshow\",\"param\":{\"da_dom_id\":\"p_main_china_2\",\"tb\":\"CHINA_1\",\"unit\":\"SU10592\",\"calp\":\"-\"},\"type\":{\"position\":\"abs\",\"positionIndex\":8,\"subject\":\"contents\"},\"dom\":null}]},\"DESIGN\":{\"menu\":\"DESIGN\",\"childMenu\":\"\",\"adType\":\"singleDom\",\"multiDomAdUrl\":\"\",\"multiDomUnit\":\"\",\"infoList\":[{\"adposId\":\"1000171\",\"singleDomAdUrl\":\"https://siape.veta.naver.com/fxshow\",\"param\":{\"da_dom_id\":\"p_main_design_1\",\"tb\":\"DESIGN_1\",\"unit\":\"SU10569\",\"calp\":\"-\"},\"type\":{\"position\":\"abs\",\"positionIndex\":4,\"subject\":\"contents\"},\"dom\":null},{\"adposId\":\"1000172\",\"singleDomAdUrl\":\"https://siape.veta.naver.com/fxshow\",\"param\":{\"da_dom_id\":\"p_main_design_2\",\"tb\":\"DESIGN_1\",\"unit\":\"SU10570\",\"calp\":\"-\"},\"type\":{\"position\":\"abs\",\"positionIndex\":8,\"subject\":\"contents\"},\"dom\":null}]},\"FARM\":{\"menu\":\"FARM\",\"childMenu\":\"\",\"adType\":\"singleDom\",\"multiDomAdUrl\":\"\",\"multiDomUnit\":\"\",\"infoList\":[{\"adposId\":\"1000173\",\"singleDomAdUrl\":\"https://siape.veta.naver.com/fxshow\",\"param\":{\"da_dom_id\":\"p_main_farm_1\",\"tb\":\"FARM_1\",\"unit\":\"SU10561\",\"calp\":\"-\"},\"type\":{\"position\":\"abs\",\"positionIndex\":4,\"subject\":\"contents\"},\"dom\":null},{\"adposId\":\"1000174\",\"singleDomAdUrl\":\"https://siape.veta.naver.com/fxshow\",\"param\":{\"da_dom_id\":\"p_main_farm_2\",\"tb\":\"FARM_1\",\"unit\":\"SU10562\",\"calp\":\"-\"},\"type\":{\"position\":\"abs\",\"positionIndex\":8,\"subject\":\"contents\"},\"dom\":null}]},\"FINANCE\":{\"menu\":\"FINANCE\",\"childMenu\":\"\",\"adType\":\"singleDom\",\"multiDomAdUrl\":\"\",\"multiDomUnit\":\"\",\"infoList\":[{\"adposId\":\"1000175\",\"singleDomAdUrl\":\"https://siape.veta.naver.com/fxshow\",\"param\":{\"da_dom_id\":\"p_main_finance_1\",\"tb\":\"FINANCE_1\",\"unit\":\"SU10563\",\"calp\":\"-\"},\"type\":{\"position\":\"abs\",\"positionIndex\":4,\"subject\":\"contents\"},\"dom\":null},{\"adposId\":\"1000176\",\"singleDomAdUrl\":\"https://siape.veta.naver.com/fxshow\",\"param\":{\"da_dom_id\":\"p_main_finance_2\",\"tb\":\"FINANCE_1\",\"unit\":\"SU10564\",\"calp\":\"-\"},\"type\":{\"position\":\"abs\",\"positionIndex\":8,\"subject\":\"contents\"},\"dom\":null}]},\"ITTECH\":{\"menu\":\"ITTECH\",\"childMenu\":\"\",\"adType\":\"singleDom\",\"multiDomAdUrl\":\"\",\"multiDomUnit\":\"\",\"infoList\":[{\"adposId\":\"1000177\",\"singleDomAdUrl\":\"https://siape.veta.naver.com/fxshow\",\"param\":{\"da_dom_id\":\"p_main_ittech_1\",\"tb\":\"ITTECH_1\",\"unit\":\"SU10593\",\"calp\":\"-\"},\"type\":{\"position\":\"abs\",\"positionIndex\":4,\"subject\":\"contents\"},\"dom\":null},{\"adposId\":\"1000178\",\"singleDomAdUrl\":\"https://siape.veta.naver.com/fxshow\",\"param\":{\"da_dom_id\":\"p_main_ittech_2\",\"tb\":\"ITTECH_1\",\"unit\":\"SU10594\",\"calp\":\"-\"},\"type\":{\"position\":\"abs\",\"positionIndex\":8,\"subject\":\"contents\"},\"dom\":null}]},\"JOB\":{\"menu\":\"JOB\",\"childMenu\":\"\",\"adType\":\"singleDom\",\"multiDomAdUrl\":\"\",\"multiDomUnit\":\"\",\"infoList\":[{\"adposId\":\"1000179\",\"singleDomAdUrl\":\"https://siape.veta.naver.com/fxshow\",\"param\":{\"da_dom_id\":\"p_main_job_1\",\"tb\":\"JOB_1\",\"unit\":\"SU10589\",\"calp\":\"-\"},\"type\":{\"position\":\"abs\",\"positionIndex\":4,\"subject\":\"contents\"},\"dom\":null},{\"adposId\":\"1000180\",\"singleDomAdUrl\":\"https://siape.veta.naver.com/fxshow\",\"param\":{\"da_dom_id\":\"p_main_job_2\",\"tb\":\"JOB_1\",\"unit\":\"SU10590\",\"calp\":\"-\"},\"type\":{\"position\":\"abs\",\"positionIndex\":8,\"subject\":\"contents\"},\"dom\":null}]},\"LAW\":{\"menu\":\"LAW\",\"childMenu\":\"\",\"adType\":\"singleDom\",\"multiDomAdUrl\":\"\",\"multiDomUnit\":\"\",\"infoList\":[{\"adposId\":\"1000181\",\"singleDomAdUrl\":\"https://siape.veta.naver.com/fxshow\",\"param\":{\"da_dom_id\":\"p_main_law_1\",\"tb\":\"LAW_1\",\"unit\":\"SU10573\",\"calp\":\"-\"},\"type\":{\"position\":\"abs\",\"positionIndex\":4,\"subject\":\"contents\"},\"dom\":null},{\"adposId\":\"1000182\",\"singleDomAdUrl\":\"https://siape.veta.naver.com/fxshow\",\"param\":{\"da_dom_id\":\"p_main_law_2\",\"tb\":\"LAW_1\",\"unit\":\"SU10574\",\"calp\":\"-\"},\"type\":{\"position\":\"abs\",\"positionIndex\":8,\"subject\":\"contents\"},\"dom\":null}]},\"LIVING\":{\"menu\":\"LIVING\",\"childMenu\":\"\",\"adType\":\"singleDom\",\"multiDomAdUrl\":\"\",\"multiDomUnit\":\"\",\"infoList\":[{\"adposId\":\"1000183\",\"singleDomAdUrl\":\"https://siape.veta.naver.com/fxshow\",\"param\":{\"da_dom_id\":\"p_main_living_1\",\"tb\":\"LIVING_1\",\"unit\":\"SU10597\",\"calp\":\"-\"},\"type\":{\"position\":\"abs\",\"positionIndex\":4,\"subject\":\"contents\"},\"dom\":null},{\"adposId\":\"1000184\",\"singleDomAdUrl\":\"https://siape.veta.naver.com/fxshow\",\"param\":{\"da_dom_id\":\"p_main_living_2\",\"tb\":\"LIVING_1\",\"unit\":\"SU10606\",\"calp\":\"-\"},\"type\":{\"position\":\"abs\",\"positionIndex\":8,\"subject\":\"contents\"},\"dom\":null}]},\"LIVINGHOME\":{\"menu\":\"LIVINGHOME\",\"childMenu\":\"\",\"adType\":\"singleDom\",\"multiDomAdUrl\":\"\",\"multiDomUnit\":\"\",\"infoList\":[{\"adposId\":\"1000185\",\"singleDomAdUrl\":\"https://siape.veta.naver.com/fxshow\",\"param\":{\"da_dom_id\":\"p_main_livinghome_1\",\"tb\":\"LIVINGHOME_1\",\"unit\":\"SU10571\",\"calp\":\"-\"},\"type\":{\"position\":\"abs\",\"positionIndex\":4,\"subject\":\"contents\"},\"dom\":null},{\"adposId\":\"1000186\",\"singleDomAdUrl\":\"https://siape.veta.naver.com/fxshow\",\"param\":{\"da_dom_id\":\"p_main_livinghome_2\",\"tb\":\"LIVINGHOME_1\",\"unit\":\"SU10572\",\"calp\":\"-\"},\"type\":{\"position\":\"abs\",\"positionIndex\":8,\"subject\":\"contents\"},\"dom\":null}]},\"MOMKIDS\":{\"menu\":\"MOMKIDS\",\"childMenu\":\"\",\"adType\":\"singleDom\",\"multiDomAdUrl\":\"\",\"multiDomUnit\":\"\",\"infoList\":[{\"adposId\":\"1000187\",\"singleDomAdUrl\":\"https://siape.veta.naver.com/fxshow\",\"param\":{\"da_dom_id\":\"p_main_momkids_1\",\"tb\":\"MOMKIDS_1\",\"unit\":\"SU10575\",\"calp\":\"-\"},\"type\":{\"position\":\"abs\",\"positionIndex\":4,\"subject\":\"contents\"},\"dom\":null},{\"adposId\":\"1000188\",\"singleDomAdUrl\":\"https://siape.veta.naver.com/fxshow\",\"param\":{\"da_dom_id\":\"p_main_momkids_2\",\"tb\":\"MOMKIDS_1\",\"unit\":\"SU10576\",\"calp\":\"-\"},\"type\":{\"position\":\"abs\",\"positionIndex\":8,\"subject\":\"contents\"},\"dom\":null}]},\"MOVIE\":{\"menu\":\"MOVIE\",\"childMenu\":\"\",\"adType\":\"singleDom\",\"multiDomAdUrl\":\"\",\"multiDomUnit\":\"\",\"infoList\":[{\"adposId\":\"1000189\",\"singleDomAdUrl\":\"https://siape.veta.naver.com/fxshow\",\"param\":{\"da_dom_id\":\"p_main_movie_1\",\"tb\":\"MOVIE_1\",\"unit\":\"SU10585\",\"calp\":\"-\"},\"type\":{\"position\":\"abs\",\"positionIndex\":4,\"subject\":\"contents\"},\"dom\":null},{\"adposId\":\"1000190\",\"singleDomAdUrl\":\"https://siape.veta.naver.com/fxshow\",\"param\":{\"da_dom_id\":\"p_main_movie_2\",\"tb\":\"MOVIE_1\",\"unit\":\"SU10586\",\"calp\":\"-\"},\"type\":{\"position\":\"abs\",\"positionIndex\":8,\"subject\":\"contents\"},\"dom\":null}]},\"SCHOOL\":{\"menu\":\"SCHOOL\",\"childMenu\":\"\",\"adType\":\"singleDom\",\"multiDomAdUrl\":\"\",\"multiDomUnit\":\"\",\"infoList\":[{\"adposId\":\"1000191\",\"singleDomAdUrl\":\"https://siape.veta.naver.com/fxshow\",\"param\":{\"da_dom_id\":\"p_main_school_1\",\"tb\":\"SCHOOL_1\",\"unit\":\"SU10579\",\"calp\":\"-\"},\"type\":{\"position\":\"abs\",\"positionIndex\":4,\"subject\":\"contents\"},\"dom\":null},{\"adposId\":\"1000192\",\"singleDomAdUrl\":\"https://siape.veta.naver.com/fxshow\",\"param\":{\"da_dom_id\":\"p_main_school_2\",\"tb\":\"SCHOOL_1\",\"unit\":\"SU10580\",\"calp\":\"-\"},\"type\":{\"position\":\"abs\",\"positionIndex\":8,\"subject\":\"contents\"},\"dom\":null}]},\"SHOW\":{\"menu\":\"SHOW\",\"childMenu\":\"\",\"adType\":\"singleDom\",\"multiDomAdUrl\":\"\",\"multiDomUnit\":\"\",\"infoList\":[{\"adposId\":\"1000193\",\"singleDomAdUrl\":\"https://siape.veta.naver.com/fxshow\",\"param\":{\"da_dom_id\":\"p_main_show_1\",\"tb\":\"SHOW_1\",\"unit\":\"SU10565\",\"calp\":\"-\"},\"type\":{\"position\":\"abs\",\"positionIndex\":4,\"subject\":\"contents\"},\"dom\":null},{\"adposId\":\"1000194\",\"singleDomAdUrl\":\"https://siape.veta.naver.com/fxshow\",\"param\":{\"da_dom_id\":\"p_main_show_2\",\"tb\":\"SHOW_1\",\"unit\":\"SU10566\",\"calp\":\"-\"},\"type\":{\"position\":\"abs\",\"positionIndex\":8,\"subject\":\"contents\"},\"dom\":null}]},\"TRAVEL\":{\"menu\":\"TRAVEL\",\"childMenu\":\"\",\"adType\":\"singleDom\",\"multiDomAdUrl\":\"\",\"multiDomUnit\":\"\",\"infoList\":[{\"adposId\":\"1000195\",\"singleDomAdUrl\":\"https://siape.veta.naver.com/fxshow\",\"param\":{\"da_dom_id\":\"p_main_travel_1\",\"tb\":\"TRAVEL_1\",\"unit\":\"SU10581\",\"calp\":\"-\"},\"type\":{\"position\":\"abs\",\"positionIndex\":4,\"subject\":\"contents\"},\"dom\":null},{\"adposId\":\"1000196\",\"singleDomAdUrl\":\"https://siape.veta.naver.com/fxshow\",\"param\":{\"da_dom_id\":\"p_main_travel_2\",\"tb\":\"TRAVEL_1\",\"unit\":\"SU10582\",\"calp\":\"-\"},\"type\":{\"position\":\"abs\",\"positionIndex\":8,\"subject\":\"contents\"},\"dom\":null}]},\"WEDDING\":{\"menu\":\"WEDDING\",\"childMenu\":\"\",\"adType\":\"singleDom\",\"multiDomAdUrl\":\"\",\"multiDomUnit\":\"\",\"infoList\":[{\"adposId\":\"1000197\",\"singleDomAdUrl\":\"https://siape.veta.naver.com/fxshow\",\"param\":{\"da_dom_id\":\"p_main_wedding_1\",\"tb\":\"WEDDING_1\",\"unit\":\"SU10583\",\"calp\":\"-\"},\"type\":{\"position\":\"abs\",\"positionIndex\":4,\"subject\":\"contents\"},\"dom\":null},{\"adposId\":\"1000198\",\"singleDomAdUrl\":\"https://siape.veta.naver.com/fxshow\",\"param\":{\"da_dom_id\":\"p_main_wedding_2\",\"tb\":\"WEDDING_1\",\"unit\":\"SU10584\",\"calp\":\"-\"},\"type\":{\"position\":\"abs\",\"positionIndex\":8,\"subject\":\"contents\"},\"dom\":null}]}},\\nsvt: 20210225084727,\\n}; </script> <script> window.nmain.newsstand = {\\nrcode: \\'02135109\\',\\nnewsCastSubsInfo: \\'\\',\\nnewsStandSubsInfo: \\'\\'\\n};\\nwindow.etc = {  };\\nwindow.svr = \"<!--cvweb001-->\"; </script> <script src=\"https://ssl.pstatic.net/tveta/libs/assets/js/pc/main/min/pc.veta.core.min.js\" defer=\"defer\"></script> <script src=\"https://ssl.pstatic.net/tveta/libs/assets/js/common/min/probe.min.js\" defer=\"defer\"></script>   <script src=\"https://pm.pstatic.net/dist/js/external.1be451ae.js?o=www\" type=\"text/javascript\" crossorigin=\"anonymous\" defer=\"defer\"></script> <script src=\"https://pm.pstatic.net/dist/js/preload.6f271894.js?o=www\" type=\"text/javascript\" crossorigin=\"anonymous\" defer=\"defer\"></script> <script src=\"https://pm.pstatic.net/dist/js/polyfill_async.c6f27998.js?o=www\" type=\"text/javascript\" crossorigin=\"anonymous\" async></script>  <script src=\"https://pm.pstatic.net/dist/js/vendors~search.4db2eeeb.js?o=www\" type=\"text/javascript\" crossorigin=\"anonymous\" defer=\"defer\"></script>   <script src=\"https://pm.pstatic.net/dist/js/search.828c4644.js?o=www\" type=\"text/javascript\" crossorigin=\"anonymous\" defer=\"defer\"></script>  <script src=\"https://pm.pstatic.net/dist/js/vendors~more~nmain~sidebar_notice.cd8eaf3c.js?o=www\" type=\"text/javascript\" crossorigin=\"anonymous\" defer=\"defer\"></script> <script src=\"https://pm.pstatic.net/dist/js/vendors~nmain.b342e165.js?o=www\" type=\"text/javascript\" crossorigin=\"anonymous\" defer=\"defer\"></script> <script src=\"https://pm.pstatic.net/dist/js/nmain.c42f61b5.js?o=www\" type=\"text/javascript\" crossorigin=\"anonymous\" defer=\"defer\"></script> <style>:root{color-scheme:light}#_nx_kbd .setkorhelp a{display:none}</style> </head> <body> <div id=\"u_skip\"> <a href=\"#newsstand\"><span>뉴스스탠드 바로가기</span></a> <a href=\"#themecast\"><span>주제별캐스트 바로가기</span></a> <a href=\"#timesquare\"><span>타임스퀘어 바로가기</span></a> <a href=\"#shopcast\"><span>쇼핑캐스트 바로가기</span></a> <a href=\"#account\"><span>로그인 바로가기</span></a> </div> <div id=\"wrap\"> <style type=\"text/css\">._1syGnXOL{padding-right:18px;font-size:14px;line-height:0;letter-spacing:-.25px;color:#000}._1syGnXOL span,._1syGnXOL strong{line-height:49px}._1syGnXOL:before{display:inline-block;content:\"\";vertical-align:top;background-image:url(https://static-whale.pstatic.net/main/sprite-20201210@2x.png);background-repeat:no-repeat;background-size:114px 107px;width:18px;height:18px;margin:16px 8px 0 0;background-position:0 -89px}[data-useragent*=\"MSIE 8\"] ._1syGnXOL:before{background-image:url(https://static-whale.pstatic.net/main/sprite-20201210.png)}._1syGnXOL._3dsvmZg2:before{background-position:-68px -63px}._1syGnXOL._1NBFx1WK:before{width:20px;height:20px;margin:15px 8px 0 0;background-position:-26px -85px}._1syGnXOL._2mcQEKCd:before{width:22px;height:22px;margin:14px 7px 0 0;background-position:-26px -63px}._1syGnXOL._18YOHi7v{color:#fff}._1syGnXOL._3di88A4c{padding-right:12px;font-size:17px}._1syGnXOL._3di88A4c:before{content:none}._1syGnXOL._3jtl_dKE{font-size:16px}._1syGnXOL ._19K4X1CD{text-decoration:underline}._2aeXMlrb{display:inline-block;position:relative;font-size:12px;height:49px;width:78px;text-decoration:none;color:#fff;font-weight:700;letter-spacing:-.5px;vertical-align:top}._2aeXMlrb span{text-align:center;margin:9px 0;height:31px;display:block;line-height:31px;border-radius:15px}._2aeXMlrb span:before{display:inline-block;content:\"\";vertical-align:top;background-image:url(https://static-whale.pstatic.net/main/sprite-20201210@2x.png);background-repeat:no-repeat;background-size:114px 107px}[data-useragent*=\"MSIE 8\"] ._2aeXMlrb span:before{background-image:url(https://static-whale.pstatic.net/main/sprite-20201210.png)}._2aeXMlrb.BMgpjddw{font-size:11px;width:94px}._2aeXMlrb.BMgpjddw span:before{margin:9px 3px 0 0;width:17px;height:13px;background-position:-98px -30px}._3h-N8T9V{position:absolute;top:0;left:0;right:0;bottom:0;background:rgba(0,0,0,0)}._1KncATpM{display:inline-block;content:\"\";vertical-align:top;background-image:url(https://static-whale.pstatic.net/main/sprite-20201210@2x.png);background-repeat:no-repeat;background-size:114px 107px;margin-top:14px;float:left;width:98px;height:21px;background-position:0 -21px}[data-useragent*=\"MSIE 8\"] ._1KncATpM{background-image:url(https://static-whale.pstatic.net/main/sprite-20201210.png)}._1KncATpM._2v3uxv2x{background-position:0 0}._1KncATpM._1yl_Ow6o{background-position:0 -42px}._20PYt6lT{font-size:11px;height:49px;cursor:pointer;position:absolute;top:0;right:0;color:#666;opacity:.7}._20PYt6lT:after{width:15px;height:15px;margin-left:4px;background-position:-98px 0;display:inline-block;content:\"\";vertical-align:top;background-image:url(https://static-whale.pstatic.net/main/sprite-20201210@2x.png);background-repeat:no-repeat;background-size:114px 107px}[data-useragent*=\"MSIE 8\"] ._20PYt6lT:after{background-image:url(https://static-whale.pstatic.net/main/sprite-20201210.png)}._20PYt6lT._39oMCV2N:after{background-position:-98px -15px}._20PYt6lT._3wm5EzmJ{color:#fff}._20PYt6lT._3wm5EzmJ:after{background-position:-48px -83px}._1hiMWemA{height:49px}._1hiMWemA .tY_u8r23{position:relative;width:1130px;margin:0 auto}._1hiMWemA .tY_u8r23 a{text-decoration:none}._1hiMWemA._23U_6TM_{position:relative}._1hiMWemA._23U_6TM_:after{position:absolute;z-index:1;content:\"\";display:block;width:100%;height:1px;bottom:0;background-color:rgba(0,0,0,.05)}</style>                  \\n<div id=\"NM_TOP_BANNER\" data-clk-prefix=\"top\" class=\"_1hiMWemA _23U_6TM_\"\\nstyle=\"background-color: #ecfcff;\">\\n<div class=\"tY_u8r23\">\\n<a class=\"_3h-N8T9V\" href=\\'https://whale.naver.com/details/whaleon?=main&wpid=RydDy7\\'\\ndata-clk=\"dropbanner1b\"></a>\\n<i class=\"_1KncATpM\"><span class=\"blind\">NAVER whale</span></i>\\n<img src=\"https://static-whale.pstatic.net/main/img_whaleon@2x.png\" width=\"290\" height=\"49\" alt=\"\"\\nstyle=\"padding-left: 40px;\"/>\\n<span class=\"_1syGnXOL _3jtl_dKE _3di88A4c\" data-clk=\"dropbanner1b\" style=\"padding-left: 16px;\">\\n<strong>별도 설치 없이, 시간 제한 없이! </strong><strong>화상회의는 웨일 ON으로!</strong></span>\\n<a href=\\'https://installer-whale.pstatic.net/downloads/banner/RydDy7/WhaleSetup.exe\\' class=\"_2aeXMlrb BMgpjddw\" id=\"NM_whale_download_btn\"\\ndata-clk=\"dropdownload1b\"><span style=\"background-color: #1a6ee4;\">다운로드</span></a>\\n<button type=\"button\" data-ui-cookie-exp-days=\"3\" data-ui-cookie-key=\"NM_TOP_PROMOTION\" data-ui-cookie-value=\"1\"\\ndata-ui-hide-target=\"#NM_TOP_BANNER\" data-clk=\"dropclose1b\" class=\"_20PYt6lT _39oMCV2N\"\\nstyle=\"display: none;\">3일 동안 보지 않기\\n</button>\\n</div>\\n</div>  <div id=\"header\" role=\"banner\">\\n\\n\\n\\n\\n\\n\\n\\n\\n<div class=\"special_bg\">\\n<div class=\"group_flex\">\\n<div class=\"logo_area\">\\n<h1 class=\"logo_default\">\\n<a href=\"/\" class=\"logo_naver\" data-clk=\"top.logo\"\\n><span class=\"blind\">네이버</span></a\\n>\\n</h1>\\n</div>\\n<div class=\"service_area\">\\n<a id=\"NM_set_home_btn\" href=\"https://help.naver.com/support/welcomePage/guide.help\" class=\"link_set\" data-clk=\"top.mkhome\">네이버를 시작페이지로</a>\\n<i class=\"sa_bar\"></i>\\n<a href=\"https://jr.naver.com\" class=\"link_jrnaver\" data-clk=\"top.jrnaver\"><i class=\"ico_jrnaver\"></i><span class=\"blind\">쥬니어네이버</span></a>\\n<a href=\"https://happybean.naver.com\" class=\"link_happybin\" data-clk=\"top.happybean\"><i class=\"ico_happybin\"></i><span class=\"blind\">해피빈</span></a>\\n</div>\\n\\n<div id=\"search\" class=\"search_area\" data-clk-prefix=\"sch\">\\n<form id=\"sform\" name=\"sform\" action=\"https://search.naver.com/search.naver\" method=\"get\" role=\"search\">\\n<fieldset>\\n<legend class=\"blind\">검색</legend>\\n<select id=\"where\" name=\"where\" title=\"검색 범위 선택\" class=\"blind\">\\n<option value=\"nexearch\" selected=\"selected\">통합검색</option><option value=\"post\">블로그</option><option value=\"cafeblog\">카페</option><option value=\"cafe\">- 카페명</option><option value=\"article\">- 카페글</option><option value=\"kin\">지식iN</option><option value=\"news\">뉴스</option><option value=\"web\">사이트</option><option value=\"category\">- 카테고리</option><option value=\"site\">- 사이트</option><option value=\"movie\">영화</option><option value=\"webkr\">웹문서</option><option value=\"dic\">사전</option><option value=\"100\">- 백과사전</option><option value=\"endic\">- 영어사전</option><option value=\"eedic\">- 영영사전</option><option value=\"krdic\">- 국어사전</option><option value=\"jpdic\">- 일본어사전</option><option value=\"hanja\">- 한자사전</option><option value=\"terms\">- 용어사전</option><option value=\"book\">책</option><option value=\"music\">음악</option><option value=\"doc\">전문자료</option><option value=\"shop\">쇼핑</option><option value=\"local\">지역</option><option value=\"video\">동영상</option><option value=\"image\">이미지</option><option value=\"mypc\">내PC</option><optgroup label=\"스마트 파인더\"><option value=\"movie\">영화</option><option value=\"auto\">자동차</option><option value=\"game\">게임</option><option value=\"health\">건강</option><option value=\"people\">인물</option></optgroup><optgroup label=\"네이버 랩\"><option>긍정부정검색</option></optgroup>\\n</select>\\n<input type=\"hidden\" id=\"sm\" name=\"sm\" value=\"top_hty\" />\\n<input type=\"hidden\" id=\"fbm\" name=\"fbm\" value=\"0\" />\\n<input type=\"hidden\" id=\"acr\" name=\"acr\" value=\"\" disabled=\"disabled\" />\\n<input type=\"hidden\" id=\"acq\" name=\"acq\" value=\"\" disabled=\"disabled\" />\\n<input type=\"hidden\" id=\"qdt\" name=\"qdt\" value=\"\" disabled=\"disabled\" />\\n<input type=\"hidden\" id=\"ie\" name=\"ie\" value=\"utf8\" />\\n<input type=\"hidden\" id=\"acir\" name=\"acir\" value=\"\" disabled=\"disabled\" />\\n<input type=\"hidden\" id=\"os\" name=\"os\" value=\"\" disabled=\"disabled\" />\\n<input type=\"hidden\" id=\"bid\" name=\"bid\" value=\"\" disabled=\"disabled\" />\\n<input type=\"hidden\" id=\"pkid\" name=\"pkid\" value=\"\" disabled=\"disabled\" />\\n<input type=\"hidden\" id=\"eid\" name=\"eid\" value=\"\" disabled=\"disabled\" />\\n<input type=\"hidden\" id=\"mra\" name=\"mra\" value=\"\" disabled=\"disabled\" />\\n\\n\\n\\n<div class=\"green_window\" style=\\'\\'>\\n<!-- [AU] data-atcmp-element 에 해당하는 attribute를 추가해주세요. -->\\n<input id=\"query\" name=\"query\" type=\"text\" title=\"검색어 입력\" maxlength=\"255\" class=\"input_text\" tabindex=\"1\" accesskey=\"s\" style=\"ime-mode:active;\" autocomplete=\"off\"  placeholder=\"검색어를 입력해 주세요.\" onclick=\"document.getElementById(\\'fbm\\').value=1;\" value=\"\" data-atcmp-element>\\n</div>\\n<button id=\"search_btn\" type=\"submit\" title=\"검색\" tabindex=\"3\" class=\"btn_submit\" onclick=\"window.nclick(this,\\'sch.action\\',\\'\\',\\'\\',event);\" style=\\'\\'>\\n<span class=\"blind\">검색</span>\\n<span class=\"ico_search_submit\"></span>\\n</button>\\n</fieldset>\\n</form>\\n<!-- 한글입력기 -->\\n<a href=\"#\" id=\"ke_kbd_btn\" role=\"button\" class=\"btn_keyboard\" onclick=\"return false;\"><span class=\"blind\">한글 입력기</span><span class=\"ico_keyboard\"></span></a>\\n<div id=\"_nx_kbd\" style=\"display:none;\"></div>\\n<div class=\"autocomplete\">\\n<!-- 자동완성 열린 경우 fold 클래스 추가, 딤드인 경우 dim 추가 -->\\n<a href=\"#\" role=\"button\" id=\"nautocomplete\" tabindex=\"2\" class=\"btn_arw _btn_arw fold\" aria-pressed=\"false\" data-atcmp-element><span class=\"blind\">자동완성 레이어</span><span class=\"ico_arr\"></span></a>\\n</div>\\n<!-- 자동완성레이어 -->\\n<div id=\"autoFrame\" class=\"reatcmp\" style=\"display: none;\">\\n<!-- [AU] data-atcmp-element attribute를 추가해주세요. -->\\n<div class=\"ly_atcmp\" data-atcmp-element>\\n<div class=\"api_atcmp_wrap\">\\n<!-- 최근검색어 -->\\n<!-- [AU] _recent_layer 클래스를 추가해주세요. -->\\n<div class=\"atcmp_fixer _recent_layer\" style=\"display:none;\">\\n<!-- [AU] _recent_header 클래스를 추가해주세요. -->\\n<div class=\"atcmp_header _recent_header\">\\n<strong class=\"tit\">최근검색어</strong>\\n<div class=\"option\">\\n<!-- [AU] _delAll 클래스를 추가해주세요. -->\\n<a role=\"button\" href=\"#\" class=\"item _delAll\" aria-pressed=\"false\">전체삭제</a>\\n</div>\\n</div>\\n<div class=\"atcmp_container\">\\n<!-- [AU] _recent 클래스를 추가해주세요. -->\\n<ul class=\"kwd_lst _recent\">\\n<!-- 최근검색어 템플릿 -->\\n<!-- [AU] _item 클래스를 추가해주세요. -->\\n<!-- [AU] data-template-type=\"history\" data-keyword=\"@in_txt@\" attribute를 추가해주세요. -->\\n<li class=\"item _item\" data-rank=\"@rank@\" data-template-type=\"history\" data-keyword=\"@in_txt@\">\\n<a href=\"#\" class=\"kwd\">\\n<span class=\"fix\"><span class=\"common_ico_kwd\"><i class=\"imsc ico_search\"></i></span><span>@txt@</span></span>\\n</a>\\n<span class=\"etc\">\\n<em class=\"date\">@date@.</em>\\n<!-- [AU] _del 클래스를 추가해주세요. -->\\n<a href=\"#\" role=\"button\" class=\"bt_item _del\" aria-pressed=\"false\"><i class=\"imsc ico_del\">삭제</i></a>\\n</span>\\n</li>\\n</ul>\\n<!-- [D] 검색어 저장 꺼진 경우 atcmp_fixer에 type_off 추가 -->\\n<!-- [AU] _offMsg 클래스를 추가해주세요. -->\\n<div class=\"kwd_info kwd_off _offMsg\" style=\"display: none;\">검색어 저장 기능이 꺼져 있습니다.<br><span class=\"kwd_dsc\">설정이 초기화 된다면 <a href=\"https://help.naver.com/support/alias/search/word/word_29.naver\" class=\"kwd_help\" data-clk=\"sly.help\" target=\"_blank\">도움말</a>을 확인해주세요.</span></div>\\n<!-- [D] 검색어 내역 없는 경우 atcmp_fixer에 type_off 추가 -->\\n<!-- [AU] _recentNone 클래스를 추가해주세요. -->\\n<div class=\"kwd_info kwd_none _recentNone\" style=\"display: none;\">최근 검색어 내역이 없습니다.<br><span class=\"kwd_dsc\">설정이 초기화 된다면 <a href=\"https://help.naver.com/support/alias/search/word/word_29.naver\" class=\"kwd_help\" data-clk=\"sly.help\" target=\"_blank\">도움말</a>을 확인해주세요.</span></div>\\n</div>\\n<div class=\"atcmp_footer\">\\n<span class=\"side_opt_area\">\\n<span class=\"opt_item\"><a href=\"https://help.naver.com/support/service/main.help?serviceNo=605&amp;categoryNo=1991\" data-clk=\"sly.help\" target=\"_blank\">도움말</a></span>\\n</span>\\n<span class=\"rside_opt_area\">\\n<span class=\"opt_item\">\\n<!-- [AU] _keywordOnOff 클래스를 추가해주세요. -->\\n<a href=\"#\" class=\"close _keywordOnOff\">자동저장 끄기</a>\\n</span>\\n</span>\\n</div>\\n</div>\\n<!-- 자동완성 -->\\n<!-- [AU] _atcmp_layer 클래스를 추가해주세요. -->\\n<div class=\"atcmp_fixer _atcmp_layer\" style=\"display:none;\">\\n<!-- [AU] _words 클래스를 추가해주세요. -->\\n<div class=\"atcmp_container _words\">\\n<!-- 정답형 템플릿 : 로또당첨번호 -->\\n<!-- [AU] _answer 클래스를 추가해주세요. -->\\n<!-- [AU] data-template-type=\"answer_3\" data-code=\"@code@\" data-keyword=\"@1@\" attribute를 추가해주세요. -->\\n<div class=\"atcmp_correct type_lotto _answer\" data-template-type=\"answer_3\" data-code=\"@code@\" data-keyword=\"@1@\">\\n<a href=\"#\" class=\"link_item\">\\n<span class=\"common_ico_kwd\"><i class=\"imsc ico_search\"></i></span>\\n<div class=\"dsc_area\">\\n<span class=\"tit\">@5@회차 당첨번호</span>\\n<span class=\"dsc\">\\n<span class=\"item\">추첨 @13@.</span><span class=\"item\">지급기한 1년</span>\\n</span>\\n</div>\\n<span class=\"etc_area\">\\n<span class=\"etc lotto\">\\n<em class=\"n@6@\">@6@</em><em class=\"n@7@\">@7@</em><em class=\"n@8@\">@8@</em><em class=\"n@9@\">@9@</em><em class=\"n@10@\">@10@</em><em class=\"n@11@\">@11@</em><em class=\"imsc_bf bonus n@12@\">@12@</em>\\n</span>\\n</span>\\n</a>\\n</div>\\n<!-- 정답형 템플릿 : 환율 -->\\n<!-- [AU] _answer 클래스를 추가해주세요. -->\\n<!-- [AU] data-template-type=\"answer_9\" data-code=\"@code@\" data-keyword=\"@1@\" attribute를 추가해주세요. -->\\n<div class=\"atcmp_correct type_exchange _answer\" data-template-type=\"answer_9\" data-code=\"@code@\" data-keyword=\"@1@\">\\n<!-- [D] 상승 up, 하락 down 추가 -->\\n<a href=\"#\" class=\"link_item @11@\">\\n<!-- [D] 국가별 class 가나다순\\nZAR 남아프리카 공화국\\nNPR 네팔\\nNOK 노르웨이\\nNZD 뉴질랜드\\nTWD 대만\\nDKK 덴마크\\nRUB 러시아\\nMOP 마카오\\nMYR 말레이시아\\nMXN 멕시코\\nMNT 몽골\\nUSD 미국\\nBHD 바레인\\nBDT 방글라데시\\nVND 베트남\\nBRL 브라질\\nSAR 사우디아라비아\\nSEK 스웨덴\\nCHF 스위스\\nSGD 싱가포르\\nAED 아랍에미리트\\nGBP 영국\\nEUR 유럽연합\\nILS 이스라엘\\nEGP 이집트\\nINR 인도\\nIDR 인도네시아\\nJPY 일본\\nCNY 중국\\nCZK 체코\\nCLP 칠레\\nKZT 카자흐스탄\\nQAR 카타르\\nCAD 캐나다\\nKWD 쿠웨이트\\nTHB 태국\\nTRY 터키\\nPKR 파키스탄\\nPLN 폴란드\\nPHP 필리핀\\nHUF 헝가리\\nAUD 호주\\nHKD 홍콩\\n-->\\n<span class=\"common_ico_kwd\"><i class=\"imsc ico @12@\">@14@</i></span>\\n<div class=\"dsc_area\">\\n<span class=\"tit\">@txt@<span class=\"sub\">@currency@</span></span>\\n<span class=\"dsc\">\\n<span class=\"item\"><i class=\"imsc ico_arr\"></i>@8@(@9@%)</span>\\n</span>\\n</div>\\n<span class=\"etc_area\">\\n<span class=\"etc\"><em class=\"num\">@6@</em>원</span>\\n</span>\\n</a>\\n</div>\\n<!-- 정답형 템플릿 : 날씨(국내11, 해외12) -->\\n<!-- [AU] _answer 클래스를 추가해주세요. -->\\n<!-- [AU] data-template-type=\"answer_11\" data-code=\"@code@\" data-keyword=\"@1@\" attribute를 추가해주세요. -->\\n<div class=\"atcmp_correct type_weather _answer\" data-template-type=\"answer_11\" data-code=\"@code@\" data-keyword=\"@1@\">\\n<!-- [D] 상승 up, 하락 down 추가 -->\\n<a href=\"#\" class=\"link_item @12@\">\\n<span class=\"common_ico_kwd\"><i class=\"imsc ico_search\"></i></span>\\n<div class=\"dsc_area\">\\n<span class=\"tit\">@txt@</span>\\n<span class=\"dsc\">\\n<span class=\"item\">@7@, @message@</span>\\n</span>\\n</div>\\n<span class=\"etc_area\">\\n<span class=\"etc\">\\n<!-- [D] 날씨별 class\\nico1 맑음(낮)\\nico2 맑음(밤)\\nico3 구름조금(낮)\\nico4 구름조금(밤)\\nico5 구름많음(낮)\\nico6 구름많음(밤)\\nico7 흐림\\nico8 약한비\\nico9 비\\nico10 강한비\\nico11 약한눈\\nico12 눈\\nico13 강한눈\\nico14 진눈깨비\\nico15 소나기\\nico16 안개\\nico17 소낙눈\\nico18 번개뇌우\\nico19 우박\\nico20 황사\\nico21 비또는눈\\nico22 가끔비\\nico23 가끔눈\\nico24 가끔비또는눈\\nico25 흐린후갬\\nico26 뇌우후갬\\nico27 비후갬\\nico28 눈후갬\\nico29 흐려져비\\nico30 흐려져눈\\n-->\\n<span class=\"ico_weather\"><i class=\"imsc ico ico@iconNo@\">@7@</i></span>\\n<em class=\"degree\">@8@<sup class=\"celsius\">°</sup></em>\\n</span>\\n</span>\\n</a>\\n</div>\\n<!-- 정답형 템플릿 : 사이트 바로가기 -->\\n<!-- [AU] _answer 클래스를 추가해주세요. -->\\n<!-- [AU] data-template-type=\"answer_17\" data-code=\"@code@\" data-keyword=\"@1@\" attribute를 추가해주세요. -->\\n<div class=\"atcmp_correct type_site _answer\" data-template-type=\"answer_17\" data-code=\"@code@\" data-keyword=\"@1@\">\\n<a href=\"@5@\" class=\"link_item\" target=\"_blank\">\\n<span class=\"common_ico_kwd\"><i class=\"imsc ico_url\"></i></span>\\n<div class=\"dsc_area\">\\n<span class=\"tit\">@txt@</span>\\n<span class=\"dsc\">\\n<span class=\"item\">@5@</span>\\n</span>\\n</div>\\n<span class=\"etc_area\">\\n<span class=\"etc\">바로가기</span>\\n</span>\\n</a>\\n</div>\\n<!-- [AU] _kwd_list 클래스를 추가해주세요. -->\\n<ul class=\"kwd_lst _kwd_list\">\\n<!-- [AU] 자동완성 검색어 템플릿 -->\\n<!-- [AU] _item 클래스를 추가해주세요. -->\\n<!-- [AU] data-rank=\"@rank@\" data-template-type=\"suggestion\" data-keyword=\"@in_txt@\" attribute를 추가해주세요. -->\\n<li class=\"item _item\" data-rank=\"@rank@\" data-template-type=\"suggestion\" data-keyword=\"@in_txt@\">\\n<a href=\"#\" class=\"kwd\">\\n<span class=\"fix\"><span class=\"common_ico_kwd\"><i class=\"imsc ico_search\"></i></span>@txt@</span>\\n</a>\\n<span class=\"etc\">\\n<a href=\"#\" role=\"button\" class=\"bt_item _add\" aria-pressed=\"false\"><i class=\"imsc ico_insert\">추가</i></a>\\n</span>\\n</li>\\n<!-- [AU] 최근검색어 템플릿 -->\\n<!-- [AU] _item 클래스를 추가해주세요. -->\\n<!-- [AU] data-rank=\"@rank@\" data-template-type=\"history\" data-keyword=\"@in_txt@\" attribute를 추가해주세요. -->\\n<li class=\"item has_correct _item\" data-rank=\"@rank@\" data-template-type=\"history\" data-keyword=\"@in_txt@\">\\n<a href=\"#\" class=\"kwd\">\\n<span class=\"fix\"><span class=\"common_ico_kwd\"><i class=\"imsc ico_search\"></i></span>@txt@</span>\\n</a>\\n<span class=\"etc\">\\n<!-- 최근검색어 있으면 날짜 표시 -->\\n<em class=\"date\">@date@.</em>\\n<a href=\"#\" role=\"button\" class=\"bt_item _add\" aria-pressed=\"false\"><i class=\"imsc ico_insert\">추가</i></a>\\n</span>\\n</li>\\n</ul>\\n<!-- [AU] 문맥검색 템플릿 -->\\n<!-- [AU] _item 클래스를 추가해주세요. -->\\n<!-- [AU] data-rank=\"@rank@\" data-template-type=\"intend\" data-keyword=\"@transQuery@\" attribute를 추가해주세요. -->\\n<li class=\"item has_correct _item\" data-rank=\"@rank@\" data-intend-rank=\"@intendRank@\" data-template-type=\"intend\" data-keyword=\"@transQuery@\">\\n<a href=\"#\" class=\"kwd\">\\n<span class=\"fix\"><span class=\"common_ico_kwd\"><i class=\"imsc ico_search\"></i></span>@query@ <span class=\"context\">@intend@</span></span>\\n</a>\\n<span class=\"etc\">\\n<a href=\"#\" role=\"button\" class=\"bt_item _add\" aria-pressed=\"false\"><i class=\"imsc ico_insert\">추가</i></a>\\n</span>\\n</li>\\n<!-- [D] 선거안내문구 -->\\n<!-- [AU] _alert 클래스를 추가해주세요. -->\\n<div class=\"atcmp_alert _alert\">\\n<div class=\"dsc_election\">\\n<i class=\"imsc ico_election\"></i>\\n<p class=\"dsc\">선거 후보자에 대해 자동완성을 제공하지 않습니다.\\n<span class=\"dsc_inner\">기간 : 4월 2일 0시 ~ 4월 15일 18시까지</span>\\n<a href=\"#\" class=\"link\">자세히보기</a>\\n</p>\\n</div>\\n</div>\\n<!-- [AU] _plus 클래스를 추가해주세요. -->\\n<div class=\"atcmp_plus _plus\">\\n<div class=\"dsc_plus\">\\n<a href=\"https://help.naver.com/support/contents/contents.nhn?serviceNo=606&categoryNo=16658\" class=\"link_dsc\" data-clk=\"sug.cxhelp\" target=\"_blank\">관심사를 반영한 컨텍스트 자동완성<i class=\"imsc ico_help\">도움말</i></a>\\n</div>\\n<div class=\"switch\">\\n<!-- [D] 선택시 aria-pressed=\"ture/false\" -->\\n<!-- [AU] _plus_btn 클래스를 추가해주세요. -->\\n<a role=\"button\" href=\"#\" class=\"bt_switch active _plus_btn\" aria-pressed=\"false\"><i class=\"imsc ico_option\">컨텍스트 자동완성</i></a>\\n</div>\\n<!-- [AU] _plus_layer 클래스를 추가해주세요. -->\\n<div class=\"layer_plus _plus_layer\">\\n<strong class=\"tit\">컨텍스트 자동완성</strong>\\n<!-- [AU] _plus_layer_isloggedin 클래스를 추가해주세요. -->\\n<!-- [AU] style=\"display:none\" 추가해주세요. -->\\n<div class=\"_plus_layer_isloggedin\" style=\"display:none\">\\n<p class=\"dsc\">ON/OFF 설정은<br>해당기기(브라우저)에 저장됩니다.</p>\\n<div class=\"btn_area\">\\n<a href=\"https://help.naver.com/support/contents/contents.help?serviceNo=606&categoryNo=16659\" class=\"btn btn_view\" data-clk=\"sug.cxlink\" target=\"_blank\">자세히</a>\\n</div>\\n</div>\\n<!-- [AU] _plus_layer_isnotloggedin 클래스를 추가해주세요. -->\\n<!-- [AU] style=\"display:none\" 추가해주세요. -->\\n<div class=\"_plus_layer_isnotloggedin\" style=\"display:none\">\\n<p class=\"dsc\"><em class=\"txt\">동일한 시간대/연령/남녀별</em> 사용자 그룹의<br>관심사에 맞춰 자동완성을 제공합니다.</p>\\n<div class=\"btn_area\">\\n<a href=\"https://nid.naver.com/nidlogin.login\" class=\"btn btn_login\" data-clk=\"sug.cxlogin\">로그인</a>\\n<a href=\"https://help.naver.com/support/alias/search/word/word_16.naver\" class=\"btn btn_view\" data-clk=\"sug.cxlink\" target=\"_blank\">자세히</a>\\n</div>\\n</div>\\n<!-- [AU] _plus_layer_close 클래스를 추가해주세요. -->\\n<a href=\"#\" role=\"button\" class=\"btn_close _plus_layer_close\"><i class=\"imsc ico_close\">컨텍스트 자동완성 레이어 닫기</i></a>\\n</div>\\n</div>\\n</div>\\n<div class=\"atcmp_footer\">\\n<span class=\"side_opt_area\">\\n<span class=\"opt_item\"><a href=\"https://help.naver.com/support/service/main.help?serviceNo=605&categoryNo=1987\" data-clk=\"sug.help\" target=\"_blank\">도움말</a></span>\\n<span class=\"opt_item\"><a href=\"https://help.naver.com/support/contents/contents.help?serviceNo=605&categoryNo=18215\" class=\"report\" data-clk=\"sug.report\" target=\"_blank\">신고</a></span>\\n</span>\\n<span class=\"rside_opt_area\">\\n<span class=\"opt_item\">\\n<!-- [AU] _suggestOnOff 클래스를 추가해주세요. -->\\n<a href=\"#\" class=\"close _suggestOnOff\">자동완성 끄기</a>\\n</span>\\n</span>\\n</div>\\n</div>\\n</div>\\n</div>\\n</div>\\n</div>\\n\\n</div>\\n</div>\\n\\n<!--EMPTY-->\\n<div id=\"gnb\">\\n<div id=\"NM_FAVORITE\" class=\"gnb_inner\">\\n<div class=\"group_nav\">\\n<ul class=\"list_nav type_fix\">\\n<li class=\"nav_item\">\\n<a href=\"https://mail.naver.com/\" class=\"nav\" data-clk=\"svc.mail\"><i class=\"ico_mail\"></i>메일</a>\\n</li>\\n<li class=\"nav_item\"><a href=\"https://section.cafe.naver.com/\" class=\"nav\" data-clk=\"svc.cafe\">카페</a></li>\\n<li class=\"nav_item\"><a href=\"https://section.blog.naver.com/\" class=\"nav\" data-clk=\"svc.blog\">블로그</a></li>\\n<li class=\"nav_item\"><a href=\"https://kin.naver.com/\" class=\"nav\" data-clk=\"svc.kin\">지식iN</a></li>\\n<li class=\"nav_item\"><a href=\"https://shopping.naver.com/\" class=\"nav\" data-clk=\"svc.shopping\">쇼핑</a></li>\\n<li class=\"nav_item\"><a href=\"https://order.pay.naver.com/home\" class=\"nav\" data-clk=\"svc.pay\">Pay</a></li>\\n<li class=\"nav_item\">\\n<a href=\"https://tv.naver.com/\" class=\"nav\" data-clk=\"svc.tvcast\"><i class=\"ico_tv\"></i>TV</a>\\n</li>\\n</ul>\\n<ul\\nclass=\"list_nav NM_FAVORITE_LIST\"\\n>\\n<li class=\"nav_item\"><a href=\"https://dict.naver.com/\" class=\"nav\" data-clk=\"svc.dic\">사전</a></li>\\n<li class=\"nav_item\"><a href=\"https://news.naver.com/\" class=\"nav\" data-clk=\"svc.news\">뉴스</a></li>\\n<li class=\"nav_item\"><a href=\"https://finance.naver.com/\" class=\"nav\" data-clk=\"svc.stock\">증권</a></li>\\n<li class=\"nav_item\"><a href=\"https://land.naver.com/\" class=\"nav\" data-clk=\"svc.land\">부동산</a></li>\\n<li class=\"nav_item\"><a href=\"https://map.naver.com/\" class=\"nav\" data-clk=\"svc.map\">지도</a></li>\\n<li class=\"nav_item\"><a href=\"https://movie.naver.com/\" class=\"nav\" data-clk=\"svc.movie\">영화</a></li>\\n<li class=\"nav_item\"><a href=\"https://vibe.naver.com/\" class=\"nav\" data-clk=\"svc.vibe\">VIBE</a>\\n<li class=\"nav_item\"><a href=\"https://book.naver.com/\" class=\"nav\" data-clk=\"svc.book\">책</a></li>\\n<li class=\"nav_item\"><a href=\"https://comic.naver.com/\" class=\"nav\" data-clk=\"svc.webtoon\">웹툰</a></li>\\n\\n</ul>\\n<ul class=\"list_nav type_empty\" style=\"display: none;\"></ul>\\n<a href=\"#\" role=\"button\" class=\"btn_more\" data-clk=\"svc.more\">더보기</a>\\n<div class=\"ly_btn_area\">\\n<a href=\"more.html\" class=\"btn NM_FAVORITE_ALL\" data-clk=\"map.svcmore\">서비스 전체보기</a>\\n<a href=\"#\" role=\"button\" class=\"btn btn_set\" data-clk=\"map.edit\">메뉴설정</a>\\n<a href=\"#\" role=\"button\" class=\"btn btn_reset\" data-clk=\"edt.reset\">초기화</a>\\n<a href=\"#\" role=\"button\" class=\"btn btn_save\" data-clk=\"edt.save\">저장</a>\\n</div>\\n</div>\\n<div id=\"NM_WEATHER\" class=\"group_weather\">\\n<div>\\n<a data-clk=\"squ.weat\" href=\"https://weather.naver.com/today/02135109\" class=\"weather_area ico_w07\">\\n<div class=\"current_box\">\\n<strong class=\"current\" aria-label=\"현재기온\">1.4°</strong><strong class=\"state\">흐림</strong>\\n</div>\\n<div class=\"degree_box\">\\n<span class=\"min\" aria-label=\"최저기온\">-1.0°</span><span class=\"max\" aria-label=\"최고기온\">9.0°</span>\\n</div>\\n<span class=\"location\">삼평동</span>\\n</a>\\n</div>\\n<div>\\n<a data-clk=\"squ.dust\" href=\"https://weather.naver.com/today/02135109\" class=\"air_area\">\\n<ul class=\"list_air\">\\n<li class=\"air_item\">미세<strong class=\"state state_normal\">보통</strong></li>\\n<li class=\"air_item\">초미세<strong class=\"state state_normal\">보통</strong></li>\\n</ul>\\n<span class=\"location\">삼평동</span>\\n</a>\\n</div>\\n\\n</div>\\n</div>\\n<div class=\"ly_service\">\\n<div class=\"group_service NM_FAVORITE_ALL_LY\"></div>\\n<div class=\"group_service NM_FAVORITE_EDIT_LY\" style=\"display: none;\"></div>\\n</div>\\n</div>\\n</div>\\n <div id=\"container\" role=\"main\"> <div style=\"position:relative;width:1130px;margin:0 auto;z-index:11\"> <div id=\"da_top\"></div> <div id=\"da_expwide\"></div> </div> <div id=\"NM_INT_LEFT\" class=\"column_left\">  <div id=\"veta_top\"> <iframe id=\"da_iframe_time\" name=\"da_iframe_time\" data-iframe-src=\"https://siape.veta.naver.com/fxshow?su=SU10599&amp;nrefreshx=0\" data-veta-preview=\"main_time\" title=\"광고\" width=\"750\" height=\"135\" marginheight=\"0\" marginwidth=\"0\" scrolling=\"no\" frameborder=\"0\"> </iframe> <span class=\"veta_bd_t\"></span> <span class=\"veta_bd_b\"></span> <span class=\"veta_bd_l\"></span> <span class=\"veta_bd_r\"></span> </div> <div id=\"newsstand\" class=\"sc_newscast\"> <h2 class=\"blind\">뉴스스탠드</h2> <div id=\"NM_NEWSSTAND_HEADER\" class=\"group_issue\" data-clk-prefix=\"ncy\"> <div class=\"issue_area\"> <a href=\"http://news.naver.com/main/list.nhn?mode=LPOD&mid=sec&sid1=001&sid2=140&oid=001&isYeonhapFlash=Y\" class=\"link_media\" data-clk=\"newsflash\">연합뉴스</a> <div id=\"yna_rolling\" class=\"list_issue\"> <div><a href=\"http://news.naver.com/main/list.nhn?mode=LPOD&mid=sec&sid1=001&sid2=140&oid=001&isYeonhapFlash=Y&aid=0012223682\" class=\"issue\" data-clk=\"quickarticle\">AZ백신 오늘 전국 각지로 배송…내일 요양병원·시설서 첫 접종</a></div>\\n<div><a href=\"http://news.naver.com/main/list.nhn?mode=LPOD&mid=sec&sid1=001&sid2=140&oid=001&isYeonhapFlash=Y&aid=0012223681\" class=\"issue\" data-clk=\"quickarticle\">오늘 400명 안팎…내일 거리두기 조정, 현단계 연장 가능성도</a></div>\\n<div><a href=\"http://news.naver.com/main/list.nhn?mode=LPOD&mid=sec&sid1=001&sid2=140&oid=001&isYeonhapFlash=Y&aid=0012223841\" class=\"issue\" data-clk=\"quickarticle\">오늘 사드기지에 공사 자재 반입…주민·경찰 충돌 우려</a></div>\\n<div><a href=\"http://news.naver.com/main/list.nhn?mode=LPOD&mid=sec&sid1=001&sid2=140&oid=001&isYeonhapFlash=Y&aid=0012223840\" class=\"issue\" data-clk=\"quickarticle\">김정은, 당 중앙군사위 확대회의…\"신세대 군간부 통제 강화\"</a></div>\\n<div><a href=\"http://news.naver.com/main/list.nhn?mode=LPOD&mid=sec&sid1=001&sid2=140&oid=001&isYeonhapFlash=Y&aid=0012223830\" class=\"issue\" data-clk=\"quickarticle\">홍남기 \"도시공원·그린벨트 내 수소충전소 설치 허용\"</a></div>\\n<div><a href=\"http://news.naver.com/main/list.nhn?mode=LPOD&mid=sec&sid1=001&sid2=140&oid=001&isYeonhapFlash=Y&aid=0012223705\" class=\"issue\" data-clk=\"quickarticle\">변창흠 회심의 \\'한방\\' 광명·시흥 7만호…약발 있을까</a></div>\\n<div><a href=\"http://news.naver.com/main/list.nhn?mode=LPOD&mid=sec&sid1=001&sid2=140&oid=001&isYeonhapFlash=Y&aid=0012223734\" class=\"issue\" data-clk=\"quickarticle\">비트코인 거래대금 1년새 10배…주요 거래소 매출도 \\'껑충\\'</a></div>\\n<div><a href=\"http://news.naver.com/main/list.nhn?mode=LPOD&mid=sec&sid1=001&sid2=140&oid=001&isYeonhapFlash=Y&aid=0012223836\" class=\"issue\" data-clk=\"quickarticle\">게임이론 노벨상 수상 경제학자도 램지어 비판 대열 합류</a></div>\\n<div><a href=\"http://news.naver.com/main/list.nhn?mode=LPOD&mid=sec&sid1=001&sid2=140&oid=001&isYeonhapFlash=Y&aid=0012223856\" class=\"issue\" data-clk=\"quickarticle\">바이든, 반도체·배터리 공급망 검토 지시…한국도 영향 받나</a></div>\\n<div><a href=\"http://news.naver.com/main/list.nhn?mode=LPOD&mid=sec&sid1=001&sid2=140&oid=001&isYeonhapFlash=Y&aid=0012223822\" class=\"issue\" data-clk=\"quickarticle\">차량 전복 사고 우즈 \\'걷는 데만 몇 달 걸릴 것\\'…재기 불투명</a></div> </div> </div> <div class=\"direct_area\"> <a href=\"http://news.naver.com/\" class=\"link_news\" data-clk=\"newshome\">네이버뉴스</a>\\n<a href=\"http://entertain.naver.com/home\" class=\"link_direct\" data-clk=\"entertainment\">연예</a>\\n<a href=\"http://sports.news.naver.com/\" class=\"link_direct\" data-clk=\"sports\">스포츠</a>\\n<a href=\"http://news.naver.com/main/main.nhn?mode=LSD&mid=shm&sid1=101\" class=\"link_direct\" data-clk=\"economy\">경제</a> </div> </div>        <div id=\"NM_NEWSSTAND_TITLE\" class=\"group_title\" data-clk-prefix=\"nsd\"> <a href=\"http://newsstand.naver.com/\" class=\"link_newsstand\" data-clk=\"title\" target=\"_blank\">뉴스스탠드</a> <div id=\"NM_NEWSSTAND_data_buttons\" class=\"sort_area\">  <a href=\"#\" role=\"button\" data-type=\"my\" data-clk=\"my\" class=\"btn_sort\">구독한 언론사</a> <a href=\"#\" role=\"button\" data-type=\"all\" data-clk=\"all\" class=\"btn_sort sort_on\">전체언론사</a>  </div> <div id=\"NM_NEWSSTAND_view_buttons\" class=\"set_area\">  <a href=\"#\" role=\"button\" data-type=\"list\" data-clk=\"articleview\" class=\"btn_set\"> <i class=\"ico_list\"><span class=\"blind\">리스트형</span></i></a> <a href=\"#\" role=\"button\" data-type=\"thumb\" data-clk=\"pressview\" class=\"btn_set set_on\"> <i class=\"ico_tile\"><span class=\"blind\">썸네일형</span></i></a>  <a href=\"http://newsstand.naver.com/config.html\" class=\"btn_set\" data-clk=\"set\" target=\"_blank\"> <i class=\"ico_set\"><span class=\"blind\">설정</span></i></a> </div> </div> <div id=\"NM_NEWSSTAND_VIEW_CONTAINER\" style=\"position:relative\"> <div id=\"NM_NEWSSTAND_DEFAULT_LIST\" class=\"group_news\" style=\"display:none\" data-clk-prefix=\"nsd_all\"> <a href=\"#\" role=\"button\" class=\"pm_btn_prev_l _NM_NEWSSTAND_LIST_prev_btn\" data-clk-custom=\"prev\"><i class=\"ico_btn\"><span class=\"blind\">이전</span></i></a> <a href=\"#\" role=\"button\" class=\"pm_btn_next_l _NM_NEWSSTAND_LIST_next_btn\" data-clk-custom=\"next\"><i class=\"ico_btn\"><span class=\"blind\">다음</span></i></a> <div class=\"list_view\"> <div class=\"option_area\"> <div class=\"list_option_wrap\"> <ul class=\"list_option\"> <li class=\"option_item\" data-cateid=\"ct2\"><a href=\"#\" class=\"option\" data-clk=\"daei\">종합/경제</a></li> <li class=\"option_item\" data-cateid=\"ct3\"><a href=\"#\" class=\"option\" data-clk=\"dtvcom\">방송/통신</a></li> <li class=\"option_item\" data-cateid=\"ct4\"><a href=\"#\" class=\"option\" data-clk=\"dit\">IT</a></li> <li class=\"option_item\" data-cateid=\"ct5\"><a href=\"#\" class=\"option\" data-clk=\"deng\">영자지</a></li> <li class=\"option_item\" data-cateid=\"ct6\"><a href=\"#\" class=\"option\" data-clk=\"dsporent\">스포츠/연예</a></li> <li class=\"option_item\" data-cateid=\"ct7\"><a href=\"#\" class=\"option\" data-clk=\"dmagtec\">매거진/전문지</a></li> <li class=\"option_item\" data-cateid=\"ct8\"><a href=\"#\" class=\"option\" data-clk=\"dloc\">지역</a></li> </ul> </div> </div> <div class=\"_NM_NEWSSTAND_ARTICLE_CONTAINER\" data-clk-sub=\"*a\"></div> </div> <div class=\"ly_popup NM_NEWSSTAND_POPUP NM_NEWSSTAND_invalid\" style=\"display:none\" data-clk-sub=\"*a\"> <a href=\"#\" role=\"button\" class=\"btn_close NM_NEWSSTAND_POPUP_CLOSE\"><i class=\"ico_close\"></i><span class=\"blind\">닫기</span></a> <p class=\"popup_msg\">해당 언론사 사정으로 접근이 일시 제한됩니다.</p> <div class=\"popup_btn\"> <a href=\"#\" role=\"button\" class=\"btn_confirm NM_NEWSSTAND_POPUP_CLOSE\">확인</a> </div> </div> <div class=\"ly_popup NM_NEWSSTAND_POPUP NM_NEWSSTAND_undescribe_confirm\" style=\"display:none\" data-clk-sub=\"*a\"> <a href=\"#\" role=\"button\" class=\"btn_close NM_NEWSSTAND_POPUP_CLOSE\" data-clk=\"usclose\"><i class=\"ico_close\"></i><span class=\"blind\">닫기</span></a> <p class=\"popup_msg\"><strong class=\"NM_NEWSSTAND_POPUP_PNAME\"></strong>을(를)<br>구독해지 하시겠습니까?</p> <div class=\"popup_btn\"> <a href=\"#\" role=\"button\" class=\"btn_confirm NM_NEWSSTAND_POPUP_CONFIRM\" data-clk=\"usdone\">확인</a> <a href=\"#\" role=\"button\" class=\"btn_confirm NM_NEWSSTAND_POPUP_CLOSE\" data-clk=\"uscancel\">취소</a> </div> </div> <div class=\"ly_toast NM_NEWSSTAND_TOAST\" style=\"display:none\"> <p class=\"toast_msg\">구독한 언론사에 추가되었습니다.</p> </div> </div>   <div id=\"NM_NEWSSTAND_DEFAULT_THUMB\" class=\"group_news\" style=\"display:block\" data-clk-prefix=\"nsd_all\"> <a href=\"#\" role=\"button\" class=\"pm_btn_prev_l _NM_UI_PAGE_PREV\" data-clk-custom=\"prev\"><i class=\"ico_btn\"><span class=\"blind\">이전</span></i></a> <a href=\"#\" role=\"button\" class=\"pm_btn_next_l _NM_UI_PAGE_NEXT\" data-clk-custom=\"next\"><i class=\"ico_btn\"><span class=\"blind\">다음</span></i></a> <div class=\"_NM_UI_PAGE_CONTAINER\" style=\"height:100%;overflow:hidden\" data-clk-sub=\"*p\">   <div style=\"width: 750px; float: left;\">\\n<div class=\"tile_view\">\\n<div class=\"frame_area\">\\n<i class=\"line to_right1\"></i>\\n<i class=\"line to_right2\"></i>\\n<i class=\"line to_right3\"></i>\\n<i class=\"line to_bottom1\"></i>\\n<i class=\"line to_bottom2\"></i>\\n<i class=\"line to_bottom3\"></i>\\n<i class=\"line to_bottom4\"></i>\\n<i class=\"line to_bottom5\"></i>\\n</div>\\n<div class=\"thumb_area\">\\n<div\\nclass=\"thumb_box _NM_NEWSSTAND_THUMB _NM_NEWSSTAND_THUMB_press_valid\"\\ndata-pid=\"056\"\\n>\\n<a href=\"#\" class=\"thumb\">\\n<img\\nsrc=\"https://s.pstatic.net/static/newsstand/2020/logo/light/0604/056.png\"\\nheight=\"20\"\\nalt=\"KBS\"\\nclass=\"news_logo\"\\n/>\\n<span class=\"thumb_dim\"></span\\n></a>\\n<div class=\"popup_wrap\">\\n<a\\nhref=\"#\"\\nrole=\"button\"\\nclass=\"btn_popup _NM_NEWSSTAND_THUMB_subscribe_press\"\\ndata-pid=\"056\"\\ndata-clk=\"sub\"\\n>구독</a\\n>\\n<a\\nhref=\"#\"\\nrole=\"button\"\\nclass=\"btn_popup _NM_NEWSSTAND_THUMB_unsubscribe_press\"\\ndata-pid=\"056\"\\ndata-clk=\"unsub\"\\n>해지</a\\n>\\n<a\\nhref=\"http://newsstand.naver.com/?list=&pcode=056\"\\ntarget=\"_blank\"\\nclass=\"btn_popup\"\\ndata-clk=\"logo\"\\ndata-pid=\"056\"\\n>기사보기</a\\n>\\n</div>\\n</div>\\n<div\\nclass=\"thumb_box _NM_NEWSSTAND_THUMB _NM_NEWSSTAND_THUMB_press_valid\"\\ndata-pid=\"326\"\\n>\\n<a href=\"#\" class=\"thumb\">\\n<img\\nsrc=\"https://s.pstatic.net/static/newsstand/2020/logo/light/0604/326.png\"\\nheight=\"20\"\\nalt=\"KBS World\"\\nclass=\"news_logo\"\\n/>\\n<span class=\"thumb_dim\"></span\\n></a>\\n<div class=\"popup_wrap\">\\n<a\\nhref=\"#\"\\nrole=\"button\"\\nclass=\"btn_popup _NM_NEWSSTAND_THUMB_subscribe_press\"\\ndata-pid=\"326\"\\ndata-clk=\"sub\"\\n>구독</a\\n>\\n<a\\nhref=\"#\"\\nrole=\"button\"\\nclass=\"btn_popup _NM_NEWSSTAND_THUMB_unsubscribe_press\"\\ndata-pid=\"326\"\\ndata-clk=\"unsub\"\\n>해지</a\\n>\\n<a\\nhref=\"http://newsstand.naver.com/?list=&pcode=326\"\\ntarget=\"_blank\"\\nclass=\"btn_popup\"\\ndata-clk=\"logo\"\\ndata-pid=\"326\"\\n>기사보기</a\\n>\\n</div>\\n</div>\\n<div\\nclass=\"thumb_box _NM_NEWSSTAND_THUMB _NM_NEWSSTAND_THUMB_press_valid\"\\ndata-pid=\"308\"\\n>\\n<a href=\"#\" class=\"thumb\">\\n<img\\nsrc=\"https://s.pstatic.net/static/newsstand/2020/logo/light/0604/308.png\"\\nheight=\"20\"\\nalt=\"시사인\"\\nclass=\"news_logo\"\\n/>\\n<span class=\"thumb_dim\"></span\\n></a>\\n<div class=\"popup_wrap\">\\n<a\\nhref=\"#\"\\nrole=\"button\"\\nclass=\"btn_popup _NM_NEWSSTAND_THUMB_subscribe_press\"\\ndata-pid=\"308\"\\ndata-clk=\"sub\"\\n>구독</a\\n>\\n<a\\nhref=\"#\"\\nrole=\"button\"\\nclass=\"btn_popup _NM_NEWSSTAND_THUMB_unsubscribe_press\"\\ndata-pid=\"308\"\\ndata-clk=\"unsub\"\\n>해지</a\\n>\\n<a\\nhref=\"http://newsstand.naver.com/?list=&pcode=308\"\\ntarget=\"_blank\"\\nclass=\"btn_popup\"\\ndata-clk=\"logo\"\\ndata-pid=\"308\"\\n>기사보기</a\\n>\\n</div>\\n</div>\\n<div\\nclass=\"thumb_box _NM_NEWSSTAND_THUMB _NM_NEWSSTAND_THUMB_press_valid\"\\ndata-pid=\"073\"\\n>\\n<a href=\"#\" class=\"thumb\">\\n<img\\nsrc=\"https://s.pstatic.net/static/newsstand/up/2020/0708/nsd94830278.png\"\\nheight=\"20\"\\nalt=\"스포츠서울\"\\nclass=\"news_logo\"\\n/>\\n<span class=\"thumb_dim\"></span\\n></a>\\n<div class=\"popup_wrap\">\\n<a\\nhref=\"#\"\\nrole=\"button\"\\nclass=\"btn_popup _NM_NEWSSTAND_THUMB_subscribe_press\"\\ndata-pid=\"073\"\\ndata-clk=\"sub\"\\n>구독</a\\n>\\n<a\\nhref=\"#\"\\nrole=\"button\"\\nclass=\"btn_popup _NM_NEWSSTAND_THUMB_unsubscribe_press\"\\ndata-pid=\"073\"\\ndata-clk=\"unsub\"\\n>해지</a\\n>\\n<a\\nhref=\"http://newsstand.naver.com/?list=&pcode=073\"\\ntarget=\"_blank\"\\nclass=\"btn_popup\"\\ndata-clk=\"logo\"\\ndata-pid=\"073\"\\n>기사보기</a\\n>\\n</div>\\n</div>\\n<div\\nclass=\"thumb_box _NM_NEWSSTAND_THUMB _NM_NEWSSTAND_THUMB_press_valid\"\\ndata-pid=\"022\"\\n>\\n<a href=\"#\" class=\"thumb\">\\n<img\\nsrc=\"https://s.pstatic.net/static/newsstand/2020/logo/light/0604/022.png\"\\nheight=\"20\"\\nalt=\"세계일보\"\\nclass=\"news_logo\"\\n/>\\n<span class=\"thumb_dim\"></span\\n></a>\\n<div class=\"popup_wrap\">\\n<a\\nhref=\"#\"\\nrole=\"button\"\\nclass=\"btn_popup _NM_NEWSSTAND_THUMB_subscribe_press\"\\ndata-pid=\"022\"\\ndata-clk=\"sub\"\\n>구독</a\\n>\\n<a\\nhref=\"#\"\\nrole=\"button\"\\nclass=\"btn_popup _NM_NEWSSTAND_THUMB_unsubscribe_press\"\\ndata-pid=\"022\"\\ndata-clk=\"unsub\"\\n>해지</a\\n>\\n<a\\nhref=\"http://newsstand.naver.com/?list=&pcode=022\"\\ntarget=\"_blank\"\\nclass=\"btn_popup\"\\ndata-clk=\"logo\"\\ndata-pid=\"022\"\\n>기사보기</a\\n>\\n</div>\\n</div>\\n<div\\nclass=\"thumb_box _NM_NEWSSTAND_THUMB _NM_NEWSSTAND_THUMB_press_valid\"\\ndata-pid=\"044\"\\n>\\n<a href=\"#\" class=\"thumb\">\\n<img\\nsrc=\"https://s.pstatic.net/static/newsstand/2020/logo/light/0604/044.png\"\\nheight=\"20\"\\nalt=\"코리아헤럴드\"\\nclass=\"news_logo\"\\n/>\\n<span class=\"thumb_dim\"></span\\n></a>\\n<div class=\"popup_wrap\">\\n<a\\nhref=\"#\"\\nrole=\"button\"\\nclass=\"btn_popup _NM_NEWSSTAND_THUMB_subscribe_press\"\\ndata-pid=\"044\"\\ndata-clk=\"sub\"\\n>구독</a\\n>\\n<a\\nhref=\"#\"\\nrole=\"button\"\\nclass=\"btn_popup _NM_NEWSSTAND_THUMB_unsubscribe_press\"\\ndata-pid=\"044\"\\ndata-clk=\"unsub\"\\n>해지</a\\n>\\n<a\\nhref=\"http://newsstand.naver.com/?list=&pcode=044\"\\ntarget=\"_blank\"\\nclass=\"btn_popup\"\\ndata-clk=\"logo\"\\ndata-pid=\"044\"\\n>기사보기</a\\n>\\n</div>\\n</div>\\n<div\\nclass=\"thumb_box _NM_NEWSSTAND_THUMB _NM_NEWSSTAND_THUMB_press_valid\"\\ndata-pid=\"214\"\\n>\\n<a href=\"#\" class=\"thumb\">\\n<img\\nsrc=\"https://s.pstatic.net/static/newsstand/2020/logo/light/0604/214.png\"\\nheight=\"20\"\\nalt=\"MBC\"\\nclass=\"news_logo\"\\n/>\\n<span class=\"thumb_dim\"></span\\n></a>\\n<div class=\"popup_wrap\">\\n<a\\nhref=\"#\"\\nrole=\"button\"\\nclass=\"btn_popup _NM_NEWSSTAND_THUMB_subscribe_press\"\\ndata-pid=\"214\"\\ndata-clk=\"sub\"\\n>구독</a\\n>\\n<a\\nhref=\"#\"\\nrole=\"button\"\\nclass=\"btn_popup _NM_NEWSSTAND_THUMB_unsubscribe_press\"\\ndata-pid=\"214\"\\ndata-clk=\"unsub\"\\n>해지</a\\n>\\n<a\\nhref=\"http://newsstand.naver.com/?list=&pcode=214\"\\ntarget=\"_blank\"\\nclass=\"btn_popup\"\\ndata-clk=\"logo\"\\ndata-pid=\"214\"\\n>기사보기</a\\n>\\n</div>\\n</div>\\n<div\\nclass=\"thumb_box _NM_NEWSSTAND_THUMB _NM_NEWSSTAND_THUMB_press_valid\"\\ndata-pid=\"330\"\\n>\\n<a href=\"#\" class=\"thumb\">\\n<img\\nsrc=\"https://s.pstatic.net/static/newsstand/2020/logo/light/0604/330.png\"\\nheight=\"20\"\\nalt=\"중앙데일리\"\\nclass=\"news_logo\"\\n/>\\n<span class=\"thumb_dim\"></span\\n></a>\\n<div class=\"popup_wrap\">\\n<a\\nhref=\"#\"\\nrole=\"button\"\\nclass=\"btn_popup _NM_NEWSSTAND_THUMB_subscribe_press\"\\ndata-pid=\"330\"\\ndata-clk=\"sub\"\\n>구독</a\\n>\\n<a\\nhref=\"#\"\\nrole=\"button\"\\nclass=\"btn_popup _NM_NEWSSTAND_THUMB_unsubscribe_press\"\\ndata-pid=\"330\"\\ndata-clk=\"unsub\"\\n>해지</a\\n>\\n<a\\nhref=\"http://newsstand.naver.com/?list=&pcode=330\"\\ntarget=\"_blank\"\\nclass=\"btn_popup\"\\ndata-clk=\"logo\"\\ndata-pid=\"330\"\\n>기사보기</a\\n>\\n</div>\\n</div>\\n<div\\nclass=\"thumb_box _NM_NEWSSTAND_THUMB _NM_NEWSSTAND_THUMB_press_valid\"\\ndata-pid=\"020\"\\n>\\n<a href=\"#\" class=\"thumb\">\\n<img\\nsrc=\"https://s.pstatic.net/static/newsstand/2020/logo/light/0604/020.png\"\\nheight=\"20\"\\nalt=\"동아일보\"\\nclass=\"news_logo\"\\n/>\\n<span class=\"thumb_dim\"></span\\n></a>\\n<div class=\"popup_wrap\">\\n<a\\nhref=\"#\"\\nrole=\"button\"\\nclass=\"btn_popup _NM_NEWSSTAND_THUMB_subscribe_press\"\\ndata-pid=\"020\"\\ndata-clk=\"sub\"\\n>구독</a\\n>\\n<a\\nhref=\"#\"\\nrole=\"button\"\\nclass=\"btn_popup _NM_NEWSSTAND_THUMB_unsubscribe_press\"\\ndata-pid=\"020\"\\ndata-clk=\"unsub\"\\n>해지</a\\n>\\n<a\\nhref=\"http://newsstand.naver.com/?list=&pcode=020\"\\ntarget=\"_blank\"\\nclass=\"btn_popup\"\\ndata-clk=\"logo\"\\ndata-pid=\"020\"\\n>기사보기</a\\n>\\n</div>\\n</div>\\n<div\\nclass=\"thumb_box _NM_NEWSSTAND_THUMB _NM_NEWSSTAND_THUMB_press_valid\"\\ndata-pid=\"016\"\\n>\\n<a href=\"#\" class=\"thumb\">\\n<img\\nsrc=\"https://s.pstatic.net/static/newsstand/2020/logo/light/0604/016.png\"\\nheight=\"20\"\\nalt=\"헤럴드경제\"\\nclass=\"news_logo\"\\n/>\\n<span class=\"thumb_dim\"></span\\n></a>\\n<div class=\"popup_wrap\">\\n<a\\nhref=\"#\"\\nrole=\"button\"\\nclass=\"btn_popup _NM_NEWSSTAND_THUMB_subscribe_press\"\\ndata-pid=\"016\"\\ndata-clk=\"sub\"\\n>구독</a\\n>\\n<a\\nhref=\"#\"\\nrole=\"button\"\\nclass=\"btn_popup _NM_NEWSSTAND_THUMB_unsubscribe_press\"\\ndata-pid=\"016\"\\ndata-clk=\"unsub\"\\n>해지</a\\n>\\n<a\\nhref=\"http://newsstand.naver.com/?list=&pcode=016\"\\ntarget=\"_blank\"\\nclass=\"btn_popup\"\\ndata-clk=\"logo\"\\ndata-pid=\"016\"\\n>기사보기</a\\n>\\n</div>\\n</div>\\n<div\\nclass=\"thumb_box _NM_NEWSSTAND_THUMB _NM_NEWSSTAND_THUMB_press_valid\"\\ndata-pid=\"368\"\\n>\\n<a href=\"#\" class=\"thumb\">\\n<img\\nsrc=\"https://s.pstatic.net/static/newsstand/2020/logo/light/0604/368.png\"\\nheight=\"20\"\\nalt=\"데일리안\"\\nclass=\"news_logo\"\\n/>\\n<span class=\"thumb_dim\"></span\\n></a>\\n<div class=\"popup_wrap\">\\n<a\\nhref=\"#\"\\nrole=\"button\"\\nclass=\"btn_popup _NM_NEWSSTAND_THUMB_subscribe_press\"\\ndata-pid=\"368\"\\ndata-clk=\"sub\"\\n>구독</a\\n>\\n<a\\nhref=\"#\"\\nrole=\"button\"\\nclass=\"btn_popup _NM_NEWSSTAND_THUMB_unsubscribe_press\"\\ndata-pid=\"368\"\\ndata-clk=\"unsub\"\\n>해지</a\\n>\\n<a\\nhref=\"http://newsstand.naver.com/?list=&pcode=368\"\\ntarget=\"_blank\"\\nclass=\"btn_popup\"\\ndata-clk=\"logo\"\\ndata-pid=\"368\"\\n>기사보기</a\\n>\\n</div>\\n</div>\\n<div\\nclass=\"thumb_box _NM_NEWSSTAND_THUMB _NM_NEWSSTAND_THUMB_press_valid\"\\ndata-pid=\"008\"\\n>\\n<a href=\"#\" class=\"thumb\">\\n<img\\nsrc=\"https://s.pstatic.net/static/newsstand/2020/logo/light/0604/008.png\"\\nheight=\"20\"\\nalt=\"머니투데이\"\\nclass=\"news_logo\"\\n/>\\n<span class=\"thumb_dim\"></span\\n></a>\\n<div class=\"popup_wrap\">\\n<a\\nhref=\"#\"\\nrole=\"button\"\\nclass=\"btn_popup _NM_NEWSSTAND_THUMB_subscribe_press\"\\ndata-pid=\"008\"\\ndata-clk=\"sub\"\\n>구독</a\\n>\\n<a\\nhref=\"#\"\\nrole=\"button\"\\nclass=\"btn_popup _NM_NEWSSTAND_THUMB_unsubscribe_press\"\\ndata-pid=\"008\"\\ndata-clk=\"unsub\"\\n>해지</a\\n>\\n<a\\nhref=\"http://newsstand.naver.com/?list=&pcode=008\"\\ntarget=\"_blank\"\\nclass=\"btn_popup\"\\ndata-clk=\"logo\"\\ndata-pid=\"008\"\\n>기사보기</a\\n>\\n</div>\\n</div>\\n<div\\nclass=\"thumb_box _NM_NEWSSTAND_THUMB _NM_NEWSSTAND_THUMB_press_valid\"\\ndata-pid=\"904\"\\n>\\n<a href=\"#\" class=\"thumb\">\\n<img\\nsrc=\"https://s.pstatic.net/static/newsstand/2020/logo/light/0604/904.png\"\\nheight=\"20\"\\nalt=\"JTBC\"\\nclass=\"news_logo\"\\n/>\\n<span class=\"thumb_dim\"></span\\n></a>\\n<div class=\"popup_wrap\">\\n<a\\nhref=\"#\"\\nrole=\"button\"\\nclass=\"btn_popup _NM_NEWSSTAND_THUMB_subscribe_press\"\\ndata-pid=\"904\"\\ndata-clk=\"sub\"\\n>구독</a\\n>\\n<a\\nhref=\"#\"\\nrole=\"button\"\\nclass=\"btn_popup _NM_NEWSSTAND_THUMB_unsubscribe_press\"\\ndata-pid=\"904\"\\ndata-clk=\"unsub\"\\n>해지</a\\n>\\n<a\\nhref=\"http://newsstand.naver.com/?list=&pcode=904\"\\ntarget=\"_blank\"\\nclass=\"btn_popup\"\\ndata-clk=\"logo\"\\ndata-pid=\"904\"\\n>기사보기</a\\n>\\n</div>\\n</div>\\n<div\\nclass=\"thumb_box _NM_NEWSSTAND_THUMB _NM_NEWSSTAND_THUMB_press_valid\"\\ndata-pid=\"277\"\\n>\\n<a href=\"#\" class=\"thumb\">\\n<img\\nsrc=\"https://s.pstatic.net/static/newsstand/2020/logo/light/0604/277.png\"\\nheight=\"20\"\\nalt=\"아시아경제\"\\nclass=\"news_logo\"\\n/>\\n<span class=\"thumb_dim\"></span\\n></a>\\n<div class=\"popup_wrap\">\\n<a\\nhref=\"#\"\\nrole=\"button\"\\nclass=\"btn_popup _NM_NEWSSTAND_THUMB_subscribe_press\"\\ndata-pid=\"277\"\\ndata-clk=\"sub\"\\n>구독</a\\n>\\n<a\\nhref=\"#\"\\nrole=\"button\"\\nclass=\"btn_popup _NM_NEWSSTAND_THUMB_unsubscribe_press\"\\ndata-pid=\"277\"\\ndata-clk=\"unsub\"\\n>해지</a\\n>\\n<a\\nhref=\"http://newsstand.naver.com/?list=&pcode=277\"\\ntarget=\"_blank\"\\nclass=\"btn_popup\"\\ndata-clk=\"logo\"\\ndata-pid=\"277\"\\n>기사보기</a\\n>\\n</div>\\n</div>\\n<div\\nclass=\"thumb_box _NM_NEWSSTAND_THUMB _NM_NEWSSTAND_THUMB_press_valid\"\\ndata-pid=\"117\"\\n>\\n<a href=\"#\" class=\"thumb\">\\n<img\\nsrc=\"https://s.pstatic.net/static/newsstand/2020/logo/light/0604/117.png\"\\nheight=\"20\"\\nalt=\"마이데일리\"\\nclass=\"news_logo\"\\n/>\\n<span class=\"thumb_dim\"></span\\n></a>\\n<div class=\"popup_wrap\">\\n<a\\nhref=\"#\"\\nrole=\"button\"\\nclass=\"btn_popup _NM_NEWSSTAND_THUMB_subscribe_press\"\\ndata-pid=\"117\"\\ndata-clk=\"sub\"\\n>구독</a\\n>\\n<a\\nhref=\"#\"\\nrole=\"button\"\\nclass=\"btn_popup _NM_NEWSSTAND_THUMB_unsubscribe_press\"\\ndata-pid=\"117\"\\ndata-clk=\"unsub\"\\n>해지</a\\n>\\n<a\\nhref=\"http://newsstand.naver.com/?list=&pcode=117\"\\ntarget=\"_blank\"\\nclass=\"btn_popup\"\\ndata-clk=\"logo\"\\ndata-pid=\"117\"\\n>기사보기</a\\n>\\n</div>\\n</div>\\n<div\\nclass=\"thumb_box _NM_NEWSSTAND_THUMB _NM_NEWSSTAND_THUMB_press_valid\"\\ndata-pid=\"338\"\\n>\\n<a href=\"#\" class=\"thumb\">\\n<img\\nsrc=\"https://s.pstatic.net/static/newsstand/2020/logo/light/0604/338.png\"\\nheight=\"20\"\\nalt=\"경인일보\"\\nclass=\"news_logo\"\\n/>\\n<span class=\"thumb_dim\"></span\\n></a>\\n<div class=\"popup_wrap\">\\n<a\\nhref=\"#\"\\nrole=\"button\"\\nclass=\"btn_popup _NM_NEWSSTAND_THUMB_subscribe_press\"\\ndata-pid=\"338\"\\ndata-clk=\"sub\"\\n>구독</a\\n>\\n<a\\nhref=\"#\"\\nrole=\"button\"\\nclass=\"btn_popup _NM_NEWSSTAND_THUMB_unsubscribe_press\"\\ndata-pid=\"338\"\\ndata-clk=\"unsub\"\\n>해지</a\\n>\\n<a\\nhref=\"http://newsstand.naver.com/?list=&pcode=338\"\\ntarget=\"_blank\"\\nclass=\"btn_popup\"\\ndata-clk=\"logo\"\\ndata-pid=\"338\"\\n>기사보기</a\\n>\\n</div>\\n</div>\\n<div\\nclass=\"thumb_box _NM_NEWSSTAND_THUMB _NM_NEWSSTAND_THUMB_press_valid\"\\ndata-pid=\"926\"\\n>\\n<a href=\"#\" class=\"thumb\">\\n<img\\nsrc=\"https://s.pstatic.net/static/newsstand/2020/logo/light/0604/926.png\"\\nheight=\"20\"\\nalt=\"중부일보\"\\nclass=\"news_logo\"\\n/>\\n<span class=\"thumb_dim\"></span\\n></a>\\n<div class=\"popup_wrap\">\\n<a\\nhref=\"#\"\\nrole=\"button\"\\nclass=\"btn_popup _NM_NEWSSTAND_THUMB_subscribe_press\"\\ndata-pid=\"926\"\\ndata-clk=\"sub\"\\n>구독</a\\n>\\n<a\\nhref=\"#\"\\nrole=\"button\"\\nclass=\"btn_popup _NM_NEWSSTAND_THUMB_unsubscribe_press\"\\ndata-pid=\"926\"\\ndata-clk=\"unsub\"\\n>해지</a\\n>\\n<a\\nhref=\"http://newsstand.naver.com/?list=&pcode=926\"\\ntarget=\"_blank\"\\nclass=\"btn_popup\"\\ndata-clk=\"logo\"\\ndata-pid=\"926\"\\n>기사보기</a\\n>\\n</div>\\n</div>\\n<div\\nclass=\"thumb_box _NM_NEWSSTAND_THUMB _NM_NEWSSTAND_THUMB_press_valid\"\\ndata-pid=\"909\"\\n>\\n<a href=\"#\" class=\"thumb\">\\n<img\\nsrc=\"https://s.pstatic.net/static/newsstand/2020/logo/light/0604/909.png\"\\nheight=\"20\"\\nalt=\"기호일보\"\\nclass=\"news_logo\"\\n/>\\n<span class=\"thumb_dim\"></span\\n></a>\\n<div class=\"popup_wrap\">\\n<a\\nhref=\"#\"\\nrole=\"button\"\\nclass=\"btn_popup _NM_NEWSSTAND_THUMB_subscribe_press\"\\ndata-pid=\"909\"\\ndata-clk=\"sub\"\\n>구독</a\\n>\\n<a\\nhref=\"#\"\\nrole=\"button\"\\nclass=\"btn_popup _NM_NEWSSTAND_THUMB_unsubscribe_press\"\\ndata-pid=\"909\"\\ndata-clk=\"unsub\"\\n>해지</a\\n>\\n<a\\nhref=\"http://newsstand.naver.com/?list=&pcode=909\"\\ntarget=\"_blank\"\\nclass=\"btn_popup\"\\ndata-clk=\"logo\"\\ndata-pid=\"909\"\\n>기사보기</a\\n>\\n</div>\\n</div>\\n<div\\nclass=\"thumb_box _NM_NEWSSTAND_THUMB _NM_NEWSSTAND_THUMB_press_valid\"\\ndata-pid=\"938\"\\n>\\n<a href=\"#\" class=\"thumb\">\\n<img\\nsrc=\"https://s.pstatic.net/static/newsstand/2020/logo/light/0604/938.png\"\\nheight=\"20\"\\nalt=\"그린포스트코리아\"\\nclass=\"news_logo\"\\n/>\\n<span class=\"thumb_dim\"></span\\n></a>\\n<div class=\"popup_wrap\">\\n<a\\nhref=\"#\"\\nrole=\"button\"\\nclass=\"btn_popup _NM_NEWSSTAND_THUMB_subscribe_press\"\\ndata-pid=\"938\"\\ndata-clk=\"sub\"\\n>구독</a\\n>\\n<a\\nhref=\"#\"\\nrole=\"button\"\\nclass=\"btn_popup _NM_NEWSSTAND_THUMB_unsubscribe_press\"\\ndata-pid=\"938\"\\ndata-clk=\"unsub\"\\n>해지</a\\n>\\n<a\\nhref=\"http://newsstand.naver.com/?list=&pcode=938\"\\ntarget=\"_blank\"\\nclass=\"btn_popup\"\\ndata-clk=\"logo\"\\ndata-pid=\"938\"\\n>기사보기</a\\n>\\n</div>\\n</div>\\n<div\\nclass=\"thumb_box _NM_NEWSSTAND_THUMB _NM_NEWSSTAND_THUMB_press_valid\"\\ndata-pid=\"932\"\\n>\\n<a href=\"#\" class=\"thumb\">\\n<img\\nsrc=\"https://s.pstatic.net/static/newsstand/2020/logo/light/0604/932.png\"\\nheight=\"20\"\\nalt=\"CEO스코어데일리\"\\nclass=\"news_logo\"\\n/>\\n<span class=\"thumb_dim\"></span\\n></a>\\n<div class=\"popup_wrap\">\\n<a\\nhref=\"#\"\\nrole=\"button\"\\nclass=\"btn_popup _NM_NEWSSTAND_THUMB_subscribe_press\"\\ndata-pid=\"932\"\\ndata-clk=\"sub\"\\n>구독</a\\n>\\n<a\\nhref=\"#\"\\nrole=\"button\"\\nclass=\"btn_popup _NM_NEWSSTAND_THUMB_unsubscribe_press\"\\ndata-pid=\"932\"\\ndata-clk=\"unsub\"\\n>해지</a\\n>\\n<a\\nhref=\"http://newsstand.naver.com/?list=&pcode=932\"\\ntarget=\"_blank\"\\nclass=\"btn_popup\"\\ndata-clk=\"logo\"\\ndata-pid=\"932\"\\n>기사보기</a\\n>\\n</div>\\n</div>\\n<div\\nclass=\"thumb_box _NM_NEWSSTAND_THUMB _NM_NEWSSTAND_THUMB_press_valid\"\\ndata-pid=\"977\"\\n>\\n<a href=\"#\" class=\"thumb\">\\n<img\\nsrc=\"https://s.pstatic.net/static/newsstand/2020/logo/light/0604/977.png\"\\nheight=\"20\"\\nalt=\"헬로디디\"\\nclass=\"news_logo\"\\n/>\\n<span class=\"thumb_dim\"></span\\n></a>\\n<div class=\"popup_wrap\">\\n<a\\nhref=\"#\"\\nrole=\"button\"\\nclass=\"btn_popup _NM_NEWSSTAND_THUMB_subscribe_press\"\\ndata-pid=\"977\"\\ndata-clk=\"sub\"\\n>구독</a\\n>\\n<a\\nhref=\"#\"\\nrole=\"button\"\\nclass=\"btn_popup _NM_NEWSSTAND_THUMB_unsubscribe_press\"\\ndata-pid=\"977\"\\ndata-clk=\"unsub\"\\n>해지</a\\n>\\n<a\\nhref=\"http://newsstand.naver.com/?list=&pcode=977\"\\ntarget=\"_blank\"\\nclass=\"btn_popup\"\\ndata-clk=\"logo\"\\ndata-pid=\"977\"\\n>기사보기</a\\n>\\n</div>\\n</div>\\n<div\\nclass=\"thumb_box _NM_NEWSSTAND_THUMB _NM_NEWSSTAND_THUMB_press_valid\"\\ndata-pid=\"974\"\\n>\\n<a href=\"#\" class=\"thumb\">\\n<img\\nsrc=\"https://s.pstatic.net/static/newsstand/2020/logo/light/0604/974.png\"\\nheight=\"20\"\\nalt=\"BBS NEWS\"\\nclass=\"news_logo\"\\n/>\\n<span class=\"thumb_dim\"></span\\n></a>\\n<div class=\"popup_wrap\">\\n<a\\nhref=\"#\"\\nrole=\"button\"\\nclass=\"btn_popup _NM_NEWSSTAND_THUMB_subscribe_press\"\\ndata-pid=\"974\"\\ndata-clk=\"sub\"\\n>구독</a\\n>\\n<a\\nhref=\"#\"\\nrole=\"button\"\\nclass=\"btn_popup _NM_NEWSSTAND_THUMB_unsubscribe_press\"\\ndata-pid=\"974\"\\ndata-clk=\"unsub\"\\n>해지</a\\n>\\n<a\\nhref=\"http://newsstand.naver.com/?list=&pcode=974\"\\ntarget=\"_blank\"\\nclass=\"btn_popup\"\\ndata-clk=\"logo\"\\ndata-pid=\"974\"\\n>기사보기</a\\n>\\n</div>\\n</div>\\n<div\\nclass=\"thumb_box _NM_NEWSSTAND_THUMB _NM_NEWSSTAND_THUMB_press_valid\"\\ndata-pid=\"947\"\\n>\\n<a href=\"#\" class=\"thumb\">\\n<img\\nsrc=\"https://s.pstatic.net/static/newsstand/2020/logo/light/0604/947.png\"\\nheight=\"20\"\\nalt=\"조이뉴스24\"\\nclass=\"news_logo\"\\n/>\\n<span class=\"thumb_dim\"></span\\n></a>\\n<div class=\"popup_wrap\">\\n<a\\nhref=\"#\"\\nrole=\"button\"\\nclass=\"btn_popup _NM_NEWSSTAND_THUMB_subscribe_press\"\\ndata-pid=\"947\"\\ndata-clk=\"sub\"\\n>구독</a\\n>\\n<a\\nhref=\"#\"\\nrole=\"button\"\\nclass=\"btn_popup _NM_NEWSSTAND_THUMB_unsubscribe_press\"\\ndata-pid=\"947\"\\ndata-clk=\"unsub\"\\n>해지</a\\n>\\n<a\\nhref=\"http://newsstand.naver.com/?list=&pcode=947\"\\ntarget=\"_blank\"\\nclass=\"btn_popup\"\\ndata-clk=\"logo\"\\ndata-pid=\"947\"\\n>기사보기</a\\n>\\n</div>\\n</div>\\n<div\\nclass=\"thumb_box _NM_NEWSSTAND_THUMB _NM_NEWSSTAND_THUMB_press_valid\"\\ndata-pid=\"902\"\\n>\\n<a href=\"#\" class=\"thumb\">\\n<img\\nsrc=\"https://s.pstatic.net/static/newsstand/2020/logo/light/0604/902.png\"\\nheight=\"20\"\\nalt=\"TV조선\"\\nclass=\"news_logo\"\\n/>\\n<span class=\"thumb_dim\"></span\\n></a>\\n<div class=\"popup_wrap\">\\n<a\\nhref=\"#\"\\nrole=\"button\"\\nclass=\"btn_popup _NM_NEWSSTAND_THUMB_subscribe_press\"\\ndata-pid=\"902\"\\ndata-clk=\"sub\"\\n>구독</a\\n>\\n<a\\nhref=\"#\"\\nrole=\"button\"\\nclass=\"btn_popup _NM_NEWSSTAND_THUMB_unsubscribe_press\"\\ndata-pid=\"902\"\\ndata-clk=\"unsub\"\\n>해지</a\\n>\\n<a\\nhref=\"http://newsstand.naver.com/?list=&pcode=902\"\\ntarget=\"_blank\"\\nclass=\"btn_popup\"\\ndata-clk=\"logo\"\\ndata-pid=\"902\"\\n>기사보기</a\\n>\\n</div>\\n</div>\\n</div>\\n</div>\\n</div>\\n  </div> <div class=\"ly_popup NM_NEWSSTAND_POPUP NM_NEWSSTAND_invalid\" style=\"display:none\"> <a href=\"#\" role=\"button\" class=\"btn_close NM_NEWSSTAND_POPUP_CLOSE\"><i class=\"ico_close\"></i><span class=\"blind\">닫기</span></a> <p class=\"popup_msg\">해당 언론사 사정으로 접근이 일시 제한됩니다.</p> <div class=\"popup_btn\"> <a href=\"#\" role=\"button\" class=\"btn_confirm NM_NEWSSTAND_POPUP_CLOSE\">확인</a> </div> </div> <div class=\"ly_popup NM_NEWSSTAND_POPUP NM_NEWSSTAND_undescribe_confirm\" style=\"display:none\" data-clk-sub=\"*a\"> <a href=\"#\" role=\"button\" class=\"btn_close NM_NEWSSTAND_POPUP_CLOSE\" data-clk=\"usclose\"><i class=\"ico_close\"></i><span class=\"blind\">닫기</span></a> <p class=\"popup_msg\"><strong class=\"NM_NEWSSTAND_POPUP_PNAME\"></strong>을(를)<br/>구독해지 하시겠습니까?</p> <div class=\"popup_btn\"> <a href=\"#\" role=\"button\" class=\"btn_confirm NM_NEWSSTAND_POPUP_CONFIRM\" data-clk=\"usdone\">확인</a> <a href=\"#\" role=\"button\" class=\"btn_confirm NM_NEWSSTAND_POPUP_CLOSE\" data-clk=\"uscancel\">취소</a> </div> </div> <div class=\"ly_toast NM_NEWSSTAND_TOAST\" style=\"display:none\"> <p class=\"toast_msg\">구독한 언론사에 추가되었습니다.</p> </div> </div> <div id=\"NM_NEWSSTAND_MY_LIST\" class=\"group_news\" style=\"display:none\" data-clk-prefix=\"nsd_myn\"> <a href=\"#\" role=\"button\" class=\"pm_btn_prev_l _NM_NEWSSTAND_LIST_prev_btn\" data-clk-custom=\"prev\"><i class=\"ico_btn\"></i><span class=\"blind\">이전</span></a> <a href=\"#\" role=\"button\" class=\"pm_btn_next_l _NM_NEWSSTAND_LIST_next_btn\" data-clk-custom=\"next\"><i class=\"ico_btn\"></i><span class=\"blind\">다음</span><span class=\"blind\">다음</span></a> <div class=\"list_view\"> <div class=\"option_area\"> <div class=\"list_option_wrap\"> <ul class=\"list_option _NM_NEWSSTAND_MY_presslist\"> <!-- nvpaperlist:empty --> </ul> </div> </div> <div class=\"_NM_NEWSSTAND_ARTICLE_CONTAINER\" data-clk-sub=\"*a\">  </div> </div> <div class=\"ly_popup NM_NEWSSTAND_POPUP NM_NEWSSTAND_invalid\" style=\"display:none\"> <a href=\"#\" role=\"button\" class=\"btn_close NM_NEWSSTAND_POPUP_CLOSE\"><i class=\"ico_close\"></i><span class=\"blind\">닫기</span></a> <p class=\"popup_msg\">해당 언론사 사정으로 접근이 일시 제한됩니다.</p> <div class=\"popup_btn\"> <a href=\"#\" role=\"button\" class=\"btn_confirm NM_NEWSSTAND_POPUP_CLOSE\">확인</a> </div> </div> <div class=\"ly_popup NM_NEWSSTAND_POPUP NM_NEWSSTAND_undescribe_confirm\" style=\"display:none\" data-clk-sub=\"*a\"> <a href=\"#\" role=\"button\" class=\"btn_close NM_NEWSSTAND_POPUP_CLOSE\" data-clk=\"usclose\"><i class=\"ico_close\"></i><span class=\"blind\">닫기</span></a> <p class=\"popup_msg\"><strong class=\"NM_NEWSSTAND_POPUP_PNAME\"></strong>을(를)<br>구독해지 하시겠습니까?</p> <div class=\"popup_btn\"> <a href=\"#\" role=\"button\" class=\"btn_confirm NM_NEWSSTAND_POPUP_CONFIRM\" data-clk=\"usdone\">확인</a> <a href=\"#\" role=\"button\" class=\"btn_confirm NM_NEWSSTAND_POPUP_CLOSE\" data-clk=\"uscancel\">취소</a> </div> </div> </div> <div id=\"NM_NEWSSTAND_MY_THUMB\" class=\"group_news\" style=\"display:none\" data-clk-prefix=\"nsd_myn\"> <a href=\"#\" role=\"button\" class=\"pm_btn_prev_l _NM_UI_PAGE_PREV\" data-clk-custom=\"prev\"><i class=\"ico_btn\"><span class=\"blind\">이전</span></i></a> <a href=\"#\" role=\"button\" class=\"pm_btn_next_l _NM_UI_PAGE_NEXT\" data-clk-custom=\"next\"><i class=\"ico_btn\"><span class=\"blind\">다음</span></i></a> <div class=\"_NM_UI_PAGE_CONTAINER\" data-clk-sub=\"*p\"></div> <div class=\"ly_popup NM_NEWSSTAND_POPUP NM_NEWSSTAND_invalid\" style=\"display:none\"> <a href=\"#\" role=\"button\" class=\"btn_close NM_NEWSSTAND_POPUP_CLOSE\"><i class=\"ico_close\"></i><span class=\"blind\">닫기</span></a> <p class=\"popup_msg\">해당 언론사 사정으로 접근이 일시 제한됩니다.</p> <div class=\"popup_btn\"> <a href=\"#\" role=\"button\" class=\"btn_confirm NM_NEWSSTAND_POPUP_CLOSE\">확인</a> </div> </div> <div class=\"ly_popup NM_NEWSSTAND_POPUP NM_NEWSSTAND_undescribe_confirm\" style=\"display:none\" data-clk-sub=\"*a\"> <a href=\"#\" role=\"button\" class=\"btn_close NM_NEWSSTAND_POPUP_CLOSE\" data-clk=\"usclose\"><i class=\"ico_close\"></i><span class=\"blind\">닫기</span></a> <p class=\"popup_msg\"><strong class=\"NM_NEWSSTAND_POPUP_PNAME\"></strong>을(를)<br>구독해지 하시겠습니까?</p> <div class=\"popup_btn\"> <a href=\"#\" role=\"button\" class=\"btn_confirm NM_NEWSSTAND_POPUP_CONFIRM\" data-clk=\"usdone\">확인</a> <a href=\"#\" role=\"button\" class=\"btn_confirm NM_NEWSSTAND_POPUP_CLOSE\" data-clk=\"uscancel\">취소</a> </div> </div> </div> <div id=\"NM_NEWSSTAND_MY_EMPTY\" class=\"group_news\" style=\"display:none\"> <div class=\"error_view\"> <div class=\"error_area\"> <strong class=\"error_msg\">구독한 언론사가 없습니다.</strong> <p class=\"dsc_msg\">언론사 구독 설정에서 관심있는 언론사를 구독하시면<br>언론사가 직접 편집한 뉴스들을 네이버 홈에서 바로 보실 수 있습니다.</p> <a href=\"http://newsstand.naver.com/config.html\" class=\"link_redirect\" target=\"_blank\">언론사 구독 설정하기</a> </div> </div> </div> </div> </div> <!-- EMPTY --> <div id=\"NM_THEMECAST_CONTENTS_CONTAINER\"> <div id=\"themecast\" class=\"sc_themecast id_gameapp\" >\\n\\t<h2 class=\"blind\">주제별 캐스트</h2>\\n\\t<div class=\"theme_head\">\\n\\t\\t<div class=\"group_title\">\\n\\t<div class=\"title_area\">\\n\\t\\t<strong class=\"title\">오늘 읽을만한 글</strong><span class=\"dsc\">주제별로 분류된 다양한 글 모음</span>\\n\\t</div>\\n\\t<div class=\"info_area\">\\n\\t\\t\\n\\t\\t\\t<span class=\"info\"><strong class=\"new\">1,778</strong> 개의 글</span>\\n\\t\\t\\n\\t\\t<a id=\"NM_THEME_EDIT_SET\" href=\"#\" role=\"button\" class=\"btn_set\" data-clk=\"tca.like\">관심주제 설정</a>\\n\\t</div>\\n</div>\\n<div class=\"theme_fix_wrap\">\\n\\t<div id=\"NM_THEME_CATE_GROUPS\" class=\"group_category\" data-demo-key=\"default\">\\n\\t\\t<div class=\"main_category\">\\n\\t\\t\\t<a href=\"#\" role=\"button\" class=\"pm_btn_prev NM_THEME_PREV\" data-clk=\"tct.prev\" style=\"display: none;\">\\n\\t\\t\\t\\t<i class=\"ico_btn\"><span class=\"blind\">이전</span></i>\\n\\t\\t\\t</a>\\n\\t\\t\\t<a href=\"#\" role=\"button\" class=\"pm_btn_next NM_THEME_NEXT\" data-clk=\"tct.next\" style=\"display: none;\">\\n\\t\\t\\t\\t<i class=\"ico_btn\"><span class=\"blind\">다음</span></i>\\n\\t\\t\\t</a>\\n\\t\\t\\t<div id=\"NM_THEME_CATE_FLICK\" class=\"_NM_UI_PAGE_CONTAINER\" style=\"height: 49px; overflow: hidden;\">\\n\\t\\t\\t\\t\\n\\t\\t\\t\\t\\t<div style=\"width: 750px;\">\\n\\t\\t\\t\\t\\t\\t<ul class=\"list_category\" role=\"tablist\">\\n\\t\\t\\t\\t\\t\\t\\t\\n\\t\\t\\t\\t\\t\\t\\t\\t<li class=\"category_item\" role=\"presentation\">\\n\\t\\t\\t\\t\\t\\t\\t\\t\\t\\n\\t\\t\\t\\t\\t\\t\\t\\t\\t\\n\\t\\t\\t\\t\\t\\t\\t\\t\\t<a href=\"#\" role=\"tab\" class=\"_NM_THEME_CATE tab id_enter\"\\n\\t\\t\\t\\t\\t\\t\\t\\t\\t   aria-selected=\"false\"\\n\\t\\t\\t\\t\\t\\t\\t\\t\\t   data-clk=\"tct.tvc\" data-panel-code=\"ENTER\">엔터</a>\\n\\t\\t\\t\\t\\t\\t\\t\\t</li>\\n\\t\\t\\t\\t\\t\\t\\t\\n\\t\\t\\t\\t\\t\\t\\t\\t<li class=\"category_item\" role=\"presentation\">\\n\\t\\t\\t\\t\\t\\t\\t\\t\\t\\n\\t\\t\\t\\t\\t\\t\\t\\t\\t\\n\\t\\t\\t\\t\\t\\t\\t\\t\\t<a href=\"#\" role=\"tab\" class=\"_NM_THEME_CATE tab id_sports\"\\n\\t\\t\\t\\t\\t\\t\\t\\t\\t   aria-selected=\"false\"\\n\\t\\t\\t\\t\\t\\t\\t\\t\\t   data-clk=\"tct.spo\" data-panel-code=\"SPORTS\">스포츠</a>\\n\\t\\t\\t\\t\\t\\t\\t\\t</li>\\n\\t\\t\\t\\t\\t\\t\\t\\n\\t\\t\\t\\t\\t\\t\\t\\t<li class=\"category_item\" role=\"presentation\">\\n\\t\\t\\t\\t\\t\\t\\t\\t\\t\\n\\t\\t\\t\\t\\t\\t\\t\\t\\t\\n\\t\\t\\t\\t\\t\\t\\t\\t\\t<a href=\"#\" role=\"tab\" class=\"_NM_THEME_CATE tab id_cargame\"\\n\\t\\t\\t\\t\\t\\t\\t\\t\\t   aria-selected=\"false\"\\n\\t\\t\\t\\t\\t\\t\\t\\t\\t   data-clk=\"tct.aut\" data-panel-code=\"CARGAME\">자동차</a>\\n\\t\\t\\t\\t\\t\\t\\t\\t</li>\\n\\t\\t\\t\\t\\t\\t\\t\\n\\t\\t\\t\\t\\t\\t\\t\\t<li class=\"category_item\" role=\"presentation\">\\n\\t\\t\\t\\t\\t\\t\\t\\t\\t\\n\\t\\t\\t\\t\\t\\t\\t\\t\\t\\n\\t\\t\\t\\t\\t\\t\\t\\t\\t<a href=\"#\" role=\"tab\" class=\"_NM_THEME_CATE tab id_bboom\"\\n\\t\\t\\t\\t\\t\\t\\t\\t\\t   aria-selected=\"false\"\\n\\t\\t\\t\\t\\t\\t\\t\\t\\t   data-clk=\"tct.web\" data-panel-code=\"BBOOM\">웹툰</a>\\n\\t\\t\\t\\t\\t\\t\\t\\t</li>\\n\\t\\t\\t\\t\\t\\t\\t\\n\\t\\t\\t\\t\\t\\t\\t\\t<li class=\"category_item\" role=\"presentation\">\\n\\t\\t\\t\\t\\t\\t\\t\\t\\t\\n\\t\\t\\t\\t\\t\\t\\t\\t\\t\\n\\t\\t\\t\\t\\t\\t\\t\\t\\t<a href=\"#\" role=\"tab\" class=\"_NM_THEME_CATE tab id_finance\"\\n\\t\\t\\t\\t\\t\\t\\t\\t\\t   aria-selected=\"false\"\\n\\t\\t\\t\\t\\t\\t\\t\\t\\t   data-clk=\"tct.fin\" data-panel-code=\"FINANCE\">경제M</a>\\n\\t\\t\\t\\t\\t\\t\\t\\t</li>\\n\\t\\t\\t\\t\\t\\t\\t\\n\\t\\t\\t\\t\\t\\t\\t\\t<li class=\"category_item\" role=\"presentation\">\\n\\t\\t\\t\\t\\t\\t\\t\\t\\t\\n\\t\\t\\t\\t\\t\\t\\t\\t\\t\\n\\t\\t\\t\\t\\t\\t\\t\\t\\t<a href=\"#\" role=\"tab\" class=\"_NM_THEME_CATE tab id_living\"\\n\\t\\t\\t\\t\\t\\t\\t\\t\\t   aria-selected=\"false\"\\n\\t\\t\\t\\t\\t\\t\\t\\t\\t   data-clk=\"tct.fod\" data-panel-code=\"LIVING\">푸드</a>\\n\\t\\t\\t\\t\\t\\t\\t\\t</li>\\n\\t\\t\\t\\t\\t\\t\\t\\n\\t\\t\\t\\t\\t\\t\\t\\t<li class=\"category_item\" role=\"presentation\">\\n\\t\\t\\t\\t\\t\\t\\t\\t\\t\\n\\t\\t\\t\\t\\t\\t\\t\\t\\t\\n\\t\\t\\t\\t\\t\\t\\t\\t\\t<a href=\"#\" role=\"tab\" class=\"_NM_THEME_CATE tab id_gameapp\"\\n\\t\\t\\t\\t\\t\\t\\t\\t\\t   aria-selected=\"true\"\\n\\t\\t\\t\\t\\t\\t\\t\\t\\t   data-clk=\"tct.gam\" data-panel-code=\"GAMEAPP\">게임</a>\\n\\t\\t\\t\\t\\t\\t\\t\\t</li>\\n\\t\\t\\t\\t\\t\\t\\t\\n\\t\\t\\t\\t\\t\\t\\t\\t<li class=\"category_item\" role=\"presentation\">\\n\\t\\t\\t\\t\\t\\t\\t\\t\\t\\n\\t\\t\\t\\t\\t\\t\\t\\t\\t\\n\\t\\t\\t\\t\\t\\t\\t\\t\\t<a href=\"#\" role=\"tab\" class=\"_NM_THEME_CATE tab id_movie\"\\n\\t\\t\\t\\t\\t\\t\\t\\t\\t   aria-selected=\"false\"\\n\\t\\t\\t\\t\\t\\t\\t\\t\\t   data-clk=\"tct.mov\" data-panel-code=\"MOVIE\">영화</a>\\n\\t\\t\\t\\t\\t\\t\\t\\t</li>\\n\\t\\t\\t\\t\\t\\t\\t\\n\\t\\t\\t\\t\\t\\t</ul>\\n\\t\\t\\t\\t\\t</div>\\n\\t\\t\\t\\t\\n\\t\\t\\t\\t\\t<div style=\"width: 750px;\">\\n\\t\\t\\t\\t\\t\\t<ul class=\"list_category\" role=\"tablist\">\\n\\t\\t\\t\\t\\t\\t\\t\\n\\t\\t\\t\\t\\t\\t\\t\\t<li class=\"category_item\" role=\"presentation\">\\n\\t\\t\\t\\t\\t\\t\\t\\t\\t\\n\\t\\t\\t\\t\\t\\t\\t\\t\\t\\n\\t\\t\\t\\t\\t\\t\\t\\t\\t<a href=\"#\" role=\"tab\" class=\"_NM_THEME_CATE tab id_job\"\\n\\t\\t\\t\\t\\t\\t\\t\\t\\t   aria-selected=\"false\"\\n\\t\\t\\t\\t\\t\\t\\t\\t\\t   data-clk=\"tct.job\" data-panel-code=\"JOB\">JOB&amp;</a>\\n\\t\\t\\t\\t\\t\\t\\t\\t</li>\\n\\t\\t\\t\\t\\t\\t\\t\\n\\t\\t\\t\\t\\t\\t\\t\\t<li class=\"category_item\" role=\"presentation\">\\n\\t\\t\\t\\t\\t\\t\\t\\t\\t\\n\\t\\t\\t\\t\\t\\t\\t\\t\\t\\n\\t\\t\\t\\t\\t\\t\\t\\t\\t<a href=\"#\" role=\"tab\" class=\"_NM_THEME_CATE tab id_ittech\"\\n\\t\\t\\t\\t\\t\\t\\t\\t\\t   aria-selected=\"false\"\\n\\t\\t\\t\\t\\t\\t\\t\\t\\t   data-clk=\"tct.tec\" data-panel-code=\"ITTECH\">테크</a>\\n\\t\\t\\t\\t\\t\\t\\t\\t</li>\\n\\t\\t\\t\\t\\t\\t\\t\\n\\t\\t\\t\\t\\t\\t\\t\\t<li class=\"category_item\" role=\"presentation\">\\n\\t\\t\\t\\t\\t\\t\\t\\t\\t\\n\\t\\t\\t\\t\\t\\t\\t\\t\\t\\n\\t\\t\\t\\t\\t\\t\\t\\t\\t<a href=\"#\" role=\"tab\" class=\"_NM_THEME_CATE tab id_travel\"\\n\\t\\t\\t\\t\\t\\t\\t\\t\\t   aria-selected=\"false\"\\n\\t\\t\\t\\t\\t\\t\\t\\t\\t   data-clk=\"tct.tra\" data-panel-code=\"TRAVEL\">여행+</a>\\n\\t\\t\\t\\t\\t\\t\\t\\t</li>\\n\\t\\t\\t\\t\\t\\t\\t\\n\\t\\t\\t\\t\\t\\t\\t\\t<li class=\"category_item\" role=\"presentation\">\\n\\t\\t\\t\\t\\t\\t\\t\\t\\t\\n\\t\\t\\t\\t\\t\\t\\t\\t\\t\\n\\t\\t\\t\\t\\t\\t\\t\\t\\t<a href=\"#\" role=\"tab\" class=\"_NM_THEME_CATE tab id_science\"\\n\\t\\t\\t\\t\\t\\t\\t\\t\\t   aria-selected=\"false\"\\n\\t\\t\\t\\t\\t\\t\\t\\t\\t   data-clk=\"tct.sci\" data-panel-code=\"SCIENCE\">과학</a>\\n\\t\\t\\t\\t\\t\\t\\t\\t</li>\\n\\t\\t\\t\\t\\t\\t\\t\\n\\t\\t\\t\\t\\t\\t\\t\\t<li class=\"category_item\" role=\"presentation\">\\n\\t\\t\\t\\t\\t\\t\\t\\t\\t\\n\\t\\t\\t\\t\\t\\t\\t\\t\\t\\n\\t\\t\\t\\t\\t\\t\\t\\t\\t<a href=\"#\" role=\"tab\" class=\"_NM_THEME_CATE tab id_livinghome\"\\n\\t\\t\\t\\t\\t\\t\\t\\t\\t   aria-selected=\"false\"\\n\\t\\t\\t\\t\\t\\t\\t\\t\\t   data-clk=\"tct.lif\" data-panel-code=\"LIVINGHOME\">리빙</a>\\n\\t\\t\\t\\t\\t\\t\\t\\t</li>\\n\\t\\t\\t\\t\\t\\t\\t\\n\\t\\t\\t\\t\\t\\t\\t\\t<li class=\"category_item\" role=\"presentation\">\\n\\t\\t\\t\\t\\t\\t\\t\\t\\t\\n\\t\\t\\t\\t\\t\\t\\t\\t\\t\\n\\t\\t\\t\\t\\t\\t\\t\\t\\t<a href=\"#\" role=\"tab\" class=\"_NM_THEME_CATE tab id_health\"\\n\\t\\t\\t\\t\\t\\t\\t\\t\\t   aria-selected=\"false\"\\n\\t\\t\\t\\t\\t\\t\\t\\t\\t   data-clk=\"tct.hea\" data-panel-code=\"HEALTH\">건강</a>\\n\\t\\t\\t\\t\\t\\t\\t\\t</li>\\n\\t\\t\\t\\t\\t\\t\\t\\n\\t\\t\\t\\t\\t\\t\\t\\t<li class=\"category_item\" role=\"presentation\">\\n\\t\\t\\t\\t\\t\\t\\t\\t\\t\\n\\t\\t\\t\\t\\t\\t\\t\\t\\t\\n\\t\\t\\t\\t\\t\\t\\t\\t\\t<a href=\"#\" role=\"tab\" class=\"_NM_THEME_CATE tab id_business\"\\n\\t\\t\\t\\t\\t\\t\\t\\t\\t   aria-selected=\"false\"\\n\\t\\t\\t\\t\\t\\t\\t\\t\\t   data-clk=\"tct.bsn\" data-panel-code=\"BUSINESS\">비즈니스</a>\\n\\t\\t\\t\\t\\t\\t\\t\\t</li>\\n\\t\\t\\t\\t\\t\\t\\t\\n\\t\\t\\t\\t\\t\\t\\t\\t<li class=\"category_item\" role=\"presentation\">\\n\\t\\t\\t\\t\\t\\t\\t\\t\\t\\n\\t\\t\\t\\t\\t\\t\\t\\t\\t\\n\\t\\t\\t\\t\\t\\t\\t\\t\\t<a href=\"#\" role=\"tab\" class=\"_NM_THEME_CATE tab id_wedding\"\\n\\t\\t\\t\\t\\t\\t\\t\\t\\t   aria-selected=\"false\"\\n\\t\\t\\t\\t\\t\\t\\t\\t\\t   data-clk=\"tct.wed\" data-panel-code=\"WEDDING\">연애·결혼</a>\\n\\t\\t\\t\\t\\t\\t\\t\\t</li>\\n\\t\\t\\t\\t\\t\\t\\t\\n\\t\\t\\t\\t\\t\\t</ul>\\n\\t\\t\\t\\t\\t</div>\\n\\t\\t\\t\\t\\n\\t\\t\\t\\t\\t<div style=\"width: 750px;\">\\n\\t\\t\\t\\t\\t\\t<ul class=\"list_category\" role=\"tablist\">\\n\\t\\t\\t\\t\\t\\t\\t\\n\\t\\t\\t\\t\\t\\t\\t\\t<li class=\"category_item\" role=\"presentation\">\\n\\t\\t\\t\\t\\t\\t\\t\\t\\t\\n\\t\\t\\t\\t\\t\\t\\t\\t\\t\\n\\t\\t\\t\\t\\t\\t\\t\\t\\t<a href=\"#\" role=\"tab\" class=\"_NM_THEME_CATE tab id_culture\"\\n\\t\\t\\t\\t\\t\\t\\t\\t\\t   aria-selected=\"false\"\\n\\t\\t\\t\\t\\t\\t\\t\\t\\t   data-clk=\"tct.bok\" data-panel-code=\"CULTURE\">책문화</a>\\n\\t\\t\\t\\t\\t\\t\\t\\t</li>\\n\\t\\t\\t\\t\\t\\t\\t\\n\\t\\t\\t\\t\\t\\t\\t\\t<li class=\"category_item\" role=\"presentation\">\\n\\t\\t\\t\\t\\t\\t\\t\\t\\t\\n\\t\\t\\t\\t\\t\\t\\t\\t\\t\\n\\t\\t\\t\\t\\t\\t\\t\\t\\t<a href=\"#\" role=\"tab\" class=\"_NM_THEME_CATE tab id_momkids\"\\n\\t\\t\\t\\t\\t\\t\\t\\t\\t   aria-selected=\"false\"\\n\\t\\t\\t\\t\\t\\t\\t\\t\\t   data-clk=\"tct.mom\" data-panel-code=\"MOMKIDS\">부모i</a>\\n\\t\\t\\t\\t\\t\\t\\t\\t</li>\\n\\t\\t\\t\\t\\t\\t\\t\\n\\t\\t\\t\\t\\t\\t\\t\\t<li class=\"category_item\" role=\"presentation\">\\n\\t\\t\\t\\t\\t\\t\\t\\t\\t\\n\\t\\t\\t\\t\\t\\t\\t\\t\\t\\n\\t\\t\\t\\t\\t\\t\\t\\t\\t<a href=\"#\" role=\"tab\" class=\"_NM_THEME_CATE tab id_law\"\\n\\t\\t\\t\\t\\t\\t\\t\\t\\t   aria-selected=\"false\"\\n\\t\\t\\t\\t\\t\\t\\t\\t\\t   data-clk=\"tct.law\" data-panel-code=\"LAW\">법률</a>\\n\\t\\t\\t\\t\\t\\t\\t\\t</li>\\n\\t\\t\\t\\t\\t\\t\\t\\n\\t\\t\\t\\t\\t\\t\\t\\t<li class=\"category_item\" role=\"presentation\">\\n\\t\\t\\t\\t\\t\\t\\t\\t\\t\\n\\t\\t\\t\\t\\t\\t\\t\\t\\t\\n\\t\\t\\t\\t\\t\\t\\t\\t\\t<a href=\"#\" role=\"tab\" class=\"_NM_THEME_CATE tab id_beauty\"\\n\\t\\t\\t\\t\\t\\t\\t\\t\\t   aria-selected=\"false\"\\n\\t\\t\\t\\t\\t\\t\\t\\t\\t   data-clk=\"tct.bty\" data-panel-code=\"BEAUTY\">패션뷰티</a>\\n\\t\\t\\t\\t\\t\\t\\t\\t</li>\\n\\t\\t\\t\\t\\t\\t\\t\\n\\t\\t\\t\\t\\t\\t\\t\\t<li class=\"category_item\" role=\"presentation\">\\n\\t\\t\\t\\t\\t\\t\\t\\t\\t\\n\\t\\t\\t\\t\\t\\t\\t\\t\\t\\n\\t\\t\\t\\t\\t\\t\\t\\t\\t<a href=\"#\" role=\"tab\" class=\"_NM_THEME_CATE tab id_animal\"\\n\\t\\t\\t\\t\\t\\t\\t\\t\\t   aria-selected=\"false\"\\n\\t\\t\\t\\t\\t\\t\\t\\t\\t   data-clk=\"tct.ani\" data-panel-code=\"ANIMAL\">동물공감</a>\\n\\t\\t\\t\\t\\t\\t\\t\\t</li>\\n\\t\\t\\t\\t\\t\\t\\t\\n\\t\\t\\t\\t\\t\\t\\t\\t<li class=\"category_item\" role=\"presentation\">\\n\\t\\t\\t\\t\\t\\t\\t\\t\\t\\n\\t\\t\\t\\t\\t\\t\\t\\t\\t\\n\\t\\t\\t\\t\\t\\t\\t\\t\\t<a href=\"#\" role=\"tab\" class=\"_NM_THEME_CATE tab id_design\"\\n\\t\\t\\t\\t\\t\\t\\t\\t\\t   aria-selected=\"false\"\\n\\t\\t\\t\\t\\t\\t\\t\\t\\t   data-clk=\"tct.des\" data-panel-code=\"DESIGN\">디자인</a>\\n\\t\\t\\t\\t\\t\\t\\t\\t</li>\\n\\t\\t\\t\\t\\t\\t\\t\\n\\t\\t\\t\\t\\t\\t\\t\\t<li class=\"category_item\" role=\"presentation\">\\n\\t\\t\\t\\t\\t\\t\\t\\t\\t\\n\\t\\t\\t\\t\\t\\t\\t\\t\\t\\n\\t\\t\\t\\t\\t\\t\\t\\t\\t<a href=\"#\" role=\"tab\" class=\"_NM_THEME_CATE tab id_china\"\\n\\t\\t\\t\\t\\t\\t\\t\\t\\t   aria-selected=\"false\"\\n\\t\\t\\t\\t\\t\\t\\t\\t\\t   data-clk=\"tct.chn\" data-panel-code=\"CHINA\">중국</a>\\n\\t\\t\\t\\t\\t\\t\\t\\t</li>\\n\\t\\t\\t\\t\\t\\t\\t\\n\\t\\t\\t\\t\\t\\t\\t\\t<li class=\"category_item\" role=\"presentation\">\\n\\t\\t\\t\\t\\t\\t\\t\\t\\t\\n\\t\\t\\t\\t\\t\\t\\t\\t\\t\\n\\t\\t\\t\\t\\t\\t\\t\\t\\t<a href=\"#\" role=\"tab\" class=\"_NM_THEME_CATE tab id_farm\"\\n\\t\\t\\t\\t\\t\\t\\t\\t\\t   aria-selected=\"false\"\\n\\t\\t\\t\\t\\t\\t\\t\\t\\t   data-clk=\"tct.far\" data-panel-code=\"FARM\">FARM</a>\\n\\t\\t\\t\\t\\t\\t\\t\\t</li>\\n\\t\\t\\t\\t\\t\\t\\t\\n\\t\\t\\t\\t\\t\\t</ul>\\n\\t\\t\\t\\t\\t</div>\\n\\t\\t\\t\\t\\n\\t\\t\\t\\t\\t<div style=\"width: 750px;\">\\n\\t\\t\\t\\t\\t\\t<ul class=\"list_category\" role=\"tablist\">\\n\\t\\t\\t\\t\\t\\t\\t\\n\\t\\t\\t\\t\\t\\t\\t\\t<li class=\"category_item\" role=\"presentation\">\\n\\t\\t\\t\\t\\t\\t\\t\\t\\t\\n\\t\\t\\t\\t\\t\\t\\t\\t\\t\\n\\t\\t\\t\\t\\t\\t\\t\\t\\t<a href=\"#\" role=\"tab\" class=\"_NM_THEME_CATE tab id_show\"\\n\\t\\t\\t\\t\\t\\t\\t\\t\\t   aria-selected=\"false\"\\n\\t\\t\\t\\t\\t\\t\\t\\t\\t   data-clk=\"tct.sow\" data-panel-code=\"SHOW\">공연전시</a>\\n\\t\\t\\t\\t\\t\\t\\t\\t</li>\\n\\t\\t\\t\\t\\t\\t\\t\\n\\t\\t\\t\\t\\t\\t\\t\\t<li class=\"category_item\" role=\"presentation\">\\n\\t\\t\\t\\t\\t\\t\\t\\t\\t\\n\\t\\t\\t\\t\\t\\t\\t\\t\\t\\n\\t\\t\\t\\t\\t\\t\\t\\t\\t<a href=\"#\" role=\"tab\" class=\"_NM_THEME_CATE tab id_with\"\\n\\t\\t\\t\\t\\t\\t\\t\\t\\t   aria-selected=\"false\"\\n\\t\\t\\t\\t\\t\\t\\t\\t\\t   data-clk=\"tct.pub\" data-panel-code=\"WITH\">함께N</a>\\n\\t\\t\\t\\t\\t\\t\\t\\t</li>\\n\\t\\t\\t\\t\\t\\t\\t\\n\\t\\t\\t\\t\\t\\t\\t\\t<li class=\"category_item\" role=\"presentation\">\\n\\t\\t\\t\\t\\t\\t\\t\\t\\t\\n\\t\\t\\t\\t\\t\\t\\t\\t\\t\\n\\t\\t\\t\\t\\t\\t\\t\\t\\t<a href=\"#\" role=\"tab\" class=\"_NM_THEME_CATE tab id_school\"\\n\\t\\t\\t\\t\\t\\t\\t\\t\\t   aria-selected=\"false\"\\n\\t\\t\\t\\t\\t\\t\\t\\t\\t   data-clk=\"tct.scl\" data-panel-code=\"SCHOOL\">스쿨잼</a>\\n\\t\\t\\t\\t\\t\\t\\t\\t</li>\\n\\t\\t\\t\\t\\t\\t\\t\\n\\t\\t\\t\\t\\t\\t</ul>\\n\\t\\t\\t\\t\\t</div>\\n\\t\\t\\t\\t\\n\\t\\t\\t</div>\\n\\t\\t</div>\\n\\t</div>\\n</div>\\n\\n\\t</div>\\n\\t<div class=\"theme_cont\" data-panel-code=\"GAMEAPP\">\\n\\t\\t\\n<div class=\"group_theme\" data-block-id=\"\" data-block-code=\"PC-THEME-GAMEAPP-MOBILE-RANKING-DEFAULT-0\" data-block-type=\"MATERIALS\" data-template-code=\"MOBILE-RANKING-LIST\"\\n\\n\\t data-da=\"container\"\\n\\t data-index=\"\"\\n     data-page=\"1\"\\n\\t >\\n\\n\\t<div class=\"list_theme_wrap\">\\n\\t\\t<ul class=\"list_theme\">\\n\\t\\t\\t\\n\\t\\t\\t\\t<li class=\"theme_item\" data-gdid=\"CAS_2a49723b-7597-11eb-83fb-2909fe24a208\" data-da-position=\"true\">\\n\\t\\t\\t\\t\\t<a href=\"https://post.naver.com/viewer/postView.nhn?volumeNo&#x3D;30786154&amp;memberNo&#x3D;38830729&amp;navigationType&#x3D;push\" class=\"theme_thumb\" data-clk=\"tcc_gam.list1cont1\" target=\"_blank\">\\n\\t\\t\\t\\t\\t\\t<img src=\"https://s.pstatic.net/dthumb.phinf/?src&#x3D;%22https%3A%2F%2Fs.pstatic.net%2Fstatic%2Fwww%2Fmobile%2Fedit%2F2021%2F0223%2Fupload_1614074694854MBG8P.jpg%22&amp;type&#x3D;nf340_228\" data-src=\"https://s.pstatic.net/dthumb.phinf/?src&#x3D;%22https%3A%2F%2Fs.pstatic.net%2Fstatic%2Fwww%2Fmobile%2Fedit%2F2021%2F0223%2Fupload_1614074694854MBG8P.jpg%22&amp;type&#x3D;nf340_228\" alt=\"넥슨 ‘메이플’ 유저들 “모든 랜덤박스 확률 공개하라”\" width=\"170\" height=\"114\">\\n\\t\\t\\t\\t\\t\\t<span class=\"thumb_bd\"></span>\\n\\t\\t\\t\\t\\t</a>\\n\\t\\t\\t\\t\\t<a href=\"https://post.naver.com/viewer/postView.nhn?volumeNo&#x3D;30786154&amp;memberNo&#x3D;38830729&amp;navigationType&#x3D;push\" class=\"theme_info\" data-clk=\"tcc_gam.list1cont1\" target=\"_blank\">\\n\\t\\t\\t\\t\\t\\t<em class=\"theme_category\"> 게임</em>\\n\\t\\t\\t\\t\\t\\t<strong class=\"title elss\">넥슨 ‘메이플’ 유저들 “모든 랜덤박스 확률 공개하라”</strong>\\n\\t\\t\\t\\t\\t\\t<p class=\"desc\">메이플스토리 유저들이 사측에 모든 랜덤박스 확률 공개를 요구했다. ‘환생의 불꽃’ 확률 논란의 내막이 드러난 뒤, 확률 요소가 있는 다른 콘텐츠들에 대해서도 의구심이 생겼기 때문이다. 메이플스토리는 넥슨이 서비스하는 MMORPG다. 메이플스토리 유저들은 23일 사설 커뮤니티에서 3차 성명문과 트럭시위 계획을 발표했다. 성명문의 골자는 </p>\\n\\t\\t\\t\\t\\t\\t<div class=\"source_box\">\\n\\t\\t\\t\\t\\t\\t\\t<span class=\"date\">어제</span>\\n\\t\\t\\t\\t\\t\\t\\t<span class=\"source\"><span class=\"source_inner\">이코리아</span></span>\\n\\t\\t\\t\\t\\t\\t</div>\\n\\t\\t\\t\\t\\t</a>\\n\\t\\t\\t\\t</li>\\n\\t\\t\\t\\n\\t\\t\\t\\t<li class=\"theme_item\" data-gdid=\"CAS_2a49723a-7597-11eb-83fb-5920bdb91744\" data-da-position=\"true\">\\n\\t\\t\\t\\t\\t<a href=\"https://post.naver.com/viewer/postView.nhn?volumeNo&#x3D;30786286&amp;memberNo&#x3D;34059480&amp;navigationType&#x3D;push\" class=\"theme_thumb\" data-clk=\"tcc_gam.list1cont2\" target=\"_blank\">\\n\\t\\t\\t\\t\\t\\t<img src=\"https://s.pstatic.net/dthumb.phinf/?src&#x3D;%22https%3A%2F%2Fs.pstatic.net%2Fstatic%2Fwww%2Fmobile%2Fedit%2F2021%2F0223%2Fupload_1614074648993PSUxN.jpg%22&amp;type&#x3D;nf340_228\" data-src=\"https://s.pstatic.net/dthumb.phinf/?src&#x3D;%22https%3A%2F%2Fs.pstatic.net%2Fstatic%2Fwww%2Fmobile%2Fedit%2F2021%2F0223%2Fupload_1614074648993PSUxN.jpg%22&amp;type&#x3D;nf340_228\" alt=\"라이엇, LoL 기반 MMORPG 개발자 공개 모집 시작\" width=\"170\" height=\"114\">\\n\\t\\t\\t\\t\\t\\t<span class=\"thumb_bd\"></span>\\n\\t\\t\\t\\t\\t</a>\\n\\t\\t\\t\\t\\t<a href=\"https://post.naver.com/viewer/postView.nhn?volumeNo&#x3D;30786286&amp;memberNo&#x3D;34059480&amp;navigationType&#x3D;push\" class=\"theme_info\" data-clk=\"tcc_gam.list1cont2\" target=\"_blank\">\\n\\t\\t\\t\\t\\t\\t<em class=\"theme_category\"> 게임</em>\\n\\t\\t\\t\\t\\t\\t<strong class=\"title elss\">라이엇, LoL 기반 MMORPG 개발자 공개 모집 시작</strong>\\n\\t\\t\\t\\t\\t\\t<p class=\"desc\">라이엇게임즈가 ‘리그 오브 레전드(LoL)’ 기반의 신작 MMORPG 개발을 본격화한다. 23일(한국시각) 공식 홈페이지 구인란에 개발직 모집을 시작한 것. 라이엇게임즈는 “우리는 LoL 세계를 기반으로 한 MMORPG를 작업하고 있다. 룬테라에 생명을 불어 넣으려면 큰 공격대(개발조직&amp;#</p>\\n\\t\\t\\t\\t\\t\\t<div class=\"source_box\">\\n\\t\\t\\t\\t\\t\\t\\t<span class=\"date\">어제</span>\\n\\t\\t\\t\\t\\t\\t\\t<span class=\"source\"><span class=\"source_inner\">GAMEVU</span></span>\\n\\t\\t\\t\\t\\t\\t</div>\\n\\t\\t\\t\\t\\t</a>\\n\\t\\t\\t\\t</li>\\n\\t\\t\\t\\n\\t\\t\\t\\t<li class=\"theme_item\" data-gdid=\"CAS_ae28a230-7594-11eb-a04a-5d6b18f84123\" data-da-position=\"true\">\\n\\t\\t\\t\\t\\t<a href=\"https://post.naver.com/viewer/postView.nhn?volumeNo&#x3D;30784234&amp;memberNo&#x3D;22031991\" class=\"theme_thumb\" data-clk=\"tcc_gam.list1cont3\" target=\"_blank\">\\n\\t\\t\\t\\t\\t\\t<img src=\"https://s.pstatic.net/dthumb.phinf/?src&#x3D;%22https%3A%2F%2Fs.pstatic.net%2Fstatic%2Fwww%2Fmobile%2Fedit%2F2021%2F0223%2Fupload_1614057433095Y2azO.jpg%22&amp;type&#x3D;nf340_228\" data-src=\"https://s.pstatic.net/dthumb.phinf/?src&#x3D;%22https%3A%2F%2Fs.pstatic.net%2Fstatic%2Fwww%2Fmobile%2Fedit%2F2021%2F0223%2Fupload_1614057433095Y2azO.jpg%22&amp;type&#x3D;nf340_228\" alt=\"&quot;사람이 아니라고?&quot; 미쳐버린 그래픽 수준\" width=\"170\" height=\"114\">\\n\\t\\t\\t\\t\\t\\t<span class=\"thumb_bd\"></span>\\n\\t\\t\\t\\t\\t</a>\\n\\t\\t\\t\\t\\t<a href=\"https://post.naver.com/viewer/postView.nhn?volumeNo&#x3D;30784234&amp;memberNo&#x3D;22031991\" class=\"theme_info\" data-clk=\"tcc_gam.list1cont3\" target=\"_blank\">\\n\\t\\t\\t\\t\\t\\t<em class=\"theme_category\"> 게임</em>\\n\\t\\t\\t\\t\\t\\t<strong class=\"title elss\">\"사람이 아니라고?\" 미쳐버린 그래픽 수준</strong>\\n\\t\\t\\t\\t\\t\\t<p class=\"desc\">여기 사람 4명의 사진이 있습니다. 사실, 이 중에선 진짜 사람이 아닌 이들도 포함되어 있죠. 여러분 눈에는 몇 번째 사진이 진짜 사람이 아니라고 생각하시는지 궁금한데요. 정답을 빠르게 말씀드리면, 위의 사람들은 모두 &#x27;제작된&#x27; 메타 휴먼입니다. 실존하지 않지만, 여러분의 손으로 실존하게 만들 수 있는 사람들입니다. 이제 불쾌한 골짜기는 메워지고 있습니다.</p>\\n\\t\\t\\t\\t\\t\\t<div class=\"source_box\">\\n\\t\\t\\t\\t\\t\\t\\t<span class=\"date\">어제</span>\\n\\t\\t\\t\\t\\t\\t\\t<span class=\"source\"><span class=\"source_inner\">김데위</span></span>\\n\\t\\t\\t\\t\\t\\t</div>\\n\\t\\t\\t\\t\\t</a>\\n\\t\\t\\t\\t</li>\\n\\t\\t\\t\\n\\t\\t\\t\\t<li class=\"theme_item\" data-gdid=\"CAS_2a49723d-7597-11eb-83fb-8f8316e4d8fd\" data-da-position=\"true\">\\n\\t\\t\\t\\t\\t<a href=\"https://post.naver.com/viewer/postView.nhn?volumeNo&#x3D;30784897&amp;memberNo&#x3D;11255530&amp;navigationType&#x3D;push\" class=\"theme_thumb\" data-clk=\"tcc_gam.list1cont4\" target=\"_blank\">\\n\\t\\t\\t\\t\\t\\t<img src=\"https://s.pstatic.net/dthumb.phinf/?src&#x3D;%22https%3A%2F%2Fs.pstatic.net%2Fstatic%2Fwww%2Fmobile%2Fedit%2F2021%2F0223%2Fupload_1614074782044Ff3DE.jpg%22&amp;type&#x3D;nf340_228\" data-src=\"https://s.pstatic.net/dthumb.phinf/?src&#x3D;%22https%3A%2F%2Fs.pstatic.net%2Fstatic%2Fwww%2Fmobile%2Fedit%2F2021%2F0223%2Fupload_1614074782044Ff3DE.jpg%22&amp;type&#x3D;nf340_228\" alt=\"&#x27;돌풍의 신작&#x27; 발헤임은 생존게임을 어떻게 업그레이드 했나?\" width=\"170\" height=\"114\">\\n\\t\\t\\t\\t\\t\\t<span class=\"thumb_bd\"></span>\\n\\t\\t\\t\\t\\t</a>\\n\\t\\t\\t\\t\\t<a href=\"https://post.naver.com/viewer/postView.nhn?volumeNo&#x3D;30784897&amp;memberNo&#x3D;11255530&amp;navigationType&#x3D;push\" class=\"theme_info\" data-clk=\"tcc_gam.list1cont4\" target=\"_blank\">\\n\\t\\t\\t\\t\\t\\t<em class=\"theme_category\"> 게임</em>\\n\\t\\t\\t\\t\\t\\t<strong class=\"title elss\">\\'돌풍의 신작\\' 발헤임은 생존게임을 어떻게 업그레이드 했나?</strong>\\n\\t\\t\\t\\t\\t\\t<p class=\"desc\">매너리즘에 빠진 듯했던 장르가 다시 한번 진화했다. 10년간 스팀 플랫폼에 수많은 생존게임이 난립했다. 유행의 시작은 2009년 ARMA2의 모드로 만들어진 데이즈(Dayz)였다. 좀비의 급격 속에서 굶주림, 갈증, 질병을 해결하면서 살아남는 시스템은 선풍적인 인기를 끌었다. NPC보다 무서운 것은 다른 유저였다. 유저들과 협력하면서도 언제나</p>\\n\\t\\t\\t\\t\\t\\t<div class=\"source_box\">\\n\\t\\t\\t\\t\\t\\t\\t<span class=\"date\">어제</span>\\n\\t\\t\\t\\t\\t\\t\\t<span class=\"source\"><span class=\"source_inner\">게임인사이트</span></span>\\n\\t\\t\\t\\t\\t\\t</div>\\n\\t\\t\\t\\t\\t</a>\\n\\t\\t\\t\\t</li>\\n\\t\\t\\t\\n\\t\\t\\t\\t<li class=\"theme_item\" data-gdid=\"CAS_ae28a22f-7594-11eb-a04a-a9ce6dd0ecbd\" data-da-position=\"true\">\\n\\t\\t\\t\\t\\t<a href=\"https://post.naver.com/viewer/postView.nhn?volumeNo&#x3D;30779755&amp;memberNo&#x3D;22394856\" class=\"theme_thumb\" data-clk=\"tcc_gam.list1cont5\" target=\"_blank\">\\n\\t\\t\\t\\t\\t\\t<img src=\"https://s.pstatic.net/dthumb.phinf/?src&#x3D;%22https%3A%2F%2Fs.pstatic.net%2Fstatic%2Fwww%2Fmobile%2Fedit%2F2021%2F0223%2Fupload_1614057358219FlC02.jpg%22&amp;type&#x3D;nf340_228\" data-src=\"https://s.pstatic.net/dthumb.phinf/?src&#x3D;%22https%3A%2F%2Fs.pstatic.net%2Fstatic%2Fwww%2Fmobile%2Fedit%2F2021%2F0223%2Fupload_1614057358219FlC02.jpg%22&amp;type&#x3D;nf340_228\" alt=\"찌릿찌릿! 전격소녀 미사카 미코토 코스프레\" width=\"170\" height=\"114\">\\n\\t\\t\\t\\t\\t\\t<span class=\"thumb_bd\"></span>\\n\\t\\t\\t\\t\\t</a>\\n\\t\\t\\t\\t\\t<a href=\"https://post.naver.com/viewer/postView.nhn?volumeNo&#x3D;30779755&amp;memberNo&#x3D;22394856\" class=\"theme_info\" data-clk=\"tcc_gam.list1cont5\" target=\"_blank\">\\n\\t\\t\\t\\t\\t\\t<em class=\"theme_category\"> 게임</em>\\n\\t\\t\\t\\t\\t\\t<strong class=\"title elss\">찌릿찌릿! 전격소녀 미사카 미코토 코스프레</strong>\\n\\t\\t\\t\\t\\t\\t<p class=\"desc\">안녕하세요. cosis 알트루쥬 입니다. 이번 주 소개할 코스프레는언제나 멋진 코스프레로 우리에게 만족감을 주는! 시루양의 새로운 코스프레!어떤 마술의 금서목록 그리고 초전자포에 등장하는레일건 미사카 미코토 코스프레 입니다.2000년 후반 어떤 마술의 금서목록 애니메이션이 방영된 이후 작중 귀여운 외모, 좋아하는 사람에게 화를 내는 츤데레적인 매력이 팬들에</p>\\n\\t\\t\\t\\t\\t\\t<div class=\"source_box\">\\n\\t\\t\\t\\t\\t\\t\\t<span class=\"date\">2일 전</span>\\n\\t\\t\\t\\t\\t\\t\\t<span class=\"source\"><span class=\"source_inner\">Cosis</span></span>\\n\\t\\t\\t\\t\\t\\t</div>\\n\\t\\t\\t\\t\\t</a>\\n\\t\\t\\t\\t</li>\\n\\t\\t\\t\\n\\t\\t</ul>\\n\\t</div>\\n</div>\\n<div class=\"group_theme\" data-block-id=\"\" data-block-code=\"PC-THEME-GAMEAPP-MOBILE-RANKING-VIDEO-0\" data-block-type=\"MATERIALS\" data-template-code=\"MOBILE-RANKING-VIDEO-LIST\"\\n\\n\\t data-index=\"\"\\n\\t data-page=\"1\"\\n\\t >\\n\\n\\t<div class=\"media_view_wrap type_column\">\\n\\t\\t<div class=\"media_view\">\\n\\t\\t\\t\\n\\t\\t\\t\\t<a href=\"https://m.tv.naver.com/v/18623869\" class=\"media_area\" data-gdid=\"CAS_305aa3c0-7597-11eb-a785-81d0eb8cb4f8\" data-clk=\"tcc_gam.video1cont1\" target=\"_blank\">\\n\\t\\t\\t\\t\\t<div class=\"media_thumb\">\\n\\t\\t\\t\\t\\t\\t<img src=\"https://s.pstatic.net/dthumb.phinf/?src&#x3D;%22https%3A%2F%2Fs.pstatic.net%2Fstatic%2Fwww%2Fmobile%2Fedit%2F2021%2F0223%2Fupload_161405796576314doe.jpg%22&amp;type&#x3D;nf464_260\" data-src=\"https://s.pstatic.net/dthumb.phinf/?src&#x3D;%22https%3A%2F%2Fs.pstatic.net%2Fstatic%2Fwww%2Fmobile%2Fedit%2F2021%2F0223%2Fupload_161405796576314doe.jpg%22&amp;type&#x3D;nf464_260\" alt=\"2021년 초기대작 모바일게임 사전정보 총정리\" width=\"232\" height=\"130\">\\n\\t\\t\\t\\t\\t\\t<span class=\"thumb_dim\"></span>\\n\\t\\t\\t\\t\\t\\t<span class=\"thumb_bd\"></span>\\n\\t\\t\\t\\t\\t\\t<i class=\"pm_ico_play\"><span class=\"blind\">재생</span></i>\\n\\t\\t\\t\\t\\t\\t<span class=\"theme_runtime\"><span class=\"runtime_bg\">재생시간</span><em class=\"time\">04:16</em></span>\\n\\t\\t\\t\\t\\t</div>\\n\\t\\t\\t\\t\\t<div class=\"media_info\">\\n\\t\\t\\t\\t\\t\\t<div class=\"info_box\">\\n\\t\\t\\t\\t\\t\\t\\t<strong class=\"title\">2021년 초기대작 모바일게임 사전정보 총정리</strong>\\n\\t\\t\\t\\t\\t\\t\\t<div class=\"source_wrap\">\\n\\t\\t\\t\\t\\t\\t\\t\\t<span class=\"date\">2일 전</span>\\n\\t\\t\\t\\t\\t\\t\\t\\t<span class=\"source\"><span class=\"source_inner\">쌈돌이TV</span></span>\\n\\t\\t\\t\\t\\t\\t\\t</div>\\n\\t\\t\\t\\t\\t\\t</div>\\n\\t\\t\\t\\t\\t</div>\\n\\t\\t\\t\\t</a>\\n\\t\\t\\t\\n\\t\\t\\t\\t<a href=\"https://m.tv.naver.com/v/18630195\" class=\"media_area\" data-gdid=\"CAS_305aa3c3-7597-11eb-a785-6ddd1cb068b0\" data-clk=\"tcc_gam.video1cont2\" target=\"_blank\">\\n\\t\\t\\t\\t\\t<div class=\"media_thumb\">\\n\\t\\t\\t\\t\\t\\t<img src=\"https://s.pstatic.net/dthumb.phinf/?src&#x3D;%22https%3A%2F%2Fs.pstatic.net%2Fstatic%2Fwww%2Fmobile%2Fedit%2F2021%2F0223%2Fupload_1614058053334PQydU.jpg%22&amp;type&#x3D;nf464_260\" data-src=\"https://s.pstatic.net/dthumb.phinf/?src&#x3D;%22https%3A%2F%2Fs.pstatic.net%2Fstatic%2Fwww%2Fmobile%2Fedit%2F2021%2F0223%2Fupload_1614058053334PQydU.jpg%22&amp;type&#x3D;nf464_260\" alt=\"오버워치2 정보가 드디어 공개되었습니다!\" width=\"232\" height=\"130\">\\n\\t\\t\\t\\t\\t\\t<span class=\"thumb_dim\"></span>\\n\\t\\t\\t\\t\\t\\t<span class=\"thumb_bd\"></span>\\n\\t\\t\\t\\t\\t\\t<i class=\"pm_ico_play\"><span class=\"blind\">재생</span></i>\\n\\t\\t\\t\\t\\t\\t<span class=\"theme_runtime\"><span class=\"runtime_bg\">재생시간</span><em class=\"time\">13:36</em></span>\\n\\t\\t\\t\\t\\t</div>\\n\\t\\t\\t\\t\\t<div class=\"media_info\">\\n\\t\\t\\t\\t\\t\\t<div class=\"info_box\">\\n\\t\\t\\t\\t\\t\\t\\t<strong class=\"title\">오버워치2 정보가 드디어 공개되었습니다!</strong>\\n\\t\\t\\t\\t\\t\\t\\t<div class=\"source_wrap\">\\n\\t\\t\\t\\t\\t\\t\\t\\t<span class=\"date\">2일 전</span>\\n\\t\\t\\t\\t\\t\\t\\t\\t<span class=\"source\"><span class=\"source_inner\">나무늘보</span></span>\\n\\t\\t\\t\\t\\t\\t\\t</div>\\n\\t\\t\\t\\t\\t\\t</div>\\n\\t\\t\\t\\t\\t</div>\\n\\t\\t\\t\\t</a>\\n\\t\\t\\t\\n\\t\\t\\t\\t<a href=\"https://m.tv.naver.com/v/18621108\" class=\"media_area\" data-gdid=\"CAS_305aa3c2-7597-11eb-a785-6b500f0a9b06\" data-clk=\"tcc_gam.video1cont3\" target=\"_blank\">\\n\\t\\t\\t\\t\\t<div class=\"media_thumb\">\\n\\t\\t\\t\\t\\t\\t<img src=\"https://s.pstatic.net/dthumb.phinf/?src&#x3D;%22https%3A%2F%2Fs.pstatic.net%2Fstatic%2Fwww%2Fmobile%2Fedit%2F2021%2F0223%2Fupload_1614058024560BxgKb.jpg%22&amp;type&#x3D;nf464_260\" data-src=\"https://s.pstatic.net/dthumb.phinf/?src&#x3D;%22https%3A%2F%2Fs.pstatic.net%2Fstatic%2Fwww%2Fmobile%2Fedit%2F2021%2F0223%2Fupload_1614058024560BxgKb.jpg%22&amp;type&#x3D;nf464_260\" alt=\"디지털 세계에 등장한 페이커?!!\" width=\"232\" height=\"130\">\\n\\t\\t\\t\\t\\t\\t<span class=\"thumb_dim\"></span>\\n\\t\\t\\t\\t\\t\\t<span class=\"thumb_bd\"></span>\\n\\t\\t\\t\\t\\t\\t<i class=\"pm_ico_play\"><span class=\"blind\">재생</span></i>\\n\\t\\t\\t\\t\\t\\t<span class=\"theme_runtime\"><span class=\"runtime_bg\">재생시간</span><em class=\"time\">02:54</em></span>\\n\\t\\t\\t\\t\\t</div>\\n\\t\\t\\t\\t\\t<div class=\"media_info\">\\n\\t\\t\\t\\t\\t\\t<div class=\"info_box\">\\n\\t\\t\\t\\t\\t\\t\\t<strong class=\"title\">디지털 세계에 등장한 페이커?!!</strong>\\n\\t\\t\\t\\t\\t\\t\\t<div class=\"source_wrap\">\\n\\t\\t\\t\\t\\t\\t\\t\\t<span class=\"date\">2일 전</span>\\n\\t\\t\\t\\t\\t\\t\\t\\t<span class=\"source\"><span class=\"source_inner\">롤큐</span></span>\\n\\t\\t\\t\\t\\t\\t\\t</div>\\n\\t\\t\\t\\t\\t\\t</div>\\n\\t\\t\\t\\t\\t</div>\\n\\t\\t\\t\\t</a>\\n\\t\\t\\t\\n\\t\\t</div>\\n\\t</div>\\n</div>\\n<div class=\"group_theme\" data-block-id=\"\" data-block-code=\"PC-THEME-GAMEAPP-MOBILE-RANKING-DEFAULT-1\" data-block-type=\"MATERIALS\" data-template-code=\"MOBILE-RANKING-LIST\"\\n\\n\\t data-da=\"container\"\\n\\t data-index=\"\"\\n     data-page=\"1\"\\n\\t >\\n\\n\\t<div class=\"list_theme_wrap\">\\n\\t\\t<ul class=\"list_theme\">\\n\\t\\t\\t\\n\\t\\t\\t\\t<li class=\"theme_item\" data-gdid=\"CAS_ae28a232-7594-11eb-a04a-2f8f72fd0d92\" data-da-position=\"true\">\\n\\t\\t\\t\\t\\t<a href=\"https://post.naver.com/viewer/postView.nhn?volumeNo&#x3D;30741067&amp;memberNo&#x3D;1166780\" class=\"theme_thumb\" data-clk=\"tcc_gam.list2cont1\" target=\"_blank\">\\n\\t\\t\\t\\t\\t\\t<img src=\"https://s.pstatic.net/dthumb.phinf/?src&#x3D;%22https%3A%2F%2Fs.pstatic.net%2Fstatic%2Fwww%2Fmobile%2Fedit%2F2021%2F0223%2Fupload_16140576416834Ng26.jpg%22&amp;type&#x3D;nf340_228\" data-src=\"https://s.pstatic.net/dthumb.phinf/?src&#x3D;%22https%3A%2F%2Fs.pstatic.net%2Fstatic%2Fwww%2Fmobile%2Fedit%2F2021%2F0223%2Fupload_16140576416834Ng26.jpg%22&amp;type&#x3D;nf340_228\" alt=\"27화. 진짜 광기\" width=\"170\" height=\"114\">\\n\\t\\t\\t\\t\\t\\t<span class=\"thumb_bd\"></span>\\n\\t\\t\\t\\t\\t</a>\\n\\t\\t\\t\\t\\t<a href=\"https://post.naver.com/viewer/postView.nhn?volumeNo&#x3D;30741067&amp;memberNo&#x3D;1166780\" class=\"theme_info\" data-clk=\"tcc_gam.list2cont1\" target=\"_blank\">\\n\\t\\t\\t\\t\\t\\t<em class=\"theme_category\"> 게임</em>\\n\\t\\t\\t\\t\\t\\t<strong class=\"title elss\">27화. 진짜 광기</strong>\\n\\t\\t\\t\\t\\t\\t<p class=\"desc\">그러면 죽어요!오르카 호에서 가장 많이 터진 것은 나앤과 안드바리의 속 중 어느 쪽일까...응애, 레아는 아가야그녀들에게도 비중과 존재감을...딸래미와 영상기록관의 임팩트가 너무 강했습니다나앤도 스토리에서 멋진 장면 하나만...</p>\\n\\t\\t\\t\\t\\t\\t<div class=\"source_box\">\\n\\t\\t\\t\\t\\t\\t\\t<span class=\"date\">6일 전</span>\\n\\t\\t\\t\\t\\t\\t\\t<span class=\"source\"><span class=\"source_inner\">노동8호</span></span>\\n\\t\\t\\t\\t\\t\\t</div>\\n\\t\\t\\t\\t\\t</a>\\n\\t\\t\\t\\t</li>\\n\\t\\t\\t\\n\\t\\t\\t\\t<li class=\"theme_item\" data-gdid=\"CAS_ae28a231-7594-11eb-a04a-5d5cf4bdbc19\" data-da-position=\"true\">\\n\\t\\t\\t\\t\\t<a href=\"https://post.naver.com/viewer/postView.nhn?volumeNo&#x3D;30751512&amp;memberNo&#x3D;16839400\" class=\"theme_thumb\" data-clk=\"tcc_gam.list2cont2\" target=\"_blank\">\\n\\t\\t\\t\\t\\t\\t<img src=\"https://s.pstatic.net/dthumb.phinf/?src&#x3D;%22https%3A%2F%2Fs.pstatic.net%2Fstatic%2Fwww%2Fmobile%2Fedit%2F2021%2F0223%2Fupload_1614057592176evpge.jpg%22&amp;type&#x3D;nf340_228\" data-src=\"https://s.pstatic.net/dthumb.phinf/?src&#x3D;%22https%3A%2F%2Fs.pstatic.net%2Fstatic%2Fwww%2Fmobile%2Fedit%2F2021%2F0223%2Fupload_1614057592176evpge.jpg%22&amp;type&#x3D;nf340_228\" alt=\"38화. 캐리형 정글\" width=\"170\" height=\"114\">\\n\\t\\t\\t\\t\\t\\t<span class=\"thumb_bd\"></span>\\n\\t\\t\\t\\t\\t</a>\\n\\t\\t\\t\\t\\t<a href=\"https://post.naver.com/viewer/postView.nhn?volumeNo&#x3D;30751512&amp;memberNo&#x3D;16839400\" class=\"theme_info\" data-clk=\"tcc_gam.list2cont2\" target=\"_blank\">\\n\\t\\t\\t\\t\\t\\t<em class=\"theme_category\"> 게임</em>\\n\\t\\t\\t\\t\\t\\t<strong class=\"title elss\">38화. 캐리형 정글</strong>\\n\\t\\t\\t\\t\\t\\t<p class=\"desc\">새로온 아마추어출신 정글러 crocs 임성민은 챌린져 아이디가 2개인 유망주이다. 그의 장점은 막강한 피지컬을 잘 활용할 수 있는 피지컬 정글챔들. 하지만 유나는 성민이 마음에 들지 않는다. 내심 그가 실수하거나 못하기를 바라지만 생각보다 그는 자기역할을 잘 해낸다.</p>\\n\\t\\t\\t\\t\\t\\t<div class=\"source_box\">\\n\\t\\t\\t\\t\\t\\t\\t<span class=\"date\">6일 전</span>\\n\\t\\t\\t\\t\\t\\t\\t<span class=\"source\"><span class=\"source_inner\">글그림</span></span>\\n\\t\\t\\t\\t\\t\\t</div>\\n\\t\\t\\t\\t\\t</a>\\n\\t\\t\\t\\t</li>\\n\\t\\t\\t\\n\\t\\t\\t\\t<li class=\"theme_item\" data-gdid=\"CAS_ae28a22e-7594-11eb-a04a-9bf51b3a9d57\" data-da-position=\"true\">\\n\\t\\t\\t\\t\\t<a href=\"https://post.naver.com/viewer/postView.nhn?volumeNo&#x3D;30746258&amp;memberNo&#x3D;31380582\" class=\"theme_thumb\" data-clk=\"tcc_gam.list2cont3\" target=\"_blank\">\\n\\t\\t\\t\\t\\t\\t<img src=\"https://s.pstatic.net/dthumb.phinf/?src&#x3D;%22https%3A%2F%2Fs.pstatic.net%2Fstatic%2Fwww%2Fmobile%2Fedit%2F2021%2F0223%2Fupload_1614057288432SKWE7.jpg%22&amp;type&#x3D;nf340_228\" data-src=\"https://s.pstatic.net/dthumb.phinf/?src&#x3D;%22https%3A%2F%2Fs.pstatic.net%2Fstatic%2Fwww%2Fmobile%2Fedit%2F2021%2F0223%2Fupload_1614057288432SKWE7.jpg%22&amp;type&#x3D;nf340_228\" alt=\"리그오브레전드 – ‘지평선의 초점’은 아군에게도 디버프를 걸까?\" width=\"170\" height=\"114\">\\n\\t\\t\\t\\t\\t\\t<span class=\"thumb_bd\"></span>\\n\\t\\t\\t\\t\\t</a>\\n\\t\\t\\t\\t\\t<a href=\"https://post.naver.com/viewer/postView.nhn?volumeNo&#x3D;30746258&amp;memberNo&#x3D;31380582\" class=\"theme_info\" data-clk=\"tcc_gam.list2cont3\" target=\"_blank\">\\n\\t\\t\\t\\t\\t\\t<em class=\"theme_category\"> 게임</em>\\n\\t\\t\\t\\t\\t\\t<strong class=\"title elss\">리그오브레전드 – ‘지평선의 초점’은 아군에게도 디버프를 걸까?</strong>\\n\\t\\t\\t\\t\\t\\t<p class=\"desc\">리그 오브 레전드 전설 아이템 ‘지평선의 초점’은 700거리 이상 떨어진 위치에서 대상을 지정하지 않은 스킬로 적 챔피언에게 피해를 주면 ‘초강력 사격’ 효과를 건다. 더불어 해당 효과를 거는 방법이 하나 더 있는데, 바로 이동 불가 상태로 만드는 것이다. 그런데 여기서 한가지 아이디어가 떠올랐다. 만약, 아군을 </p>\\n\\t\\t\\t\\t\\t\\t<div class=\"source_box\">\\n\\t\\t\\t\\t\\t\\t\\t<span class=\"date\">6일 전</span>\\n\\t\\t\\t\\t\\t\\t\\t<span class=\"source\"><span class=\"source_inner\">국민트리</span></span>\\n\\t\\t\\t\\t\\t\\t</div>\\n\\t\\t\\t\\t\\t</a>\\n\\t\\t\\t\\t</li>\\n\\t\\t\\t\\n\\t\\t\\t\\t<li class=\"theme_item\" data-gdid=\"CAS_2a49723c-7597-11eb-83fb-5d3f896d956c\" data-da-position=\"true\">\\n\\t\\t\\t\\t\\t<a href=\"https://post.naver.com/viewer/postView.nhn?volumeNo&#x3D;30784979&amp;memberNo&#x3D;4505449&amp;navigationType&#x3D;push\" class=\"theme_thumb\" data-clk=\"tcc_gam.list2cont4\" target=\"_blank\">\\n\\t\\t\\t\\t\\t\\t<img src=\"https://s.pstatic.net/dthumb.phinf/?src&#x3D;%22https%3A%2F%2Fs.pstatic.net%2Fstatic%2Fwww%2Fmobile%2Fedit%2F2021%2F0223%2Fupload_1614074748664v00ZH.jpg%22&amp;type&#x3D;nf340_228\" data-src=\"https://s.pstatic.net/dthumb.phinf/?src&#x3D;%22https%3A%2F%2Fs.pstatic.net%2Fstatic%2Fwww%2Fmobile%2Fedit%2F2021%2F0223%2Fupload_1614074748664v00ZH.jpg%22&amp;type&#x3D;nf340_228\" alt=\"드디어 모인 요원들, &#x27;와치독 : 리전&#x27; 온라인 모드 3월 등장\" width=\"170\" height=\"114\">\\n\\t\\t\\t\\t\\t\\t<span class=\"thumb_bd\"></span>\\n\\t\\t\\t\\t\\t</a>\\n\\t\\t\\t\\t\\t<a href=\"https://post.naver.com/viewer/postView.nhn?volumeNo&#x3D;30784979&amp;memberNo&#x3D;4505449&amp;navigationType&#x3D;push\" class=\"theme_info\" data-clk=\"tcc_gam.list2cont4\" target=\"_blank\">\\n\\t\\t\\t\\t\\t\\t<em class=\"theme_category\"> 게임</em>\\n\\t\\t\\t\\t\\t\\t<strong class=\"title elss\">드디어 모인 요원들, \\'와치독 : 리전\\' 온라인 모드 3월 등장</strong>\\n\\t\\t\\t\\t\\t\\t<p class=\"desc\">유비소프트가 오는 3월 9일(화), 자사 액션게임 ‘와치독: 리전’에 온라인 모드를 업데이트합니다. 온라인 모드는 본편 &#x27;와치독: 리전&#x27;을 보유한 모든 유저에게 무료로 제공되는 단일 스탠드 얼론 모드로, 새롭게 멀티플레이용으로 제작된 ‘데드섹’ 이야기를 그립니다. 이전처럼 다양한 요원을 영입하고 임무</p>\\n\\t\\t\\t\\t\\t\\t<div class=\"source_box\">\\n\\t\\t\\t\\t\\t\\t\\t<span class=\"date\">어제</span>\\n\\t\\t\\t\\t\\t\\t\\t<span class=\"source\"><span class=\"source_inner\">PNN</span></span>\\n\\t\\t\\t\\t\\t\\t</div>\\n\\t\\t\\t\\t\\t</a>\\n\\t\\t\\t\\t</li>\\n\\t\\t\\t\\n\\t\\t\\t\\t<li class=\"theme_item\" data-gdid=\"CAS_14b9d0f0-7599-11eb-a785-4d1f9524a00d\" data-da-position=\"true\">\\n\\t\\t\\t\\t\\t<a href=\"https://post.naver.com/viewer/postView.nhn?volumeNo&#x3D;30703514&amp;memberNo&#x3D;4505449&amp;navigationType&#x3D;push\" class=\"theme_thumb\" data-clk=\"tcc_gam.list2cont5\" target=\"_blank\">\\n\\t\\t\\t\\t\\t\\t<img src=\"https://s.pstatic.net/dthumb.phinf/?src&#x3D;%22https%3A%2F%2Fs.pstatic.net%2Fstatic%2Fwww%2Fmobile%2Fedit%2F2021%2F0223%2Fupload_1614058513612nb52U.jpg%22&amp;type&#x3D;nf340_228\" data-src=\"https://s.pstatic.net/dthumb.phinf/?src&#x3D;%22https%3A%2F%2Fs.pstatic.net%2Fstatic%2Fwww%2Fmobile%2Fedit%2F2021%2F0223%2Fupload_1614058513612nb52U.jpg%22&amp;type&#x3D;nf340_228\" alt=\"차이니즈 닌자 워리어 ‘모탈 컴뱃’ 서브 제로\" width=\"170\" height=\"114\">\\n\\t\\t\\t\\t\\t\\t<span class=\"thumb_bd\"></span>\\n\\t\\t\\t\\t\\t</a>\\n\\t\\t\\t\\t\\t<a href=\"https://post.naver.com/viewer/postView.nhn?volumeNo&#x3D;30703514&amp;memberNo&#x3D;4505449&amp;navigationType&#x3D;push\" class=\"theme_info\" data-clk=\"tcc_gam.list2cont5\" target=\"_blank\">\\n\\t\\t\\t\\t\\t\\t<em class=\"theme_category\"> 게임</em>\\n\\t\\t\\t\\t\\t\\t<strong class=\"title elss\">차이니즈 닌자 워리어 ‘모탈 컴뱃’ 서브 제로</strong>\\n\\t\\t\\t\\t\\t\\t<p class=\"desc\">한겨울 눈과 얼음을 보면 어떤 캐릭터가 생각나시나요? &lt;겨울왕국&gt; 엘사? &#x27;메이플스토리&#x27; 예티? 아니면 코카콜라 폴라베어?저는 &#x27;모탈 컴뱃(Mortal Kombat)&#x27; 시리즈 캐릭터인 &#x27;서브 제로&#x27;가 생각납니다. 귀엽고 깜찍한 캐릭터 이야기하다 갑자기 &#x27;모탈 컴뱃&#x27;이 등장해 깜짝 놀라셨을 텐데요. 서브 제로만큼 얼음, 냉기와 어울리</p>\\n\\t\\t\\t\\t\\t\\t<div class=\"source_box\">\\n\\t\\t\\t\\t\\t\\t\\t<span class=\"date\">1주일 전</span>\\n\\t\\t\\t\\t\\t\\t\\t<span class=\"source\"><span class=\"source_inner\">PNN</span></span>\\n\\t\\t\\t\\t\\t\\t</div>\\n\\t\\t\\t\\t\\t</a>\\n\\t\\t\\t\\t</li>\\n\\t\\t\\t\\n\\t\\t</ul>\\n\\t</div>\\n</div>\\n<div class=\"group_theme\" data-block-id=\"\" data-block-code=\"PC-THEME-GAMEAPP-MOBILE-RANKING-VIDEO-1\" data-block-type=\"MATERIALS\" data-template-code=\"MOBILE-RANKING-VIDEO-LIST\"\\n\\n\\t data-index=\"\"\\n\\t data-page=\"1\"\\n\\t >\\n\\n\\t<div class=\"media_view_wrap type_column\">\\n\\t\\t<div class=\"media_view\">\\n\\t\\t\\t\\n\\t\\t\\t\\t<a href=\"https://m.tv.naver.com/v/18597113\" class=\"media_area\" data-gdid=\"CAS_305aa3c1-7597-11eb-a785-d76308825c1a\" data-clk=\"tcc_gam.video2cont1\" target=\"_blank\">\\n\\t\\t\\t\\t\\t<div class=\"media_thumb\">\\n\\t\\t\\t\\t\\t\\t<img src=\"https://s.pstatic.net/dthumb.phinf/?src&#x3D;%22https%3A%2F%2Fs.pstatic.net%2Fstatic%2Fwww%2Fmobile%2Fedit%2F2021%2F0223%2Fupload_16140579930190tJe2.jpg%22&amp;type&#x3D;nf464_260\" data-src=\"https://s.pstatic.net/dthumb.phinf/?src&#x3D;%22https%3A%2F%2Fs.pstatic.net%2Fstatic%2Fwww%2Fmobile%2Fedit%2F2021%2F0223%2Fupload_16140579930190tJe2.jpg%22&amp;type&#x3D;nf464_260\" alt=\"한 손으로 1000계단을 올라가라구..?\" width=\"232\" height=\"130\">\\n\\t\\t\\t\\t\\t\\t<span class=\"thumb_dim\"></span>\\n\\t\\t\\t\\t\\t\\t<span class=\"thumb_bd\"></span>\\n\\t\\t\\t\\t\\t\\t<i class=\"pm_ico_play\"><span class=\"blind\">재생</span></i>\\n\\t\\t\\t\\t\\t\\t<span class=\"theme_runtime\"><span class=\"runtime_bg\">재생시간</span><em class=\"time\">08:15</em></span>\\n\\t\\t\\t\\t\\t</div>\\n\\t\\t\\t\\t\\t<div class=\"media_info\">\\n\\t\\t\\t\\t\\t\\t<div class=\"info_box\">\\n\\t\\t\\t\\t\\t\\t\\t<strong class=\"title\">한 손으로 1000계단을 올라가라구..?</strong>\\n\\t\\t\\t\\t\\t\\t\\t<div class=\"source_wrap\">\\n\\t\\t\\t\\t\\t\\t\\t\\t<span class=\"date\">4일 전</span>\\n\\t\\t\\t\\t\\t\\t\\t\\t<span class=\"source\"><span class=\"source_inner\">밍모</span></span>\\n\\t\\t\\t\\t\\t\\t\\t</div>\\n\\t\\t\\t\\t\\t\\t</div>\\n\\t\\t\\t\\t\\t</div>\\n\\t\\t\\t\\t</a>\\n\\t\\t\\t\\n\\t\\t\\t\\t<a href=\"https://m.tv.naver.com/v/18607249\" class=\"media_area\" data-gdid=\"CAS_d4359871-74ef-11eb-a785-1d30f8d2b34c\" data-clk=\"tcc_gam.video2cont2\" target=\"_blank\">\\n\\t\\t\\t\\t\\t<div class=\"media_thumb\">\\n\\t\\t\\t\\t\\t\\t<img src=\"https://s.pstatic.net/dthumb.phinf/?src&#x3D;%22https%3A%2F%2Fs.pstatic.net%2Fstatic%2Fwww%2Fmobile%2Fedit%2F2021%2F0222%2Fupload_1613985943281kwago.jpg%22&amp;type&#x3D;nf464_260\" data-src=\"https://s.pstatic.net/dthumb.phinf/?src&#x3D;%22https%3A%2F%2Fs.pstatic.net%2Fstatic%2Fwww%2Fmobile%2Fedit%2F2021%2F0222%2Fupload_1613985943281kwago.jpg%22&amp;type&#x3D;nf464_260\" alt=\"한국인 2명이 개발한 국산 인디 게임 [턴택]\" width=\"232\" height=\"130\">\\n\\t\\t\\t\\t\\t\\t<span class=\"thumb_dim\"></span>\\n\\t\\t\\t\\t\\t\\t<span class=\"thumb_bd\"></span>\\n\\t\\t\\t\\t\\t\\t<i class=\"pm_ico_play\"><span class=\"blind\">재생</span></i>\\n\\t\\t\\t\\t\\t\\t<span class=\"theme_runtime\"><span class=\"runtime_bg\">재생시간</span><em class=\"time\">09:32</em></span>\\n\\t\\t\\t\\t\\t</div>\\n\\t\\t\\t\\t\\t<div class=\"media_info\">\\n\\t\\t\\t\\t\\t\\t<div class=\"info_box\">\\n\\t\\t\\t\\t\\t\\t\\t<strong class=\"title\">한국인 2명이 개발한 국산 인디 게임 [턴택]</strong>\\n\\t\\t\\t\\t\\t\\t\\t<div class=\"source_wrap\">\\n\\t\\t\\t\\t\\t\\t\\t\\t<span class=\"date\">3일 전</span>\\n\\t\\t\\t\\t\\t\\t\\t\\t<span class=\"source\"><span class=\"source_inner\">영래기</span></span>\\n\\t\\t\\t\\t\\t\\t\\t</div>\\n\\t\\t\\t\\t\\t\\t</div>\\n\\t\\t\\t\\t\\t</div>\\n\\t\\t\\t\\t</a>\\n\\t\\t\\t\\n\\t\\t\\t\\t<a href=\"https://m.tv.naver.com/v/18589947\" class=\"media_area\" data-gdid=\"CAS_d4359872-74ef-11eb-a785-a3da3bb08f36\" data-clk=\"tcc_gam.video2cont3\" target=\"_blank\">\\n\\t\\t\\t\\t\\t<div class=\"media_thumb\">\\n\\t\\t\\t\\t\\t\\t<img src=\"https://s.pstatic.net/dthumb.phinf/?src&#x3D;%22https%3A%2F%2Fs.pstatic.net%2Fstatic%2Fwww%2Fmobile%2Fedit%2F2021%2F0222%2Fupload_1613985972822yopix.jpg%22&amp;type&#x3D;nf464_260\" data-src=\"https://s.pstatic.net/dthumb.phinf/?src&#x3D;%22https%3A%2F%2Fs.pstatic.net%2Fstatic%2Fwww%2Fmobile%2Fedit%2F2021%2F0222%2Fupload_1613985972822yopix.jpg%22&amp;type&#x3D;nf464_260\" alt=\"메이플150추옵/집행검10강 확률공개를 얘들이 목숨걸고 막는 이유\" width=\"232\" height=\"130\">\\n\\t\\t\\t\\t\\t\\t<span class=\"thumb_dim\"></span>\\n\\t\\t\\t\\t\\t\\t<span class=\"thumb_bd\"></span>\\n\\t\\t\\t\\t\\t\\t<i class=\"pm_ico_play\"><span class=\"blind\">재생</span></i>\\n\\t\\t\\t\\t\\t\\t<span class=\"theme_runtime\"><span class=\"runtime_bg\">재생시간</span><em class=\"time\">10:42</em></span>\\n\\t\\t\\t\\t\\t</div>\\n\\t\\t\\t\\t\\t<div class=\"media_info\">\\n\\t\\t\\t\\t\\t\\t<div class=\"info_box\">\\n\\t\\t\\t\\t\\t\\t\\t<strong class=\"title\">메이플150추옵/집행검10강 확률공개를 얘들이 목숨걸고 막는 이유</strong>\\n\\t\\t\\t\\t\\t\\t\\t<div class=\"source_wrap\">\\n\\t\\t\\t\\t\\t\\t\\t\\t<span class=\"date\">5일 전</span>\\n\\t\\t\\t\\t\\t\\t\\t\\t<span class=\"source\"><span class=\"source_inner\">김성회의 G식백과</span></span>\\n\\t\\t\\t\\t\\t\\t\\t</div>\\n\\t\\t\\t\\t\\t\\t</div>\\n\\t\\t\\t\\t\\t</div>\\n\\t\\t\\t\\t</a>\\n\\t\\t\\t\\n\\t\\t</div>\\n\\t</div>\\n</div>\\n<div class=\"group_theme\" data-block-id=\"\" data-block-code=\"PC-THEME-GAMEAPP-MOBILE-RANKING-DEFAULT-2\" data-block-type=\"MATERIALS\" data-template-code=\"MOBILE-RANKING-LIST\"\\n\\n\\t data-da=\"container\"\\n\\t data-index=\"\"\\n     data-page=\"2\"\\n\\t style=\"display:none\">\\n\\n\\t<div class=\"list_theme_wrap\">\\n\\t\\t<ul class=\"list_theme\">\\n\\t\\t\\t\\n\\t\\t\\t\\t<li class=\"theme_item\" data-gdid=\"CAS_2d4ca06e-7597-11eb-a785-698b9cf1e7c7\" data-da-position=\"true\">\\n\\t\\t\\t\\t\\t<a href=\"https://blog.naver.com/wolf5160/222250110316\" class=\"theme_thumb\" data-clk=\"tcc_gam.list3cont1\" target=\"_blank\">\\n\\t\\t\\t\\t\\t\\t<img  data-src=\"https://s.pstatic.net/dthumb.phinf/?src&#x3D;%22https%3A%2F%2Fs.pstatic.net%2Fstatic%2Fwww%2Fmobile%2Fedit%2F2021%2F0223%2Fupload_1614060092611WXJMz.jpg%22&amp;type&#x3D;nf340_228\" alt=\"닌텐도 게임 앤 워치 슈퍼마리오 브라더스\" width=\"170\" height=\"114\">\\n\\t\\t\\t\\t\\t\\t<span class=\"thumb_bd\"></span>\\n\\t\\t\\t\\t\\t</a>\\n\\t\\t\\t\\t\\t<a href=\"https://blog.naver.com/wolf5160/222250110316\" class=\"theme_info\" data-clk=\"tcc_gam.list3cont1\" target=\"_blank\">\\n\\t\\t\\t\\t\\t\\t<em class=\"theme_category\"> 게임</em>\\n\\t\\t\\t\\t\\t\\t<strong class=\"title elss\">닌텐도 게임 앤 워치 슈퍼마리오 브라더스</strong>\\n\\t\\t\\t\\t\\t\\t<p class=\"desc\">올드 게이머들에게는 추억의 아이템인 게임 앤 워치의 복각 버전인 게임 앤 워치 슈퍼 마리오브라더스 입니다. 게임의 아버지라 불리우는 미야모토 시게루도 참 좋아합니다만, 개인적으로는 요코이 군페이를 더 좋아하는데요. 현존하는 최고의 기술이 들어간 최고 스펙의 게임기를 만들기 보다는 이미 검증된 부품들을 안정적으로 저가에 공급받아 유저들에게 최상의 재미를 선사</p>\\n\\t\\t\\t\\t\\t\\t<div class=\"source_box\">\\n\\t\\t\\t\\t\\t\\t\\t<span class=\"date\">2일 전</span>\\n\\t\\t\\t\\t\\t\\t\\t<span class=\"source\"><span class=\"source_inner\">게임기 컬렉터</span></span>\\n\\t\\t\\t\\t\\t\\t</div>\\n\\t\\t\\t\\t\\t</a>\\n\\t\\t\\t\\t</li>\\n\\t\\t\\t\\n\\t\\t\\t\\t<li class=\"theme_item\" data-gdid=\"CAS_2d4ca06d-7597-11eb-a785-c36a1273279b\" data-da-position=\"true\">\\n\\t\\t\\t\\t\\t<a href=\"https://post.naver.com/viewer/postView.nhn?volumeNo&#x3D;30768212&amp;memberNo&#x3D;26230660&amp;navigationType&#x3D;push\" class=\"theme_thumb\" data-clk=\"tcc_gam.list3cont2\" target=\"_blank\">\\n\\t\\t\\t\\t\\t\\t<img  data-src=\"https://s.pstatic.net/dthumb.phinf/?src&#x3D;%22https%3A%2F%2Fs.pstatic.net%2Fstatic%2Fwww%2Fmobile%2Fedit%2F2021%2F0223%2Fupload_1614060085293zwRUm.jpg%22&amp;type&#x3D;nf340_228\" alt=\"오락실에서도 즐겼던 추억의 서커스 게임\" width=\"170\" height=\"114\">\\n\\t\\t\\t\\t\\t\\t<span class=\"thumb_bd\"></span>\\n\\t\\t\\t\\t\\t</a>\\n\\t\\t\\t\\t\\t<a href=\"https://post.naver.com/viewer/postView.nhn?volumeNo&#x3D;30768212&amp;memberNo&#x3D;26230660&amp;navigationType&#x3D;push\" class=\"theme_info\" data-clk=\"tcc_gam.list3cont2\" target=\"_blank\">\\n\\t\\t\\t\\t\\t\\t<em class=\"theme_category\"> 게임</em>\\n\\t\\t\\t\\t\\t\\t<strong class=\"title elss\">오락실에서도 즐겼던 추억의 서커스 게임</strong>\\n\\t\\t\\t\\t\\t\\t<p class=\"desc\">안녕하세요? Dante38 포스트를 방문해 주신 분들 정말 감사드립니다. 지난 시간에는 귀여운 펭귄이 앞만 보고 열심히 달리는 추억의 패미컴게임에 대해서 살펴보았습니다. 게임 방식은 상당히 단조로웠지만 나름 고도의 집중력이 필요했던 스릴있는 게임이기도 하였습니다. 오늘 시간에는 집에서뿐만 아니라 오락실에서도 재미있게 즐겼던 추억의 게임 &#x27; 서커스 찰리\\x04</p>\\n\\t\\t\\t\\t\\t\\t<div class=\"source_box\">\\n\\t\\t\\t\\t\\t\\t\\t<span class=\"date\">3일 전</span>\\n\\t\\t\\t\\t\\t\\t\\t<span class=\"source\"><span class=\"source_inner\">Dante38</span></span>\\n\\t\\t\\t\\t\\t\\t</div>\\n\\t\\t\\t\\t\\t</a>\\n\\t\\t\\t\\t</li>\\n\\t\\t\\t\\n\\t\\t\\t\\t<li class=\"theme_item\" data-gdid=\"CAS_2d4ca06f-7597-11eb-a785-8da5c7812018\" data-da-position=\"true\">\\n\\t\\t\\t\\t\\t<a href=\"https://post.naver.com/viewer/postView.nhn?volumeNo&#x3D;30171045&amp;memberNo&#x3D;32102401&amp;navigationType&#x3D;push\" class=\"theme_thumb\" data-clk=\"tcc_gam.list3cont3\" target=\"_blank\">\\n\\t\\t\\t\\t\\t\\t<img  data-src=\"https://s.pstatic.net/dthumb.phinf/?src&#x3D;%22https%3A%2F%2Fs.pstatic.net%2Fstatic%2Fwww%2Fmobile%2Fedit%2F2021%2F0223%2Fupload_16140601001803uWuL.jpg%22&amp;type&#x3D;nf340_228\" alt=\"리부트의 모범사례, 툼 레이더(2013) 리뷰\" width=\"170\" height=\"114\">\\n\\t\\t\\t\\t\\t\\t<span class=\"thumb_bd\"></span>\\n\\t\\t\\t\\t\\t</a>\\n\\t\\t\\t\\t\\t<a href=\"https://post.naver.com/viewer/postView.nhn?volumeNo&#x3D;30171045&amp;memberNo&#x3D;32102401&amp;navigationType&#x3D;push\" class=\"theme_info\" data-clk=\"tcc_gam.list3cont3\" target=\"_blank\">\\n\\t\\t\\t\\t\\t\\t<em class=\"theme_category\"> 게임</em>\\n\\t\\t\\t\\t\\t\\t<strong class=\"title elss\">리부트의 모범사례, 툼 레이더(2013) 리뷰</strong>\\n\\t\\t\\t\\t\\t\\t<p class=\"desc\">아직도 이 장면을 처음 보았을 때의 감동을 잊을 수없다 2013년 스퀘어 에닉스에서 스팀에 대작을 내놓게 된다1996년 처음 출시되어 계속 꾸준한 사랑을 받고 있는 게임게임계에서 여성 캐릭터의 대표로 자리매김한 게임의 주인공오늘의 주인공 툼 레이더(2013)이다 저번 블랙 프라이데이 때 지른 툼레이더 컬렉션 필자는 이 게임을 복돌로 먼저 다운로드하고 플레이</p>\\n\\t\\t\\t\\t\\t\\t<div class=\"source_box\">\\n\\t\\t\\t\\t\\t\\t\\t<span class=\"date\">4일 전</span>\\n\\t\\t\\t\\t\\t\\t\\t<span class=\"source\"><span class=\"source_inner\">브릭가이</span></span>\\n\\t\\t\\t\\t\\t\\t</div>\\n\\t\\t\\t\\t\\t</a>\\n\\t\\t\\t\\t</li>\\n\\t\\t\\t\\n\\t\\t\\t\\t<li class=\"theme_item\" data-gdid=\"CAS_4712c7cb-cd67-11ea-aeaa-4f7571d101da\" data-da-position=\"true\">\\n\\t\\t\\t\\t\\t<a href=\"https://post.naver.com/viewer/postView.nhn?volumeNo&#x3D;30629082&amp;memberNo&#x3D;21497442&amp;navigationType&#x3D;push\" class=\"theme_thumb\" data-clk=\"tcc_gam.list3cont4\" target=\"_blank\">\\n\\t\\t\\t\\t\\t\\t<img  data-src=\"https://s.pstatic.net/dthumb.phinf/?src&#x3D;%22https%3A%2F%2Fs.pstatic.net%2Fstatic%2Fwww%2Fmobile%2Fedit%2F2021%2F0205%2Fupload_1612524903019jgFYc.jpg%22&amp;type&#x3D;nf340_228\" alt=\"11.3 LoL 패치노트 하이라이트\" width=\"170\" height=\"114\">\\n\\t\\t\\t\\t\\t\\t<span class=\"thumb_bd\"></span>\\n\\t\\t\\t\\t\\t</a>\\n\\t\\t\\t\\t\\t<a href=\"https://post.naver.com/viewer/postView.nhn?volumeNo&#x3D;30629082&amp;memberNo&#x3D;21497442&amp;navigationType&#x3D;push\" class=\"theme_info\" data-clk=\"tcc_gam.list3cont4\" target=\"_blank\">\\n\\t\\t\\t\\t\\t\\t<em class=\"theme_category\"> 게임</em>\\n\\t\\t\\t\\t\\t\\t<strong class=\"title elss\">11.3 LoL 패치노트 하이라이트</strong>\\n\\t\\t\\t\\t\\t\\t<p class=\"desc\">11.3 패치의 핵심 변경사항은 다양한 아이템의 위력 조정입니다. 한동안 약세를 보이던 징크스와 쉬바나 등이 상향되며 람머스나 엘리스처럼 정글에서 뛰어난 성과를 발휘하는 챔피언은 하향됩니다. 자세한 내용은 http://riot.com/LoL1103 를 참고해주세요.</p>\\n\\t\\t\\t\\t\\t\\t<div class=\"source_box\">\\n\\t\\t\\t\\t\\t\\t\\t<span class=\"date\">3주일 전</span>\\n\\t\\t\\t\\t\\t\\t\\t<span class=\"source\"><span class=\"source_inner\">리그오브레전드</span></span>\\n\\t\\t\\t\\t\\t\\t</div>\\n\\t\\t\\t\\t\\t</a>\\n\\t\\t\\t\\t</li>\\n\\t\\t\\t\\n\\t\\t\\t\\t<li class=\"theme_item\" data-gdid=\"CAS_4712c7ce-cd67-11ea-aeaa-d1eb1df8b08c\" data-da-position=\"true\">\\n\\t\\t\\t\\t\\t<a href=\"https://post.naver.com/viewer/postView.nhn?volumeNo&#x3D;30644992&amp;memberNo&#x3D;44198090&amp;navigationType&#x3D;push\" class=\"theme_thumb\" data-clk=\"tcc_gam.list3cont5\" target=\"_blank\">\\n\\t\\t\\t\\t\\t\\t<img  data-src=\"https://s.pstatic.net/dthumb.phinf/?src&#x3D;%22https%3A%2F%2Fs.pstatic.net%2Fstatic%2Fwww%2Fmobile%2Fedit%2F2021%2F0205%2Fupload_16125249759040964t.jpg%22&amp;type&#x3D;nf340_228\" alt=\"배그 공모전에 참여하는데 왜 프라이팬을 얼리냐구요...?\" width=\"170\" height=\"114\">\\n\\t\\t\\t\\t\\t\\t<span class=\"thumb_bd\"></span>\\n\\t\\t\\t\\t\\t</a>\\n\\t\\t\\t\\t\\t<a href=\"https://post.naver.com/viewer/postView.nhn?volumeNo&#x3D;30644992&amp;memberNo&#x3D;44198090&amp;navigationType&#x3D;push\" class=\"theme_info\" data-clk=\"tcc_gam.list3cont5\" target=\"_blank\">\\n\\t\\t\\t\\t\\t\\t<em class=\"theme_category\"> 게임</em>\\n\\t\\t\\t\\t\\t\\t<strong class=\"title elss\">배그 공모전에 참여하는데 왜 프라이팬을 얼리냐구요...?</strong>\\n\\t\\t\\t\\t\\t\\t<p class=\"desc\">동영상  버튼을 누르면 현재 화면에서 재생됩니다. [이벤트] 운영자 앞에서 공모전 월드컵하면 생기는 일 ㅋㅋㅋㅋㅋㅋ | 배틀그라운드 모바일 * 본 컨텐츠는 방역 및 생활 속 거리 두기 지침을 준수하여 제작하였습니다.* 내가 뽑은 우승팀은? http://bit.ly/모배공모전월드컵GO-----댓글 이벤트 더보기 클릭----- 이벤트 기간: 2021/2/5(금</p>\\n\\t\\t\\t\\t\\t\\t<div class=\"source_box\">\\n\\t\\t\\t\\t\\t\\t\\t<span class=\"date\">2주일 전</span>\\n\\t\\t\\t\\t\\t\\t\\t<span class=\"source\"><span class=\"source_inner\">배틀그라운드 모바일</span></span>\\n\\t\\t\\t\\t\\t\\t</div>\\n\\t\\t\\t\\t\\t</a>\\n\\t\\t\\t\\t</li>\\n\\t\\t\\t\\n\\t\\t</ul>\\n\\t</div>\\n</div>\\n<div class=\"group_theme\" data-block-id=\"\" data-block-code=\"PC-THEME-GAMEAPP-MOBILE-RANKING-VIDEO-2\" data-block-type=\"MATERIALS\" data-template-code=\"MOBILE-RANKING-VIDEO-LIST\"\\n\\n\\t data-index=\"\"\\n\\t data-page=\"2\"\\n\\t style=\"display:none\">\\n\\n\\t<div class=\"media_view_wrap type_column\">\\n\\t\\t<div class=\"media_view\">\\n\\t\\t\\t\\n\\t\\t\\t\\t<a href=\"https://m.tv.naver.com/v/18596865\" class=\"media_area\" data-gdid=\"CAS_d4359870-74ef-11eb-a785-9563ef59781b\" data-clk=\"tcc_gam.video3cont1\" target=\"_blank\">\\n\\t\\t\\t\\t\\t<div class=\"media_thumb\">\\n\\t\\t\\t\\t\\t\\t<img  data-src=\"https://s.pstatic.net/dthumb.phinf/?src&#x3D;%22https%3A%2F%2Fs.pstatic.net%2Fstatic%2Fwww%2Fmobile%2Fedit%2F2021%2F0222%2Fupload_1613985928842Xz2DX.jpg%22&amp;type&#x3D;nf464_260\" alt=\"위클리뉴스 TOP5, 라스트오브어스가 드라마로??\" width=\"232\" height=\"130\">\\n\\t\\t\\t\\t\\t\\t<span class=\"thumb_dim\"></span>\\n\\t\\t\\t\\t\\t\\t<span class=\"thumb_bd\"></span>\\n\\t\\t\\t\\t\\t\\t<i class=\"pm_ico_play\"><span class=\"blind\">재생</span></i>\\n\\t\\t\\t\\t\\t\\t<span class=\"theme_runtime\"><span class=\"runtime_bg\">재생시간</span><em class=\"time\">07:40</em></span>\\n\\t\\t\\t\\t\\t</div>\\n\\t\\t\\t\\t\\t<div class=\"media_info\">\\n\\t\\t\\t\\t\\t\\t<div class=\"info_box\">\\n\\t\\t\\t\\t\\t\\t\\t<strong class=\"title\">위클리뉴스 TOP5, 라스트오브어스가 드라마로??</strong>\\n\\t\\t\\t\\t\\t\\t\\t<div class=\"source_wrap\">\\n\\t\\t\\t\\t\\t\\t\\t\\t<span class=\"date\">4일 전</span>\\n\\t\\t\\t\\t\\t\\t\\t\\t<span class=\"source\"><span class=\"source_inner\">루리웹 게임 동영상</span></span>\\n\\t\\t\\t\\t\\t\\t\\t</div>\\n\\t\\t\\t\\t\\t\\t</div>\\n\\t\\t\\t\\t\\t</div>\\n\\t\\t\\t\\t</a>\\n\\t\\t\\t\\n\\t\\t\\t\\t<a href=\"https://m.tv.naver.com/v/18612484\" class=\"media_area\" data-gdid=\"CAS_d4359873-74ef-11eb-a785-e1d55dbabafd\" data-clk=\"tcc_gam.video3cont2\" target=\"_blank\">\\n\\t\\t\\t\\t\\t<div class=\"media_thumb\">\\n\\t\\t\\t\\t\\t\\t<img  data-src=\"https://s.pstatic.net/dthumb.phinf/?src&#x3D;%22https%3A%2F%2Fs.pstatic.net%2Fstatic%2Fwww%2Fmobile%2Fedit%2F2021%2F0222%2Fupload_16139859873384v1Aq.jpg%22&amp;type&#x3D;nf464_260\" alt=\"PC 스팀 신규게임 발매 (2021년 2월 21일)\" width=\"232\" height=\"130\">\\n\\t\\t\\t\\t\\t\\t<span class=\"thumb_dim\"></span>\\n\\t\\t\\t\\t\\t\\t<span class=\"thumb_bd\"></span>\\n\\t\\t\\t\\t\\t\\t<i class=\"pm_ico_play\"><span class=\"blind\">재생</span></i>\\n\\t\\t\\t\\t\\t\\t<span class=\"theme_runtime\"><span class=\"runtime_bg\">재생시간</span><em class=\"time\">09:01</em></span>\\n\\t\\t\\t\\t\\t</div>\\n\\t\\t\\t\\t\\t<div class=\"media_info\">\\n\\t\\t\\t\\t\\t\\t<div class=\"info_box\">\\n\\t\\t\\t\\t\\t\\t\\t<strong class=\"title\">PC 스팀 신규게임 발매 (2021년 2월 21일)</strong>\\n\\t\\t\\t\\t\\t\\t\\t<div class=\"source_wrap\">\\n\\t\\t\\t\\t\\t\\t\\t\\t<span class=\"date\">3일 전</span>\\n\\t\\t\\t\\t\\t\\t\\t\\t<span class=\"source\"><span class=\"source_inner\">HD게임 영상은 여기</span></span>\\n\\t\\t\\t\\t\\t\\t\\t</div>\\n\\t\\t\\t\\t\\t\\t</div>\\n\\t\\t\\t\\t\\t</div>\\n\\t\\t\\t\\t</a>\\n\\t\\t\\t\\n\\t\\t\\t\\t<a href=\"https://m.tv.naver.com/v/18565540\" class=\"media_area\" data-gdid=\"CAS_151ca94d-72bc-11eb-8698-09bd0d8e3631\" data-clk=\"tcc_gam.video3cont3\" target=\"_blank\">\\n\\t\\t\\t\\t\\t<div class=\"media_thumb\">\\n\\t\\t\\t\\t\\t\\t<img  data-src=\"https://s.pstatic.net/dthumb.phinf/?src&#x3D;%22https%3A%2F%2Fs.pstatic.net%2Fstatic%2Fwww%2Fmobile%2Fedit%2F2021%2F0219%2Fupload_1613744077561Va2OU.jpg%22&amp;type&#x3D;nf464_260\" alt=\"이게 혼자 만든 게임이라고? 메르헨 포레스트 리뷰\" width=\"232\" height=\"130\">\\n\\t\\t\\t\\t\\t\\t<span class=\"thumb_dim\"></span>\\n\\t\\t\\t\\t\\t\\t<span class=\"thumb_bd\"></span>\\n\\t\\t\\t\\t\\t\\t<i class=\"pm_ico_play\"><span class=\"blind\">재생</span></i>\\n\\t\\t\\t\\t\\t\\t<span class=\"theme_runtime\"><span class=\"runtime_bg\">재생시간</span><em class=\"time\">08:59</em></span>\\n\\t\\t\\t\\t\\t</div>\\n\\t\\t\\t\\t\\t<div class=\"media_info\">\\n\\t\\t\\t\\t\\t\\t<div class=\"info_box\">\\n\\t\\t\\t\\t\\t\\t\\t<strong class=\"title\">이게 혼자 만든 게임이라고? 메르헨 포레스트 리뷰</strong>\\n\\t\\t\\t\\t\\t\\t\\t<div class=\"source_wrap\">\\n\\t\\t\\t\\t\\t\\t\\t\\t<span class=\"date\">6일 전</span>\\n\\t\\t\\t\\t\\t\\t\\t\\t<span class=\"source\"><span class=\"source_inner\">루리웹 게임 동영상</span></span>\\n\\t\\t\\t\\t\\t\\t\\t</div>\\n\\t\\t\\t\\t\\t\\t</div>\\n\\t\\t\\t\\t\\t</div>\\n\\t\\t\\t\\t</a>\\n\\t\\t\\t\\n\\t\\t</div>\\n\\t</div>\\n</div>\\n<div class=\"group_theme\" data-block-id=\"\" data-block-code=\"PC-THEME-GAMEAPP-MOBILE-RANKING-DEFAULT-3\" data-block-type=\"MATERIALS\" data-template-code=\"MOBILE-RANKING-LIST\"\\n\\n\\t data-da=\"container\"\\n\\t data-index=\"\"\\n     data-page=\"2\"\\n\\t style=\"display:none\">\\n\\n\\t<div class=\"list_theme_wrap\">\\n\\t\\t<ul class=\"list_theme\">\\n\\t\\t\\t\\n\\t\\t\\t\\t<li class=\"theme_item\" data-gdid=\"CAS_4712c7cc-cd67-11ea-aeaa-6b4edeb52eae\" data-da-position=\"true\">\\n\\t\\t\\t\\t\\t<a href=\"https://post.naver.com/viewer/postView.nhn?volumeNo&#x3D;30628676&amp;memberNo&#x3D;21497442&amp;navigationType&#x3D;push\" class=\"theme_thumb\" data-clk=\"tcc_gam.list4cont1\" target=\"_blank\">\\n\\t\\t\\t\\t\\t\\t<img  data-src=\"https://s.pstatic.net/dthumb.phinf/?src&#x3D;%22https%3A%2F%2Fs.pstatic.net%2Fstatic%2Fwww%2Fmobile%2Fedit%2F2021%2F0205%2Fupload_1612524918633KBB0X.jpg%22&amp;type&#x3D;nf340_228\" alt=\"11.3 TFT 패치노트 하이라이트\" width=\"170\" height=\"114\">\\n\\t\\t\\t\\t\\t\\t<span class=\"thumb_bd\"></span>\\n\\t\\t\\t\\t\\t</a>\\n\\t\\t\\t\\t\\t<a href=\"https://post.naver.com/viewer/postView.nhn?volumeNo&#x3D;30628676&amp;memberNo&#x3D;21497442&amp;navigationType&#x3D;push\" class=\"theme_info\" data-clk=\"tcc_gam.list4cont1\" target=\"_blank\">\\n\\t\\t\\t\\t\\t\\t<em class=\"theme_category\"> 게임</em>\\n\\t\\t\\t\\t\\t\\t<strong class=\"title elss\">11.3 TFT 패치노트 하이라이트</strong>\\n\\t\\t\\t\\t\\t\\t<p class=\"desc\">파티는 이제 시작입니다! 이번 11.3 패치는 신성 특성의 소규모 업데이트, 1단계 챔피언 조정 및 몇 가지 소규모 변경사항을 적용했습니다. 지금 바로 확인해보세요. 자세한 내용은 https://riot.com/TFT1103 를 참고해주세요. ※ 모바일 패치는 PC 패치 적용 후 24시간 내에 업데이트될 예정입니다.</p>\\n\\t\\t\\t\\t\\t\\t<div class=\"source_box\">\\n\\t\\t\\t\\t\\t\\t\\t<span class=\"date\">3주일 전</span>\\n\\t\\t\\t\\t\\t\\t\\t<span class=\"source\"><span class=\"source_inner\">리그오브레전드</span></span>\\n\\t\\t\\t\\t\\t\\t</div>\\n\\t\\t\\t\\t\\t</a>\\n\\t\\t\\t\\t</li>\\n\\t\\t\\t\\n\\t\\t\\t\\t<li class=\"theme_item\" data-gdid=\"CAS_dd7f49ff-74ed-11eb-83fb-ad62027ab9c6\" data-da-position=\"true\">\\n\\t\\t\\t\\t\\t<a href=\"https://post.naver.com/viewer/postView.nhn?volumeNo&#x3D;30772254&amp;memberNo&#x3D;24985926\" class=\"theme_thumb\" data-clk=\"tcc_gam.list4cont2\" target=\"_blank\">\\n\\t\\t\\t\\t\\t\\t<img  data-src=\"https://s.pstatic.net/dthumb.phinf/?src&#x3D;%22https%3A%2F%2Fs.pstatic.net%2Fstatic%2Fwww%2Fmobile%2Fedit%2F2021%2F0222%2Fupload_16139851622150e9bQ.jpg%22&amp;type&#x3D;nf340_228\" alt=\"&quot;자신있다&quot; 디아블로2 레저렉션, 원작과 같으면서 다르다\" width=\"170\" height=\"114\">\\n\\t\\t\\t\\t\\t\\t<span class=\"thumb_bd\"></span>\\n\\t\\t\\t\\t\\t</a>\\n\\t\\t\\t\\t\\t<a href=\"https://post.naver.com/viewer/postView.nhn?volumeNo&#x3D;30772254&amp;memberNo&#x3D;24985926\" class=\"theme_info\" data-clk=\"tcc_gam.list4cont2\" target=\"_blank\">\\n\\t\\t\\t\\t\\t\\t<em class=\"theme_category\"> 게임</em>\\n\\t\\t\\t\\t\\t\\t<strong class=\"title elss\">\"자신있다\" 디아블로2 레저렉션, 원작과 같으면서 다르다</strong>\\n\\t\\t\\t\\t\\t\\t<p class=\"desc\">루머는 현실이 되었다. &lt;디아블로2&gt; 리마스터의 소문은 사실이었고 공식적으로 발표됐다. &lt;디아블로2 레저렉션&gt;. 부제를 리마스터로 하지 않은 이유가 있을까? &lt;스타크래프트&gt;도 리마스터였는데. &lt;디아블로2&gt;는 부활을 뜻하는 &#x27;레저렉션&#x27;이라는 이름을 달고 나왔다. 어쨌든 부활 선언하며 &lt;디아블로2 레저렉션&gt;</p>\\n\\t\\t\\t\\t\\t\\t<div class=\"source_box\">\\n\\t\\t\\t\\t\\t\\t\\t<span class=\"date\">2일 전</span>\\n\\t\\t\\t\\t\\t\\t\\t<span class=\"source\"><span class=\"source_inner\">디스이즈게임</span></span>\\n\\t\\t\\t\\t\\t\\t</div>\\n\\t\\t\\t\\t\\t</a>\\n\\t\\t\\t\\t</li>\\n\\t\\t\\t\\n\\t\\t\\t\\t<li class=\"theme_item\" data-gdid=\"CAS_dd7f4a01-74ed-11eb-83fb-13d0dea97cae\" data-da-position=\"true\">\\n\\t\\t\\t\\t\\t<a href=\"https://post.naver.com/viewer/postView.nhn?volumeNo&#x3D;30772436&amp;memberNo&#x3D;10582936&amp;navigationType&#x3D;push\" class=\"theme_thumb\" data-clk=\"tcc_gam.list4cont3\" target=\"_blank\">\\n\\t\\t\\t\\t\\t\\t<img  data-src=\"https://s.pstatic.net/dthumb.phinf/?src&#x3D;%22https%3A%2F%2Fs.pstatic.net%2Fstatic%2Fwww%2Fmobile%2Fedit%2F2021%2F0222%2Fupload_1613985193791R5iNY.jpg%22&amp;type&#x3D;nf340_228\" alt=\"철권 7 신캐릭터는 은발에 흉터가 있는 폴란드 여성 총리\" width=\"170\" height=\"114\">\\n\\t\\t\\t\\t\\t\\t<span class=\"thumb_bd\"></span>\\n\\t\\t\\t\\t\\t</a>\\n\\t\\t\\t\\t\\t<a href=\"https://post.naver.com/viewer/postView.nhn?volumeNo&#x3D;30772436&amp;memberNo&#x3D;10582936&amp;navigationType&#x3D;push\" class=\"theme_info\" data-clk=\"tcc_gam.list4cont3\" target=\"_blank\">\\n\\t\\t\\t\\t\\t\\t<em class=\"theme_category\"> 게임</em>\\n\\t\\t\\t\\t\\t\\t<strong class=\"title elss\">철권 7 신캐릭터는 은발에 흉터가 있는 폴란드 여성 총리</strong>\\n\\t\\t\\t\\t\\t\\t<p class=\"desc\">올 봄, 철권 7에 새로 참전할 신캐릭터 티저 영상이 공개됐다. 폴란드 총리로 보이는 여성 캐릭터로, &#x27;싸우는 정치가&#x27;를 표방한 듯 보인다. 21일 반다이남코가 공개한 해당 영상에서는 신캐릭터의 모습이 잠깐 등장한다. 전화 통화에서 비서가 &quot;총리님, 그 위협에는...&quot; 이라며 말을 꺼내자, 그녀는 &quot;난 폴란드 국민들을 위해 반드시</p>\\n\\t\\t\\t\\t\\t\\t<div class=\"source_box\">\\n\\t\\t\\t\\t\\t\\t\\t<span class=\"date\">2일 전</span>\\n\\t\\t\\t\\t\\t\\t\\t<span class=\"source\"><span class=\"source_inner\">게임메카</span></span>\\n\\t\\t\\t\\t\\t\\t</div>\\n\\t\\t\\t\\t\\t</a>\\n\\t\\t\\t\\t</li>\\n\\t\\t\\t\\n\\t\\t\\t\\t<li class=\"theme_item\" data-gdid=\"CAS_dd7f4a00-74ed-11eb-83fb-a32e74e1d11b\" data-da-position=\"true\">\\n\\t\\t\\t\\t\\t<a href=\"https://post.naver.com/viewer/postView.nhn?volumeNo&#x3D;30772881&amp;memberNo&#x3D;34059480&amp;navigationType&#x3D;push\" class=\"theme_thumb\" data-clk=\"tcc_gam.list4cont4\" target=\"_blank\">\\n\\t\\t\\t\\t\\t\\t<img  data-src=\"https://s.pstatic.net/dthumb.phinf/?src&#x3D;%22https%3A%2F%2Fs.pstatic.net%2Fstatic%2Fwww%2Fmobile%2Fedit%2F2021%2F0222%2Fupload_1613985180720zwgN2.jpg%22&amp;type&#x3D;nf340_228\" alt=\"애플, 밸브에 400여개 게임 판매 데이터 요청...밸브는 반발\" width=\"170\" height=\"114\">\\n\\t\\t\\t\\t\\t\\t<span class=\"thumb_bd\"></span>\\n\\t\\t\\t\\t\\t</a>\\n\\t\\t\\t\\t\\t<a href=\"https://post.naver.com/viewer/postView.nhn?volumeNo&#x3D;30772881&amp;memberNo&#x3D;34059480&amp;navigationType&#x3D;push\" class=\"theme_info\" data-clk=\"tcc_gam.list4cont4\" target=\"_blank\">\\n\\t\\t\\t\\t\\t\\t<em class=\"theme_category\"> 게임</em>\\n\\t\\t\\t\\t\\t\\t<strong class=\"title elss\">애플, 밸브에 400여개 게임 판매 데이터 요청...밸브는 반발</strong>\\n\\t\\t\\t\\t\\t\\t<p class=\"desc\">에픽게임즈와 애플이 반독점 규정 위반과 관련해 법정 공방을 벌이고 있는 가운데, 애플이 밸브에 스팀 플랫폼 판매 데이터를 요청했었고, 밸브는 이에 반발하고 있는 것으로 확인됐다. 이런 상황이 발생한 것은 에픽게임즈가 작년에 애플과 구글을 상대로 반독점 소송을 제기한데서 출발한다. 에픽게임즈는 미국을 시작으로 호주와 영국, 그리고 유럽에서까지 애플을 상대로 </p>\\n\\t\\t\\t\\t\\t\\t<div class=\"source_box\">\\n\\t\\t\\t\\t\\t\\t\\t<span class=\"date\">2일 전</span>\\n\\t\\t\\t\\t\\t\\t\\t<span class=\"source\"><span class=\"source_inner\">GAMEVU</span></span>\\n\\t\\t\\t\\t\\t\\t</div>\\n\\t\\t\\t\\t\\t</a>\\n\\t\\t\\t\\t</li>\\n\\t\\t\\t\\n\\t\\t\\t\\t<li class=\"theme_item\" data-gdid=\"CAS_e08202d9-74ed-11eb-a785-999c0c370c20\" data-da-position=\"true\">\\n\\t\\t\\t\\t\\t<a href=\"https://post.naver.com/viewer/postView.nhn?volumeNo&#x3D;30777717&amp;memberNo&#x3D;32578972\" class=\"theme_thumb\" data-clk=\"tcc_gam.list4cont5\" target=\"_blank\">\\n\\t\\t\\t\\t\\t\\t<img  data-src=\"https://s.pstatic.net/dthumb.phinf/?src&#x3D;%22https%3A%2F%2Fs.pstatic.net%2Fstatic%2Fwww%2Fmobile%2Fedit%2F2021%2F0222%2Fupload_1613987019677M8l22.jpg%22&amp;type&#x3D;nf340_228\" alt=\"드래곤타입 최약체 top 5\" width=\"170\" height=\"114\">\\n\\t\\t\\t\\t\\t\\t<span class=\"thumb_bd\"></span>\\n\\t\\t\\t\\t\\t</a>\\n\\t\\t\\t\\t\\t<a href=\"https://post.naver.com/viewer/postView.nhn?volumeNo&#x3D;30777717&amp;memberNo&#x3D;32578972\" class=\"theme_info\" data-clk=\"tcc_gam.list4cont5\" target=\"_blank\">\\n\\t\\t\\t\\t\\t\\t<em class=\"theme_category\"> 게임</em>\\n\\t\\t\\t\\t\\t\\t<strong class=\"title elss\">드래곤타입 최약체 top 5</strong>\\n\\t\\t\\t\\t\\t\\t<p class=\"desc\">드래곤타입은 포켓몬 세계에서 가장 강력한 타입중 하나로 유명합니다. 일단 타입 상성도 매우 훌륭하지만 무엇보다 포켓몬 초창기 시리즈부터 드래곤타입 포켓몬들은 유독 종족값 총합이 높기로 유명했는데요. 덕분에 대부분의 드래곤들은 지금까지 사기 포켓몬으로 분류되고 있습니다.그런데 이렇게 강함의 대명사였던 드래곤타입에도 어딘가 조금 이상한 녀석들이 있었습니다. 왜</p>\\n\\t\\t\\t\\t\\t\\t<div class=\"source_box\">\\n\\t\\t\\t\\t\\t\\t\\t<span class=\"date\">2일 전</span>\\n\\t\\t\\t\\t\\t\\t\\t<span class=\"source\"><span class=\"source_inner\">고북손</span></span>\\n\\t\\t\\t\\t\\t\\t</div>\\n\\t\\t\\t\\t\\t</a>\\n\\t\\t\\t\\t</li>\\n\\t\\t\\t\\n\\t\\t</ul>\\n\\t</div>\\n</div>\\n<div class=\"group_theme\" data-block-id=\"\" data-block-code=\"PC-THEME-GAMEAPP-MOBILE-RANKING-DEFAULT-4\" data-block-type=\"MATERIALS\" data-template-code=\"MOBILE-RANKING-LIST\"\\n\\n\\t data-da=\"container\"\\n\\t data-index=\"\"\\n     data-page=\"3\"\\n\\t style=\"display:none\">\\n\\n\\t<div class=\"list_theme_wrap\">\\n\\t\\t<ul class=\"list_theme\">\\n\\t\\t\\t\\n\\t\\t\\t\\t<li class=\"theme_item\" data-gdid=\"CAS_e08202db-74ed-11eb-a785-d979afc5fb16\" data-da-position=\"true\">\\n\\t\\t\\t\\t\\t<a href=\"https://post.naver.com/viewer/postView.nhn?volumeNo&#x3D;30775991&amp;memberNo&#x3D;11878364\" class=\"theme_thumb\" data-clk=\"tcc_gam.list5cont1\" target=\"_blank\">\\n\\t\\t\\t\\t\\t\\t<img  data-src=\"https://s.pstatic.net/dthumb.phinf/?src&#x3D;%22https%3A%2F%2Fs.pstatic.net%2Fstatic%2Fwww%2Fmobile%2Fedit%2F2021%2F0222%2Fupload_1613987102412VsXs7.jpg%22&amp;type&#x3D;nf340_228\" alt=\"&#x27;K-게임&#x27;은 왜 ‘공공의 적’이 되었나?\" width=\"170\" height=\"114\">\\n\\t\\t\\t\\t\\t\\t<span class=\"thumb_bd\"></span>\\n\\t\\t\\t\\t\\t</a>\\n\\t\\t\\t\\t\\t<a href=\"https://post.naver.com/viewer/postView.nhn?volumeNo&#x3D;30775991&amp;memberNo&#x3D;11878364\" class=\"theme_info\" data-clk=\"tcc_gam.list5cont1\" target=\"_blank\">\\n\\t\\t\\t\\t\\t\\t<em class=\"theme_category\"> 게임</em>\\n\\t\\t\\t\\t\\t\\t<strong class=\"title elss\">\\'K-게임\\'은 왜 ‘공공의 적’이 되었나?</strong>\\n\\t\\t\\t\\t\\t\\t<p class=\"desc\">기원전 1700년경 고대 바빌로니아의 ‘함무라비 법전’에는 ‘술집 주인이 손님이 지불한 곡식의 양보다 적은 양의 술을 주었을 경우 물에 던져 넣는다’는 조항이 있다. 쉽게 말해 저울을 속인 자, 벌을 받으리라는 뜻이다. 물 속에 던져버리는 ‘함무라비 법전’의 예까지 아니더라도, 인류 역사에서 </p>\\n\\t\\t\\t\\t\\t\\t<div class=\"source_box\">\\n\\t\\t\\t\\t\\t\\t\\t<span class=\"date\">2일 전</span>\\n\\t\\t\\t\\t\\t\\t\\t<span class=\"source\"><span class=\"source_inner\">베어필드</span></span>\\n\\t\\t\\t\\t\\t\\t</div>\\n\\t\\t\\t\\t\\t</a>\\n\\t\\t\\t\\t</li>\\n\\t\\t\\t\\n\\t\\t\\t\\t<li class=\"theme_item\" data-gdid=\"CAS_dd7f4a02-74ed-11eb-83fb-1d1b4a2d9f00\" data-da-position=\"true\">\\n\\t\\t\\t\\t\\t<a href=\"https://post.naver.com/viewer/postView.nhn?volumeNo&#x3D;30769120&amp;memberNo&#x3D;4505449&amp;navigationType&#x3D;push\" class=\"theme_thumb\" data-clk=\"tcc_gam.list5cont2\" target=\"_blank\">\\n\\t\\t\\t\\t\\t\\t<img  data-src=\"https://s.pstatic.net/dthumb.phinf/?src&#x3D;%22https%3A%2F%2Fs.pstatic.net%2Fstatic%2Fwww%2Fmobile%2Fedit%2F2021%2F0222%2Fupload_1613985246854hnRbb.jpg%22&amp;type&#x3D;nf340_228\" alt=\"2021년 ‘와우’ 로드맵은? 어둠땅&amp;클래식 개발자 인터뷰\" width=\"170\" height=\"114\">\\n\\t\\t\\t\\t\\t\\t<span class=\"thumb_bd\"></span>\\n\\t\\t\\t\\t\\t</a>\\n\\t\\t\\t\\t\\t<a href=\"https://post.naver.com/viewer/postView.nhn?volumeNo&#x3D;30769120&amp;memberNo&#x3D;4505449&amp;navigationType&#x3D;push\" class=\"theme_info\" data-clk=\"tcc_gam.list5cont2\" target=\"_blank\">\\n\\t\\t\\t\\t\\t\\t<em class=\"theme_category\"> 게임</em>\\n\\t\\t\\t\\t\\t\\t<strong class=\"title elss\">2021년 ‘와우’ 로드맵은? 어둠땅&클래식 개발자 인터뷰</strong>\\n\\t\\t\\t\\t\\t\\t<p class=\"desc\">지난 20일부로 블리자드 온라인 행사 ‘블리즈컨라인’ 막이 올랐습니다. 이번 블리즈컨라인은 매년 개최되는 게임 축제 ‘블리즈컨’을 온라인으로 옮겨낸 것으로, 블리자드에서 준비하고 있는 신작 공개는 물론, 현재 서비스되고 있는 대표 게임들의 향후 계획에 대해서도 들어볼 수 있었죠.이번 행사에서 가장 비중 있게 다뤄진</p>\\n\\t\\t\\t\\t\\t\\t<div class=\"source_box\">\\n\\t\\t\\t\\t\\t\\t\\t<span class=\"date\">3일 전</span>\\n\\t\\t\\t\\t\\t\\t\\t<span class=\"source\"><span class=\"source_inner\">PNN</span></span>\\n\\t\\t\\t\\t\\t\\t</div>\\n\\t\\t\\t\\t\\t</a>\\n\\t\\t\\t\\t</li>\\n\\t\\t\\t\\n\\t\\t\\t\\t<li class=\"theme_item\" data-gdid=\"CAS_e08202d7-74ed-11eb-a785-0bfa983a7ed7\" data-da-position=\"true\">\\n\\t\\t\\t\\t\\t<a href=\"https://post.naver.com/viewer/postView.nhn?volumeNo&#x3D;30749725&amp;memberNo&#x3D;25541552\" class=\"theme_thumb\" data-clk=\"tcc_gam.list5cont3\" target=\"_blank\">\\n\\t\\t\\t\\t\\t\\t<img  data-src=\"https://s.pstatic.net/dthumb.phinf/?src&#x3D;%22https%3A%2F%2Fs.pstatic.net%2Fstatic%2Fwww%2Fmobile%2Fedit%2F2021%2F0222%2Fupload_1613986932402Y9QGe.jpg%22&amp;type&#x3D;nf340_228\" alt=\"츤데레 공대장\" width=\"170\" height=\"114\">\\n\\t\\t\\t\\t\\t\\t<span class=\"thumb_bd\"></span>\\n\\t\\t\\t\\t\\t</a>\\n\\t\\t\\t\\t\\t<a href=\"https://post.naver.com/viewer/postView.nhn?volumeNo&#x3D;30749725&amp;memberNo&#x3D;25541552\" class=\"theme_info\" data-clk=\"tcc_gam.list5cont3\" target=\"_blank\">\\n\\t\\t\\t\\t\\t\\t<em class=\"theme_category\"> 게임</em>\\n\\t\\t\\t\\t\\t\\t<strong class=\"title elss\">츤데레 공대장</strong>\\n\\t\\t\\t\\t\\t\\t<p class=\"desc\">글 : 두발로걷는개 / 그림 : 기기맨 공대장님들 마다 각자 스타일이 다 다른데가끔은 이런 츤데레 유형이 종종 보입니다.썰자팟이라고는 했지만 아이템 레벨이좀 낮은 분들이 보이자그분들의 로그를 높여주기 위해조금 무리하게 진행하는 모습....저 역시 부캐고 아이템 레벨도 낮지만무기가 너무 구려서 로그는 그냥 신경 안쓰고 갔는데그래도 나름 괜찮게(?) 나온 듯 </p>\\n\\t\\t\\t\\t\\t\\t<div class=\"source_box\">\\n\\t\\t\\t\\t\\t\\t\\t<span class=\"date\">2일 전</span>\\n\\t\\t\\t\\t\\t\\t\\t<span class=\"source\"><span class=\"source_inner\">두발로걷는개</span></span>\\n\\t\\t\\t\\t\\t\\t</div>\\n\\t\\t\\t\\t\\t</a>\\n\\t\\t\\t\\t</li>\\n\\t\\t\\t\\n\\t\\t\\t\\t<li class=\"theme_item\" data-gdid=\"CAS_e08202dc-74ed-11eb-a785-abcba011dd84\" data-da-position=\"true\">\\n\\t\\t\\t\\t\\t<a href=\"https://post.naver.com/viewer/postView.nhn?volumeNo&#x3D;30770851&amp;memberNo&#x3D;28045346\" class=\"theme_thumb\" data-clk=\"tcc_gam.list5cont4\" target=\"_blank\">\\n\\t\\t\\t\\t\\t\\t<img  data-src=\"https://s.pstatic.net/dthumb.phinf/?src&#x3D;%22https%3A%2F%2Fs.pstatic.net%2Fstatic%2Fwww%2Fmobile%2Fedit%2F2021%2F0222%2Fupload_16139871820866vBKR.jpg%22&amp;type&#x3D;nf340_228\" alt=\"2021 LCK 스프링 요약툰 - 5주차\" width=\"170\" height=\"114\">\\n\\t\\t\\t\\t\\t\\t<span class=\"thumb_bd\"></span>\\n\\t\\t\\t\\t\\t</a>\\n\\t\\t\\t\\t\\t<a href=\"https://post.naver.com/viewer/postView.nhn?volumeNo&#x3D;30770851&amp;memberNo&#x3D;28045346\" class=\"theme_info\" data-clk=\"tcc_gam.list5cont4\" target=\"_blank\">\\n\\t\\t\\t\\t\\t\\t<em class=\"theme_category\"> 게임</em>\\n\\t\\t\\t\\t\\t\\t<strong class=\"title elss\">2021 LCK 스프링 요약툰 - 5주차</strong>\\n\\t\\t\\t\\t\\t\\t<p class=\"desc\">시즌이 절반 정도 진행되고 나니 이제 어느 정도 PO 진출 팀들이 보이는 듯하네요. 순위 말고는 크게 변동이 없을 것으로 예상됩니다. 과연 AF가 막차 탑승을 노려볼 수 있을지? + 2R부터 주 4일 경기 아주 조와용~~~~~~~~~~~~~~~~</p>\\n\\t\\t\\t\\t\\t\\t<div class=\"source_box\">\\n\\t\\t\\t\\t\\t\\t\\t<span class=\"date\">3일 전</span>\\n\\t\\t\\t\\t\\t\\t\\t<span class=\"source\"><span class=\"source_inner\">RedHorN</span></span>\\n\\t\\t\\t\\t\\t\\t</div>\\n\\t\\t\\t\\t\\t</a>\\n\\t\\t\\t\\t</li>\\n\\t\\t\\t\\n\\t\\t\\t\\t<li class=\"theme_item\" data-gdid=\"CAS_e08202da-74ed-11eb-a785-4d2ef910b572\" data-da-position=\"true\">\\n\\t\\t\\t\\t\\t<a href=\"https://post.naver.com/viewer/postView.nhn?volumeNo&#x3D;30741480&amp;memberNo&#x3D;38332596\" class=\"theme_thumb\" data-clk=\"tcc_gam.list5cont5\" target=\"_blank\">\\n\\t\\t\\t\\t\\t\\t<img  data-src=\"https://s.pstatic.net/dthumb.phinf/?src&#x3D;%22https%3A%2F%2Fs.pstatic.net%2Fstatic%2Fwww%2Fmobile%2Fedit%2F2021%2F0222%2Fupload_1613987057555jjVea.jpg%22&amp;type&#x3D;nf340_228\" alt=\"몸부림쳐 보시지! 명일방주 &#x27;라플란드&#x27; 코스프레\" width=\"170\" height=\"114\">\\n\\t\\t\\t\\t\\t\\t<span class=\"thumb_bd\"></span>\\n\\t\\t\\t\\t\\t</a>\\n\\t\\t\\t\\t\\t<a href=\"https://post.naver.com/viewer/postView.nhn?volumeNo&#x3D;30741480&amp;memberNo&#x3D;38332596\" class=\"theme_info\" data-clk=\"tcc_gam.list5cont5\" target=\"_blank\">\\n\\t\\t\\t\\t\\t\\t<em class=\"theme_category\"> 게임</em>\\n\\t\\t\\t\\t\\t\\t<strong class=\"title elss\">몸부림쳐 보시지! 명일방주 \\'라플란드\\' 코스프레</strong>\\n\\t\\t\\t\\t\\t\\t<p class=\"desc\">안녕하세요!에이크라운 입니다. 얼마 전 까지만 해도 신년, 새해이야기를 주고 받고 했었는데벌써 2월 중순이라는 시기가 되었습니다.시간이 이렇게나 빠르게 흘러가 버리다니!흑흑 이럴 순 없어.. 문득 시간에 대한 회의감을 느끼고 있는에디터와 함께 오늘도의미있는 즐거운 하루를 보낼 수 있도록이야기 속으로 떠나보실게요!▼(출처 : 네이버&amp;구글) [ 명일방주</p>\\n\\t\\t\\t\\t\\t\\t<div class=\"source_box\">\\n\\t\\t\\t\\t\\t\\t\\t<span class=\"date\">1주일 전</span>\\n\\t\\t\\t\\t\\t\\t\\t<span class=\"source\"><span class=\"source_inner\">에이크라운</span></span>\\n\\t\\t\\t\\t\\t\\t</div>\\n\\t\\t\\t\\t\\t</a>\\n\\t\\t\\t\\t</li>\\n\\t\\t\\t\\n\\t\\t</ul>\\n\\t</div>\\n</div>\\n<div class=\"group_theme\" data-block-id=\"\" data-block-code=\"PC-THEME-GAMEAPP-MOBILE-RANKING-DEFAULT-5\" data-block-type=\"MATERIALS\" data-template-code=\"MOBILE-RANKING-LIST\"\\n\\n\\t data-da=\"container\"\\n\\t data-index=\"\"\\n     data-page=\"3\"\\n\\t style=\"display:none\">\\n\\n\\t<div class=\"list_theme_wrap\">\\n\\t\\t<ul class=\"list_theme\">\\n\\t\\t\\t\\n\\t\\t\\t\\t<li class=\"theme_item\" data-gdid=\"CAS_e08202dd-74ed-11eb-a785-9b766e57e88d\" data-da-position=\"true\">\\n\\t\\t\\t\\t\\t<a href=\"https://post.naver.com/viewer/postView.nhn?volumeNo&#x3D;30750500&amp;memberNo&#x3D;11415974\" class=\"theme_thumb\" data-clk=\"tcc_gam.list6cont1\" target=\"_blank\">\\n\\t\\t\\t\\t\\t\\t<img  data-src=\"https://s.pstatic.net/dthumb.phinf/?src&#x3D;%22https%3A%2F%2Fs.pstatic.net%2Fstatic%2Fwww%2Fmobile%2Fedit%2F2021%2F0222%2Fupload_1613987577112tiTlX.jpg%22&amp;type&#x3D;nf340_228\" alt=\"빨간 새의 꿈, 사이버 펑크 2077\" width=\"170\" height=\"114\">\\n\\t\\t\\t\\t\\t\\t<span class=\"thumb_bd\"></span>\\n\\t\\t\\t\\t\\t</a>\\n\\t\\t\\t\\t\\t<a href=\"https://post.naver.com/viewer/postView.nhn?volumeNo&#x3D;30750500&amp;memberNo&#x3D;11415974\" class=\"theme_info\" data-clk=\"tcc_gam.list6cont1\" target=\"_blank\">\\n\\t\\t\\t\\t\\t\\t<em class=\"theme_category\"> 게임</em>\\n\\t\\t\\t\\t\\t\\t<strong class=\"title elss\">빨간 새의 꿈, 사이버 펑크 2077</strong>\\n\\t\\t\\t\\t\\t\\t<p class=\"desc\">행복을 전하던 파랑새가 있었습니다. 파랑새는 수많은 사람들에게 기쁜 소식을 전해주었습니다. 하지만 언제부터 파랑새는 시기와 혐오를 전달하기 시작합니다. 그리고 사람들은 파랑새를 해로운 새라고 부르며 멀리했죠 뜬금없이 제목은 빨간 새인데 왜 파랑새 이야기냐고요? 그건 이 파랑새의 이야기와 빨간 새가 등장하기 전의 게임계의 상황이 비슷하기 때문입니다. 언제부터</p>\\n\\t\\t\\t\\t\\t\\t<div class=\"source_box\">\\n\\t\\t\\t\\t\\t\\t\\t<span class=\"date\">6일 전</span>\\n\\t\\t\\t\\t\\t\\t\\t<span class=\"source\"><span class=\"source_inner\">정어리</span></span>\\n\\t\\t\\t\\t\\t\\t</div>\\n\\t\\t\\t\\t\\t</a>\\n\\t\\t\\t\\t</li>\\n\\t\\t\\t\\n\\t\\t\\t\\t<li class=\"theme_item\" data-gdid=\"CAS_e08202d8-74ed-11eb-a785-7733cc2722b7\" data-da-position=\"true\">\\n\\t\\t\\t\\t\\t<a href=\"https://post.naver.com/viewer/postView.nhn?volumeNo&#x3D;30740327&amp;memberNo&#x3D;28208497\" class=\"theme_thumb\" data-clk=\"tcc_gam.list6cont2\" target=\"_blank\">\\n\\t\\t\\t\\t\\t\\t<img  data-src=\"https://s.pstatic.net/dthumb.phinf/?src&#x3D;%22https%3A%2F%2Fs.pstatic.net%2Fstatic%2Fwww%2Fmobile%2Fedit%2F2021%2F0222%2Fupload_1613986980687V3QMm.jpg%22&amp;type&#x3D;nf340_228\" alt=\"게임속에서 베스트 드라이버가 되는 순간들\" width=\"170\" height=\"114\">\\n\\t\\t\\t\\t\\t\\t<span class=\"thumb_bd\"></span>\\n\\t\\t\\t\\t\\t</a>\\n\\t\\t\\t\\t\\t<a href=\"https://post.naver.com/viewer/postView.nhn?volumeNo&#x3D;30740327&amp;memberNo&#x3D;28208497\" class=\"theme_info\" data-clk=\"tcc_gam.list6cont2\" target=\"_blank\">\\n\\t\\t\\t\\t\\t\\t<em class=\"theme_category\"> 게임</em>\\n\\t\\t\\t\\t\\t\\t<strong class=\"title elss\">게임속에서 베스트 드라이버가 되는 순간들</strong>\\n\\t\\t\\t\\t\\t\\t<p class=\"desc\">저는 어린 시절부터 유독 레이싱 게임을 상당히 좋아했습니다. 아무래도 제가 어릴 때는 진정한 느낌의 레이싱 게임을 즐기기 위해서는 페달과 핸들이 설치되어 있는 오락실을 자주 갔었습니다.이후에는 점점 그래픽이 발전하면서 집에서도 꾸준히 레이싱 게임들을 즐겼는데요. 이게 알게 모르게 저한테는 운전 경력에 상당한 도움이 됐는지 운전면허도 별 무리 없이 땄고\\x04</p>\\n\\t\\t\\t\\t\\t\\t<div class=\"source_box\">\\n\\t\\t\\t\\t\\t\\t\\t<span class=\"date\">1주일 전</span>\\n\\t\\t\\t\\t\\t\\t\\t<span class=\"source\"><span class=\"source_inner\">코저게이밍</span></span>\\n\\t\\t\\t\\t\\t\\t</div>\\n\\t\\t\\t\\t\\t</a>\\n\\t\\t\\t\\t</li>\\n\\t\\t\\t\\n\\t\\t\\t\\t<li class=\"theme_item\" data-gdid=\"CAS_0a00e006-74ee-11eb-a785-19675d92e0e5\" data-da-position=\"true\">\\n\\t\\t\\t\\t\\t<a href=\"https://post.naver.com/viewer/postView.nhn?volumeNo&#x3D;30751676&amp;memberNo&#x3D;10260721&amp;navigationType&#x3D;push\" class=\"theme_thumb\" data-clk=\"tcc_gam.list6cont3\" target=\"_blank\">\\n\\t\\t\\t\\t\\t\\t<img  data-src=\"https://s.pstatic.net/dthumb.phinf/?src&#x3D;%22https%3A%2F%2Fs.pstatic.net%2Fstatic%2Fwww%2Fmobile%2Fedit%2F2021%2F0222%2Fupload_1613985334247DAizl.jpg%22&amp;type&#x3D;nf340_228\" alt=\"라스트 오브 어스 2에 숨겨진 이스터 에그\" width=\"170\" height=\"114\">\\n\\t\\t\\t\\t\\t\\t<span class=\"thumb_bd\"></span>\\n\\t\\t\\t\\t\\t</a>\\n\\t\\t\\t\\t\\t<a href=\"https://post.naver.com/viewer/postView.nhn?volumeNo&#x3D;30751676&amp;memberNo&#x3D;10260721&amp;navigationType&#x3D;push\" class=\"theme_info\" data-clk=\"tcc_gam.list6cont3\" target=\"_blank\">\\n\\t\\t\\t\\t\\t\\t<em class=\"theme_category\"> 게임</em>\\n\\t\\t\\t\\t\\t\\t<strong class=\"title elss\">라스트 오브 어스 2에 숨겨진 이스터 에그</strong>\\n\\t\\t\\t\\t\\t\\t<p class=\"desc\">스포일러가 다소 포함돼 있지만, 멋진 스포일러입니다.‘더 라스트 오브 어스 파트 2’(이하 라오어2)는 세부적인 디테일이 넘치는 게임입니다. 라오어 2에서는 게임 속 세계를 탐구하고, 너티독의 예전 게임에 대한 오마주가 담겨 있습니다. 단순히 트로피(도전과제)를 달성하는 데 필요한 목표일 수도 있지만, 이 </p>\\n\\t\\t\\t\\t\\t\\t<div class=\"source_box\">\\n\\t\\t\\t\\t\\t\\t\\t<span class=\"date\">6일 전</span>\\n\\t\\t\\t\\t\\t\\t\\t<span class=\"source\"><span class=\"source_inner\">레드불</span></span>\\n\\t\\t\\t\\t\\t\\t</div>\\n\\t\\t\\t\\t\\t</a>\\n\\t\\t\\t\\t</li>\\n\\t\\t\\t\\n\\t\\t\\t\\t<li class=\"theme_item\" data-gdid=\"CAS_0a00e005-74ee-11eb-a785-39a89bf3ed07\" data-da-position=\"true\">\\n\\t\\t\\t\\t\\t<a href=\"https://post.naver.com/viewer/postView.nhn?volumeNo&#x3D;30738673&amp;memberNo&#x3D;49058383&amp;navigationType&#x3D;push\" class=\"theme_thumb\" data-clk=\"tcc_gam.list6cont4\" target=\"_blank\">\\n\\t\\t\\t\\t\\t\\t<img  data-src=\"https://s.pstatic.net/dthumb.phinf/?src&#x3D;%22https%3A%2F%2Fs.pstatic.net%2Fstatic%2Fwww%2Fmobile%2Fedit%2F2021%2F0222%2Fupload_16139853228856NmXt.jpg%22&amp;type&#x3D;nf340_228\" alt=\"슈퍼 스매시 브라더스 얼티밋 생초보 후기\" width=\"170\" height=\"114\">\\n\\t\\t\\t\\t\\t\\t<span class=\"thumb_bd\"></span>\\n\\t\\t\\t\\t\\t</a>\\n\\t\\t\\t\\t\\t<a href=\"https://post.naver.com/viewer/postView.nhn?volumeNo&#x3D;30738673&amp;memberNo&#x3D;49058383&amp;navigationType&#x3D;push\" class=\"theme_info\" data-clk=\"tcc_gam.list6cont4\" target=\"_blank\">\\n\\t\\t\\t\\t\\t\\t<em class=\"theme_category\"> 게임</em>\\n\\t\\t\\t\\t\\t\\t<strong class=\"title elss\">슈퍼 스매시 브라더스 얼티밋 생초보 후기</strong>\\n\\t\\t\\t\\t\\t\\t<p class=\"desc\">안녕하세요 게임인라이프에요오늘 리뷰할 게임은 슈퍼 스매시 브라더스 얼티밋이에요 이거 개봉하기 전까지는 단순히 슈퍼마리오 격투 버전인 줄 알았는데 그것이 아니라 닌텐도 캐릭터 격투 버전이었어요슈퍼 스매시 브라더스 얼티밋 시작 전에 일단 안에 팩 한번 열어보고요 닌텐도 스위치는 작은 팩이라 풀스처럼 CD가 꽉 차 있지 않고 안이 텅텅 비어서 살짝 휑한 느낌은 </p>\\n\\t\\t\\t\\t\\t\\t<div class=\"source_box\">\\n\\t\\t\\t\\t\\t\\t\\t<span class=\"date\">1주일 전</span>\\n\\t\\t\\t\\t\\t\\t\\t<span class=\"source\"><span class=\"source_inner\">게임인라이프</span></span>\\n\\t\\t\\t\\t\\t\\t</div>\\n\\t\\t\\t\\t\\t</a>\\n\\t\\t\\t\\t</li>\\n\\t\\t\\t\\n\\t\\t\\t\\t<li class=\"theme_item\" data-gdid=\"CAS_0a00e004-74ee-11eb-a785-b5fa09690cae\" data-da-position=\"true\">\\n\\t\\t\\t\\t\\t<a href=\"https://post.naver.com/viewer/postView.nhn?volumeNo&#x3D;30745317&amp;memberNo&#x3D;3895207&amp;navigationType&#x3D;push\" class=\"theme_thumb\" data-clk=\"tcc_gam.list6cont5\" target=\"_blank\">\\n\\t\\t\\t\\t\\t\\t<img  data-src=\"https://s.pstatic.net/dthumb.phinf/?src&#x3D;%22https%3A%2F%2Fs.pstatic.net%2Fstatic%2Fwww%2Fmobile%2Fedit%2F2021%2F0222%2Fupload_1613985297248M21pP.jpg%22&amp;type&#x3D;nf340_228\" alt=\"[3분 뚝딱 게임리뷰] 리틀 나이트메어2\" width=\"170\" height=\"114\">\\n\\t\\t\\t\\t\\t\\t<span class=\"thumb_bd\"></span>\\n\\t\\t\\t\\t\\t</a>\\n\\t\\t\\t\\t\\t<a href=\"https://post.naver.com/viewer/postView.nhn?volumeNo&#x3D;30745317&amp;memberNo&#x3D;3895207&amp;navigationType&#x3D;push\" class=\"theme_info\" data-clk=\"tcc_gam.list6cont5\" target=\"_blank\">\\n\\t\\t\\t\\t\\t\\t<em class=\"theme_category\"> 게임</em>\\n\\t\\t\\t\\t\\t\\t<strong class=\"title elss\">[3분 뚝딱 게임리뷰] 리틀 나이트메어2</strong>\\n\\t\\t\\t\\t\\t\\t<p class=\"desc\">안녕하세요 ECCA 소속 에디터, 카지아 입니다. 플레이 타임: 5.2h몰입하기 좋은 공포 게임, &quot;Little Nightmares 2&quot;에 대해 알아보겠습니다!게임명: LITTLE NIGHTMARES Ⅱ (리틀 나이트메어 2) 제작사: Tarsier Studios 가격: 32,800 장르: 싱글 공포게임 용량: 8.75GB평</p>\\n\\t\\t\\t\\t\\t\\t<div class=\"source_box\">\\n\\t\\t\\t\\t\\t\\t\\t<span class=\"date\">6일 전</span>\\n\\t\\t\\t\\t\\t\\t\\t<span class=\"source\"><span class=\"source_inner\">ECCA</span></span>\\n\\t\\t\\t\\t\\t\\t</div>\\n\\t\\t\\t\\t\\t</a>\\n\\t\\t\\t\\t</li>\\n\\t\\t\\t\\n\\t\\t</ul>\\n\\t</div>\\n</div>\\n<div class=\"group_theme\" data-block-id=\"\" data-block-code=\"PC-THEME-GAMEAPP-MOBILE-RANKING-DEFAULT-6\" data-block-type=\"MATERIALS\" data-template-code=\"MOBILE-RANKING-LIST\"\\n\\n\\t data-da=\"container\"\\n\\t data-index=\"\"\\n     data-page=\"4\"\\n\\t style=\"display:none\">\\n\\n\\t<div class=\"list_theme_wrap\">\\n\\t\\t<ul class=\"list_theme\">\\n\\t\\t\\t\\n\\t\\t\\t\\t<li class=\"theme_item\" data-gdid=\"CAS_4712c7cd-cd67-11ea-aeaa-6b06ed24bf1d\" data-da-position=\"true\">\\n\\t\\t\\t\\t\\t<a href=\"https://post.naver.com/viewer/postView.nhn?volumeNo&#x3D;30646843&amp;memberNo&#x3D;31236473\" class=\"theme_thumb\" data-clk=\"tcc_gam.list7cont1\" target=\"_blank\">\\n\\t\\t\\t\\t\\t\\t<img  data-src=\"https://s.pstatic.net/dthumb.phinf/?src&#x3D;%22https%3A%2F%2Fs.pstatic.net%2Fstatic%2Fwww%2Fmobile%2Fedit%2F2021%2F0205%2Fupload_1612524939353pYrjt.jpg%22&amp;type&#x3D;nf340_228\" alt=\"넷마블 &#x27;리니지2 레볼루션&#x27;, 혈맹 최강자전 업데이트 실시\" width=\"170\" height=\"114\">\\n\\t\\t\\t\\t\\t\\t<span class=\"thumb_bd\"></span>\\n\\t\\t\\t\\t\\t</a>\\n\\t\\t\\t\\t\\t<a href=\"https://post.naver.com/viewer/postView.nhn?volumeNo&#x3D;30646843&amp;memberNo&#x3D;31236473\" class=\"theme_info\" data-clk=\"tcc_gam.list7cont1\" target=\"_blank\">\\n\\t\\t\\t\\t\\t\\t<em class=\"theme_category\"> 게임</em>\\n\\t\\t\\t\\t\\t\\t<strong class=\"title elss\">넷마블 \\'리니지2 레볼루션\\', 혈맹 최강자전 업데이트 실시</strong>\\n\\t\\t\\t\\t\\t\\t<p class=\"desc\">넷마블(대표 권영식, 이승원)은 모바일 MMORPG(다중접속역할수행게임) &#x27;리니지2 레볼루션&#x27;(개발사 넷마블네오)에 최고 혈맹을 결정하는 전투 콘텐츠 &#x27;고대의 전장: 혈맹 최강자전(이하 혈맹 최강자전)&#x27;을 업데이트했다고 4일 밝혔다.&#x27;혈맹 최강자전&#x27;은 요새를 보유한 혈맹들이 조별 토너먼트와 챔피언 토너먼트를 거쳐 최고의 혈맹을 결정하는 콘텐츠다.조별 토너먼</p>\\n\\t\\t\\t\\t\\t\\t<div class=\"source_box\">\\n\\t\\t\\t\\t\\t\\t\\t<span class=\"date\">2주일 전</span>\\n\\t\\t\\t\\t\\t\\t\\t<span class=\"source\"><span class=\"source_inner\">넷마블</span></span>\\n\\t\\t\\t\\t\\t\\t</div>\\n\\t\\t\\t\\t\\t</a>\\n\\t\\t\\t\\t</li>\\n\\t\\t\\t\\n\\t\\t\\t\\t<li class=\"theme_item\" data-gdid=\"CAS_10dd03f1-72bc-11eb-bfa5-bb3f2edfcfc9\" data-da-position=\"true\">\\n\\t\\t\\t\\t\\t<a href=\"https://post.naver.com/viewer/postView.nhn?volumeNo&#x3D;30756509&amp;memberNo&#x3D;1105&amp;navigationType&#x3D;push\" class=\"theme_thumb\" data-clk=\"tcc_gam.list7cont2\" target=\"_blank\">\\n\\t\\t\\t\\t\\t\\t<img  data-src=\"https://s.pstatic.net/dthumb.phinf/?src&#x3D;%22https%3A%2F%2Fs.pstatic.net%2Fstatic%2Fwww%2Fmobile%2Fedit%2F2021%2F0219%2Fupload_1613743908876AgQlF.jpg%22&amp;type&#x3D;nf340_228\" alt=\"닌텐도 스위치 한정판 TOP5! 동물의숲부터 몬헌 에디션까지\" width=\"170\" height=\"114\">\\n\\t\\t\\t\\t\\t\\t<span class=\"thumb_bd\"></span>\\n\\t\\t\\t\\t\\t</a>\\n\\t\\t\\t\\t\\t<a href=\"https://post.naver.com/viewer/postView.nhn?volumeNo&#x3D;30756509&amp;memberNo&#x3D;1105&amp;navigationType&#x3D;push\" class=\"theme_info\" data-clk=\"tcc_gam.list7cont2\" target=\"_blank\">\\n\\t\\t\\t\\t\\t\\t<em class=\"theme_category\"> 게임</em>\\n\\t\\t\\t\\t\\t\\t<strong class=\"title elss\">닌텐도 스위치 한정판 TOP5! 동물의숲부터 몬헌 에디션까지</strong>\\n\\t\\t\\t\\t\\t\\t<p class=\"desc\">팬데믹으로 몰고간 코로나19의 확산으로 게임기 판매량이 크게 증가했다. 특히 지난 연말연시 기간 동안 닌텐도 스위치는 차세대 콘솔 기기인 PS5 판매량을 크게 앞선 것으로 확인되고 있는데 아무래도 신형 콘솔게임기의 특성상 반도체 수급차질이 상당한 영향을 미친 것으로 보인다.그럼에도 불구하고 출시된지 4년 된 구형 게임기가 한 분기에 무려 1100만대를 팔 </p>\\n\\t\\t\\t\\t\\t\\t<div class=\"source_box\">\\n\\t\\t\\t\\t\\t\\t\\t<span class=\"date\">5일 전</span>\\n\\t\\t\\t\\t\\t\\t\\t<span class=\"source\"><span class=\"source_inner\">비에르쥬</span></span>\\n\\t\\t\\t\\t\\t\\t</div>\\n\\t\\t\\t\\t\\t</a>\\n\\t\\t\\t\\t</li>\\n\\t\\t\\t\\n\\t\\t\\t\\t<li class=\"theme_item\" data-gdid=\"CAS_19deec72-72bc-11eb-bfa5-0318d0c138cb\" data-da-position=\"true\">\\n\\t\\t\\t\\t\\t<a href=\"https://post.naver.com/viewer/postView.nhn?volumeNo&#x3D;30735782&amp;memberNo&#x3D;2038467\" class=\"theme_thumb\" data-clk=\"tcc_gam.list7cont3\" target=\"_blank\">\\n\\t\\t\\t\\t\\t\\t<img  data-src=\"https://s.pstatic.net/dthumb.phinf/?src&#x3D;%22https%3A%2F%2Fs.pstatic.net%2Fstatic%2Fwww%2Fmobile%2Fedit%2F2021%2F0219%2Fupload_1613744360710Czs3u.jpg%22&amp;type&#x3D;nf340_228\" alt=\"찬란히 빛나는 Sailor Diamond, 세일러문 &#x27;프린세스 세레니티&#x27; 코스프레\" width=\"170\" height=\"114\">\\n\\t\\t\\t\\t\\t\\t<span class=\"thumb_bd\"></span>\\n\\t\\t\\t\\t\\t</a>\\n\\t\\t\\t\\t\\t<a href=\"https://post.naver.com/viewer/postView.nhn?volumeNo&#x3D;30735782&amp;memberNo&#x3D;2038467\" class=\"theme_info\" data-clk=\"tcc_gam.list7cont3\" target=\"_blank\">\\n\\t\\t\\t\\t\\t\\t<em class=\"theme_category\"> 게임</em>\\n\\t\\t\\t\\t\\t\\t<strong class=\"title elss\">찬란히 빛나는 Sailor Diamond, 세일러문 \\'프린세스 세레니티\\' 코스프레</strong>\\n\\t\\t\\t\\t\\t\\t<p class=\"desc\">안녕하세요 Team CSL 입니다 설연휴가 지나 월요병에 허덕이는 필자 입니다오늘 소개 해 드릴 작품은 악을 멸하는 세일러 전사들의 분투! 세일러문 입니다1990년대에 초딩 시절을 살아온 필자의 시절에 세일러문은 추억의 한켠에 있는 작품 인데요, 1992년 연재를 시작한 타케우치 나오코의 마법소녀 시리즈물인 미소녀전사 세일러문, 한국에서는 1997년 KBS</p>\\n\\t\\t\\t\\t\\t\\t<div class=\"source_box\">\\n\\t\\t\\t\\t\\t\\t\\t<span class=\"date\">6일 전</span>\\n\\t\\t\\t\\t\\t\\t\\t<span class=\"source\"><span class=\"source_inner\">TeamCSL</span></span>\\n\\t\\t\\t\\t\\t\\t</div>\\n\\t\\t\\t\\t\\t</a>\\n\\t\\t\\t\\t</li>\\n\\t\\t\\t\\n\\t\\t\\t\\t<li class=\"theme_item\" data-gdid=\"CAS_10dd03f0-72bc-11eb-bfa5-852293b5760c\" data-da-position=\"true\">\\n\\t\\t\\t\\t\\t<a href=\"https://post.naver.com/viewer/postView.nhn?volumeNo&#x3D;30757858&amp;memberNo&#x3D;11255530&amp;navigationType&#x3D;push\" class=\"theme_thumb\" data-clk=\"tcc_gam.list7cont4\" target=\"_blank\">\\n\\t\\t\\t\\t\\t\\t<img  data-src=\"https://s.pstatic.net/dthumb.phinf/?src&#x3D;%22https%3A%2F%2Fs.pstatic.net%2Fstatic%2Fwww%2Fmobile%2Fedit%2F2021%2F0219%2Fupload_1613743875090IsnJg.jpg%22&amp;type&#x3D;nf340_228\" alt=\"절대란 없다, 오버워치에 꼭 필요한 &#x27;신규 영웅&#x27;\" width=\"170\" height=\"114\">\\n\\t\\t\\t\\t\\t\\t<span class=\"thumb_bd\"></span>\\n\\t\\t\\t\\t\\t</a>\\n\\t\\t\\t\\t\\t<a href=\"https://post.naver.com/viewer/postView.nhn?volumeNo&#x3D;30757858&amp;memberNo&#x3D;11255530&amp;navigationType&#x3D;push\" class=\"theme_info\" data-clk=\"tcc_gam.list7cont4\" target=\"_blank\">\\n\\t\\t\\t\\t\\t\\t<em class=\"theme_category\"> 게임</em>\\n\\t\\t\\t\\t\\t\\t<strong class=\"title elss\">절대란 없다, 오버워치에 꼭 필요한 \\'신규 영웅\\'</strong>\\n\\t\\t\\t\\t\\t\\t<p class=\"desc\">에코가 신규 오버워치 영웅으로 출시된 지 어느덧 10개월이 지났다. 블리즈컨라인이 하루 앞으로 다가온 지금, 오버워치에 필요한 것은 차기작, 확장팩이 아닌 신규 영웅이다. 오버워치는 정식출시 이후, 총 11종의 영웅을 선보였다. 2016년 7월, 아나를 시작으로 4개월마다 새로운 영웅을 추가했다. 신규 영웅은 메타 변화를 이끌었으며, 매년 블리즈년 오버워치</p>\\n\\t\\t\\t\\t\\t\\t<div class=\"source_box\">\\n\\t\\t\\t\\t\\t\\t\\t<span class=\"date\">5일 전</span>\\n\\t\\t\\t\\t\\t\\t\\t<span class=\"source\"><span class=\"source_inner\">게임인사이트</span></span>\\n\\t\\t\\t\\t\\t\\t</div>\\n\\t\\t\\t\\t\\t</a>\\n\\t\\t\\t\\t</li>\\n\\t\\t\\t\\n\\t\\t\\t\\t<li class=\"theme_item\" data-gdid=\"CAS_10dd03ee-72bc-11eb-bfa5-27d168d3ca1e\" data-da-position=\"true\">\\n\\t\\t\\t\\t\\t<a href=\"https://post.naver.com/viewer/postView.nhn?volumeNo&#x3D;30756802&amp;memberNo&#x3D;559061&amp;navigationType&#x3D;push\" class=\"theme_thumb\" data-clk=\"tcc_gam.list7cont5\" target=\"_blank\">\\n\\t\\t\\t\\t\\t\\t<img  data-src=\"https://s.pstatic.net/dthumb.phinf/?src&#x3D;%22https%3A%2F%2Fs.pstatic.net%2Fstatic%2Fwww%2Fmobile%2Fedit%2F2021%2F0219%2Fupload_1613743824160XeKMH.jpg%22&amp;type&#x3D;nf340_228\" alt=\"게임 업계의 영업비밀 &#x27;변동 확률&#x27; 은 무엇일까?\" width=\"170\" height=\"114\">\\n\\t\\t\\t\\t\\t\\t<span class=\"thumb_bd\"></span>\\n\\t\\t\\t\\t\\t</a>\\n\\t\\t\\t\\t\\t<a href=\"https://post.naver.com/viewer/postView.nhn?volumeNo&#x3D;30756802&amp;memberNo&#x3D;559061&amp;navigationType&#x3D;push\" class=\"theme_info\" data-clk=\"tcc_gam.list7cont5\" target=\"_blank\">\\n\\t\\t\\t\\t\\t\\t<em class=\"theme_category\"> 게임</em>\\n\\t\\t\\t\\t\\t\\t<strong class=\"title elss\">게임 업계의 영업비밀 \\'변동 확률\\' 은 무엇일까?</strong>\\n\\t\\t\\t\\t\\t\\t<p class=\"desc\">이번에 난리가 난 사태 중 하나가 바로, 한국 게임 산업 협회에서 제출한 법률안 검토 의견에 담긴 &#x27;변동 확률&#x27; 이야기가 그 대상이다.문제가 되고 있는 구문의견서 개정 전에 내놓았던 문서에 따르면, 고사양 아이템을 내놓는 확률은 밸런스를 맞추기 위해 일정 비율 이하로 제한하는데, 이는 영업비밀이라고 적시해 두었었고, 이러한 변동 확률의 경우 개발자도 알 수</p>\\n\\t\\t\\t\\t\\t\\t<div class=\"source_box\">\\n\\t\\t\\t\\t\\t\\t\\t<span class=\"date\">5일 전</span>\\n\\t\\t\\t\\t\\t\\t\\t<span class=\"source\"><span class=\"source_inner\">MastProgs</span></span>\\n\\t\\t\\t\\t\\t\\t</div>\\n\\t\\t\\t\\t\\t</a>\\n\\t\\t\\t\\t</li>\\n\\t\\t\\t\\n\\t\\t</ul>\\n\\t</div>\\n</div>\\n<div class=\"group_theme\" data-block-id=\"\" data-block-code=\"PC-THEME-GAMEAPP-MOBILE-RANKING-DEFAULT-7\" data-block-type=\"MATERIALS\" data-template-code=\"MOBILE-RANKING-LIST\"\\n\\n\\t data-da=\"container\"\\n\\t data-index=\"\"\\n     data-page=\"4\"\\n\\t style=\"display:none\">\\n\\n\\t<div class=\"list_theme_wrap\">\\n\\t\\t<ul class=\"list_theme\">\\n\\t\\t\\t\\n\\t\\t\\t\\t<li class=\"theme_item\" data-gdid=\"CAS_19deec74-72bc-11eb-bfa5-d9372856656d\" data-da-position=\"true\">\\n\\t\\t\\t\\t\\t<a href=\"https://post.naver.com/viewer/postView.nhn?volumeNo&#x3D;30755023&amp;memberNo&#x3D;19803452\" class=\"theme_thumb\" data-clk=\"tcc_gam.list8cont1\" target=\"_blank\">\\n\\t\\t\\t\\t\\t\\t<img  data-src=\"https://s.pstatic.net/dthumb.phinf/?src&#x3D;%22https%3A%2F%2Fs.pstatic.net%2Fstatic%2Fwww%2Fmobile%2Fedit%2F2021%2F0219%2Fupload_1613744520028eSchV.jpg%22&amp;type&#x3D;nf340_228\" alt=\"118화. 게임이 재미없어! 게임 불감증\" width=\"170\" height=\"114\">\\n\\t\\t\\t\\t\\t\\t<span class=\"thumb_bd\"></span>\\n\\t\\t\\t\\t\\t</a>\\n\\t\\t\\t\\t\\t<a href=\"https://post.naver.com/viewer/postView.nhn?volumeNo&#x3D;30755023&amp;memberNo&#x3D;19803452\" class=\"theme_info\" data-clk=\"tcc_gam.list8cont1\" target=\"_blank\">\\n\\t\\t\\t\\t\\t\\t<em class=\"theme_category\"> 게임</em>\\n\\t\\t\\t\\t\\t\\t<strong class=\"title elss\">118화. 게임이 재미없어! 게임 불감증</strong>\\n\\t\\t\\t\\t\\t\\t<p class=\"desc\">지금은 다시 겜CHANG이 되었지만, 얼마 전까지 게임 불감증이 와서 좀 힘들었습니다. 이러면 안 돼! 하면서 이것저것 억지로 해봤는데 오히려 더 악영향을 끼치더라고요. 그래서 그냥 포기하고 게임을 멀리했더니 다시 돌아왔습니다. 집 밥도 맨날 먹으면 맛없는데, 막상 맨날 배달 음식 먹으면 집 밥이 먹고 싶어지는 인간의 모옷된 심보입니다. _ 그리고 드디어 </p>\\n\\t\\t\\t\\t\\t\\t<div class=\"source_box\">\\n\\t\\t\\t\\t\\t\\t\\t<span class=\"date\">5일 전</span>\\n\\t\\t\\t\\t\\t\\t\\t<span class=\"source\"><span class=\"source_inner\">돈미니</span></span>\\n\\t\\t\\t\\t\\t\\t</div>\\n\\t\\t\\t\\t\\t</a>\\n\\t\\t\\t\\t</li>\\n\\t\\t\\t\\n\\t\\t\\t\\t<li class=\"theme_item\" data-gdid=\"CAS_19deec73-72bc-11eb-bfa5-89e8e6a1901b\" data-da-position=\"true\">\\n\\t\\t\\t\\t\\t<a href=\"https://post.naver.com/viewer/postView.nhn?volumeNo&#x3D;30749027\" class=\"theme_thumb\" data-clk=\"tcc_gam.list8cont2\" target=\"_blank\">\\n\\t\\t\\t\\t\\t\\t<img  data-src=\"https://s.pstatic.net/dthumb.phinf/?src&#x3D;%22https%3A%2F%2Fs.pstatic.net%2Fstatic%2Fwww%2Fmobile%2Fedit%2F2021%2F0219%2Fupload_1613744443253i3MjL.jpg%22&amp;type&#x3D;nf340_228\" alt=\"3D FPS가 95KB? 외계인 고문 의심되는 저용량 게임들\" width=\"170\" height=\"114\">\\n\\t\\t\\t\\t\\t\\t<span class=\"thumb_bd\"></span>\\n\\t\\t\\t\\t\\t</a>\\n\\t\\t\\t\\t\\t<a href=\"https://post.naver.com/viewer/postView.nhn?volumeNo&#x3D;30749027\" class=\"theme_info\" data-clk=\"tcc_gam.list8cont2\" target=\"_blank\">\\n\\t\\t\\t\\t\\t\\t<em class=\"theme_category\"> 게임</em>\\n\\t\\t\\t\\t\\t\\t<strong class=\"title elss\">3D FPS가 95KB? 외계인 고문 의심되는 저용량 게임들</strong>\\n\\t\\t\\t\\t\\t\\t<p class=\"desc\">최근 스팀에선 &#x27;발하임&#x27;이라는 게임이 선풍적인 인기를 끌고 있습니다. 2일 출시된 이 게임은 이름에서 느낄 수 있는 것처럼 북유럽 신화를 기반으로 한 샌드박스 생존 게임입니다. 발하임은 수많은 콘텐츠와 뛰어난 자유도로 여드레 만에 100만 장, 보름도 안되어 200만 장이 판매되는 기염을 토합니다. 더 놀라운 사실은 수많은 콘텐츠를 담은 이 게임의 용량이 </p>\\n\\t\\t\\t\\t\\t\\t<div class=\"source_box\">\\n\\t\\t\\t\\t\\t\\t\\t<span class=\"date\">6일 전</span>\\n\\t\\t\\t\\t\\t\\t\\t<span class=\"source\"><span class=\"source_inner\">게임조선</span></span>\\n\\t\\t\\t\\t\\t\\t</div>\\n\\t\\t\\t\\t\\t</a>\\n\\t\\t\\t\\t</li>\\n\\t\\t\\t\\n\\t\\t\\t\\t<li class=\"theme_item\" data-gdid=\"CAS_19deec75-72bc-11eb-bfa5-b7ed074bd60a\" data-da-position=\"true\">\\n\\t\\t\\t\\t\\t<a href=\"https://post.naver.com/viewer/postView.nhn?volumeNo&#x3D;30751139&amp;memberNo&#x3D;8661711&amp;navigationType&#x3D;push\" class=\"theme_thumb\" data-clk=\"tcc_gam.list8cont3\" target=\"_blank\">\\n\\t\\t\\t\\t\\t\\t<img  data-src=\"https://s.pstatic.net/dthumb.phinf/?src&#x3D;%22https%3A%2F%2Fs.pstatic.net%2Fstatic%2Fwww%2Fmobile%2Fedit%2F2021%2F0219%2Fupload_1613744601460mY80w.jpg%22&amp;type&#x3D;nf340_228\" alt=\"슬라네쉬를 따르는 마린도 있지\" width=\"170\" height=\"114\">\\n\\t\\t\\t\\t\\t\\t<span class=\"thumb_bd\"></span>\\n\\t\\t\\t\\t\\t</a>\\n\\t\\t\\t\\t\\t<a href=\"https://post.naver.com/viewer/postView.nhn?volumeNo&#x3D;30751139&amp;memberNo&#x3D;8661711&amp;navigationType&#x3D;push\" class=\"theme_info\" data-clk=\"tcc_gam.list8cont3\" target=\"_blank\">\\n\\t\\t\\t\\t\\t\\t<em class=\"theme_category\"> 게임</em>\\n\\t\\t\\t\\t\\t\\t<strong class=\"title elss\">슬라네쉬를 따르는 마린도 있지</strong>\\n\\t\\t\\t\\t\\t\\t<p class=\"desc\">본 만화의 내용은 다음을 기반으로 하고 있습니다. - Codex: Chaos Space Marines(8th Edition) - pgs. 71, 84, 85, 86 * 자료조사 일자: 2021년 2월 설정 개편 등으로 내용에 오류가 있을 수 있습니다.</p>\\n\\t\\t\\t\\t\\t\\t<div class=\"source_box\">\\n\\t\\t\\t\\t\\t\\t\\t<span class=\"date\">5일 전</span>\\n\\t\\t\\t\\t\\t\\t\\t<span class=\"source\"><span class=\"source_inner\">동굴트롤</span></span>\\n\\t\\t\\t\\t\\t\\t</div>\\n\\t\\t\\t\\t\\t</a>\\n\\t\\t\\t\\t</li>\\n\\t\\t\\t\\n\\t\\t\\t\\t<li class=\"theme_item\" data-gdid=\"CAS_10dd03ef-72bc-11eb-bfa5-e76b9e3dcc95\" data-da-position=\"true\">\\n\\t\\t\\t\\t\\t<a href=\"https://post.naver.com/viewer/postView.nhn?volumeNo&#x3D;30755660&amp;memberNo&#x3D;4505449&amp;navigationType&#x3D;push\" class=\"theme_thumb\" data-clk=\"tcc_gam.list8cont4\" target=\"_blank\">\\n\\t\\t\\t\\t\\t\\t<img  data-src=\"https://s.pstatic.net/dthumb.phinf/?src&#x3D;%22https%3A%2F%2Fs.pstatic.net%2Fstatic%2Fwww%2Fmobile%2Fedit%2F2021%2F0219%2Fupload_1613743857462y4W83.jpg%22&amp;type&#x3D;nf340_228\" alt=\"EA, 레이싱 명가 &#x27;코드마스터즈&#x27; 인수\" width=\"170\" height=\"114\">\\n\\t\\t\\t\\t\\t\\t<span class=\"thumb_bd\"></span>\\n\\t\\t\\t\\t\\t</a>\\n\\t\\t\\t\\t\\t<a href=\"https://post.naver.com/viewer/postView.nhn?volumeNo&#x3D;30755660&amp;memberNo&#x3D;4505449&amp;navigationType&#x3D;push\" class=\"theme_info\" data-clk=\"tcc_gam.list8cont4\" target=\"_blank\">\\n\\t\\t\\t\\t\\t\\t<em class=\"theme_category\"> 게임</em>\\n\\t\\t\\t\\t\\t\\t<strong class=\"title elss\">EA, 레이싱 명가 \\'코드마스터즈\\' 인수</strong>\\n\\t\\t\\t\\t\\t\\t<p class=\"desc\">EA가 19일(금), 공식 트위터를 통해 레이싱 명가 &#x27;코드마스터즈&#x27; 인수 소식을 전했습니다. 코드마스터즈는 1986년에 설립된 영국 게임 개발사로, 다양한 레이싱게임을 제작한 것으로 잘 알려졌죠. 주요 작품으로는 ‘더트’와 ‘그리드’, 그리고 ‘F1’ 시리즈 등이 있으며, 추가</p>\\n\\t\\t\\t\\t\\t\\t<div class=\"source_box\">\\n\\t\\t\\t\\t\\t\\t\\t<span class=\"date\">5일 전</span>\\n\\t\\t\\t\\t\\t\\t\\t<span class=\"source\"><span class=\"source_inner\">PNN</span></span>\\n\\t\\t\\t\\t\\t\\t</div>\\n\\t\\t\\t\\t\\t</a>\\n\\t\\t\\t\\t</li>\\n\\t\\t\\t\\n\\t\\t\\t\\t<li class=\"theme_item\" data-gdid=\"CAS_19deec77-72bc-11eb-bfa5-f5115c3bba91\" data-da-position=\"true\">\\n\\t\\t\\t\\t\\t<a href=\"https://post.naver.com/viewer/postView.nhn?volumeNo&#x3D;30750571&amp;memberNo&#x3D;30365873\" class=\"theme_thumb\" data-clk=\"tcc_gam.list8cont5\" target=\"_blank\">\\n\\t\\t\\t\\t\\t\\t<img  data-src=\"https://s.pstatic.net/dthumb.phinf/?src&#x3D;%22https%3A%2F%2Fs.pstatic.net%2Fstatic%2Fwww%2Fmobile%2Fedit%2F2021%2F0219%2Fupload_1613744731121kQxNe.jpg%22&amp;type&#x3D;nf340_228\" alt=\"눈치없는 사람은 못 하는 장르\" width=\"170\" height=\"114\">\\n\\t\\t\\t\\t\\t\\t<span class=\"thumb_bd\"></span>\\n\\t\\t\\t\\t\\t</a>\\n\\t\\t\\t\\t\\t<a href=\"https://post.naver.com/viewer/postView.nhn?volumeNo&#x3D;30750571&amp;memberNo&#x3D;30365873\" class=\"theme_info\" data-clk=\"tcc_gam.list8cont5\" target=\"_blank\">\\n\\t\\t\\t\\t\\t\\t<em class=\"theme_category\"> 게임</em>\\n\\t\\t\\t\\t\\t\\t<strong class=\"title elss\">눈치없는 사람은 못 하는 장르</strong>\\n\\t\\t\\t\\t\\t\\t<p class=\"desc\">원래는 인사이드가 비교군이었지만 너무 자잘하게 까대는 느낌이 들어서 그만뒀습니다. 인사이드도 꽤나 재밌게 한 게임인데...리틀 나이트메어 하고 다시 켜 보니 무지하게 답답하더군요. 포인트 앤 클릭을 포함한 추리형 어드벤쳐는 나중에 따로 기회가 있으면 다뤄보겠습니다. 예전에 상당히 몰입해서 플레이했던 장르이지만, 이거다 싶은 성공작이 없다는 게 가장 큰 문제</p>\\n\\t\\t\\t\\t\\t\\t<div class=\"source_box\">\\n\\t\\t\\t\\t\\t\\t\\t<span class=\"date\">6일 전</span>\\n\\t\\t\\t\\t\\t\\t\\t<span class=\"source\"><span class=\"source_inner\">하얀쥐</span></span>\\n\\t\\t\\t\\t\\t\\t</div>\\n\\t\\t\\t\\t\\t</a>\\n\\t\\t\\t\\t</li>\\n\\t\\t\\t\\n\\t\\t</ul>\\n\\t</div>\\n</div>\\n<div class=\"group_theme\" data-block-id=\"\" data-block-code=\"PC-THEME-GAMEAPP-MOBILE-RANKING-DEFAULT-8\" data-block-type=\"MATERIALS\" data-template-code=\"MOBILE-RANKING-LIST\"\\n\\n\\t data-da=\"container\"\\n\\t data-index=\"\"\\n     data-page=\"5\"\\n\\t style=\"display:none\">\\n\\n\\t<div class=\"list_theme_wrap\">\\n\\t\\t<ul class=\"list_theme\">\\n\\t\\t\\t\\n\\t\\t\\t\\t<li class=\"theme_item\" data-gdid=\"CAS_19deec76-72bc-11eb-bfa5-ad9e30b398e1\" data-da-position=\"true\">\\n\\t\\t\\t\\t\\t<a href=\"https://post.naver.com/viewer/postView.nhn?volumeNo&#x3D;30744368&amp;memberNo&#x3D;34059480\" class=\"theme_thumb\" data-clk=\"tcc_gam.list9cont1\" target=\"_blank\">\\n\\t\\t\\t\\t\\t\\t<img  data-src=\"https://s.pstatic.net/dthumb.phinf/?src&#x3D;%22https%3A%2F%2Fs.pstatic.net%2Fstatic%2Fwww%2Fmobile%2Fedit%2F2021%2F0219%2Fupload_1613744656164NeQnE.jpg%22&amp;type&#x3D;nf340_228\" alt=\"바이킹으로 살아남기, 스웨덴 인디게임 &#x27;발헤임&#x27;\" width=\"170\" height=\"114\">\\n\\t\\t\\t\\t\\t\\t<span class=\"thumb_bd\"></span>\\n\\t\\t\\t\\t\\t</a>\\n\\t\\t\\t\\t\\t<a href=\"https://post.naver.com/viewer/postView.nhn?volumeNo&#x3D;30744368&amp;memberNo&#x3D;34059480\" class=\"theme_info\" data-clk=\"tcc_gam.list9cont1\" target=\"_blank\">\\n\\t\\t\\t\\t\\t\\t<em class=\"theme_category\"> 게임</em>\\n\\t\\t\\t\\t\\t\\t<strong class=\"title elss\">바이킹으로 살아남기, 스웨덴 인디게임 \\'발헤임\\'</strong>\\n\\t\\t\\t\\t\\t\\t<p class=\"desc\">스팀으로 출시된 인디게임 ‘발헤임(Valheim)’이 글로벌 게이머의 마음을 사로잡았다. 약 2주 만에 200만장이 넘는 판매고를 기록한 것. 신작이 적은 시기적 상황을 감안해도 기록적인 성과다. ‘발헤임’은 스웨덴에 위치한 게임업체 아이언 게이트 AB(Iron Gatge Studio)</p>\\n\\t\\t\\t\\t\\t\\t<div class=\"source_box\">\\n\\t\\t\\t\\t\\t\\t\\t<span class=\"date\">6일 전</span>\\n\\t\\t\\t\\t\\t\\t\\t<span class=\"source\"><span class=\"source_inner\">GAMEVU</span></span>\\n\\t\\t\\t\\t\\t\\t</div>\\n\\t\\t\\t\\t\\t</a>\\n\\t\\t\\t\\t</li>\\n\\t\\t\\t\\n\\t\\t\\t\\t<li class=\"theme_item\" data-gdid=\"CAS_19deec78-72bc-11eb-bfa5-ab2fc89004c0\" data-da-position=\"true\">\\n\\t\\t\\t\\t\\t<a href=\"https://post.naver.com/viewer/postView.nhn?volumeNo&#x3D;30745442&amp;memberNo&#x3D;24985926\" class=\"theme_thumb\" data-clk=\"tcc_gam.list9cont2\" target=\"_blank\">\\n\\t\\t\\t\\t\\t\\t<img  data-src=\"https://s.pstatic.net/dthumb.phinf/?src&#x3D;%22https%3A%2F%2Fs.pstatic.net%2Fstatic%2Fwww%2Fmobile%2Fedit%2F2021%2F0219%2Fupload_1613744813606FLut1.jpg%22&amp;type&#x3D;nf340_228\" alt=\"“아빠 전 커서 킬방원이 될래요” 크루세이더 킹즈 3\" width=\"170\" height=\"114\">\\n\\t\\t\\t\\t\\t\\t<span class=\"thumb_bd\"></span>\\n\\t\\t\\t\\t\\t</a>\\n\\t\\t\\t\\t\\t<a href=\"https://post.naver.com/viewer/postView.nhn?volumeNo&#x3D;30745442&amp;memberNo&#x3D;24985926\" class=\"theme_info\" data-clk=\"tcc_gam.list9cont2\" target=\"_blank\">\\n\\t\\t\\t\\t\\t\\t<em class=\"theme_category\"> 게임</em>\\n\\t\\t\\t\\t\\t\\t<strong class=\"title elss\">“아빠 전 커서 킬방원이 될래요” 크루세이더 킹즈 3</strong>\\n\\t\\t\\t\\t\\t\\t<p class=\"desc\">세상은 넓고 게임은 많습니다. 정보가 넘쳐나는 시대, 15년 역사의 게임 전문지 디스이즈게임에서 어떤 게임이 맛있는지, 맛없는지 대신 찍어먹어드립니다. 밥먹고 게임만 하는 TIG 기자들이 짧고 굵고 쉽게 여러분께 전해드립니다. TIG 퍼스트룩!역사는 가까이서 보면 비극 멀리서 보면 희극입니다. 조선 역사 속에 딱 그런 인물이 있습니다. 조선 태종 이방원, </p>\\n\\t\\t\\t\\t\\t\\t<div class=\"source_box\">\\n\\t\\t\\t\\t\\t\\t\\t<span class=\"date\">6일 전</span>\\n\\t\\t\\t\\t\\t\\t\\t<span class=\"source\"><span class=\"source_inner\">디스이즈게임</span></span>\\n\\t\\t\\t\\t\\t\\t</div>\\n\\t\\t\\t\\t\\t</a>\\n\\t\\t\\t\\t</li>\\n\\t\\t\\t\\n\\t\\t\\t\\t<li class=\"theme_item\" data-gdid=\"CAS_5e990e00-7249-11eb-9ed5-d9aab668d6ff\" data-da-position=\"true\">\\n\\t\\t\\t\\t\\t<a href=\"https://post.naver.com/viewer/postView.nhn?volumeNo&#x3D;30747599&amp;memberNo&#x3D;49264302&amp;navigationType&#x3D;push\" class=\"theme_thumb\" data-clk=\"tcc_gam.list9cont3\" target=\"_blank\">\\n\\t\\t\\t\\t\\t\\t<img  data-src=\"https://s.pstatic.net/dthumb.phinf/?src&#x3D;%22https%3A%2F%2Fs.pstatic.net%2Fstatic%2Fwww%2Fmobile%2Fedit%2F2021%2F0219%2Fupload_1613694590352fF7Rl.jpg%22&amp;type&#x3D;nf340_228\" alt=\"동숲X마리오 콜라보! 새로운 업데이트 예고\" width=\"170\" height=\"114\">\\n\\t\\t\\t\\t\\t\\t<span class=\"thumb_bd\"></span>\\n\\t\\t\\t\\t\\t</a>\\n\\t\\t\\t\\t\\t<a href=\"https://post.naver.com/viewer/postView.nhn?volumeNo&#x3D;30747599&amp;memberNo&#x3D;49264302&amp;navigationType&#x3D;push\" class=\"theme_info\" data-clk=\"tcc_gam.list9cont3\" target=\"_blank\">\\n\\t\\t\\t\\t\\t\\t<em class=\"theme_category\"> 게임</em>\\n\\t\\t\\t\\t\\t\\t<strong class=\"title elss\">동숲X마리오 콜라보! 새로운 업데이트 예고</strong>\\n\\t\\t\\t\\t\\t\\t<p class=\"desc\">닌텐도 스위치 &lt;모여봐요 동물의 숲&gt;에 &lt;슈퍼 마리오 브라더스&gt; 테마의 아이템들이 대거 추가된다.18일 닌텐도 다이렉트를 통해 공개된 동숲X마리오 업데이트에는 다양한 아이템들이 추가되며, 해당 아이템을 섬 곳곳에 자유롭게 배치할 수 있다. 자신의 섬을 슈퍼마리오 콘셉트에 맞게 꾸미는 것도 가능하다.가장 눈에 띄는 건 아무래도 마리오 시</p>\\n\\t\\t\\t\\t\\t\\t<div class=\"source_box\">\\n\\t\\t\\t\\t\\t\\t\\t<span class=\"date\">6일 전</span>\\n\\t\\t\\t\\t\\t\\t\\t<span class=\"source\"><span class=\"source_inner\">맨츄어리</span></span>\\n\\t\\t\\t\\t\\t\\t</div>\\n\\t\\t\\t\\t\\t</a>\\n\\t\\t\\t\\t</li>\\n\\t\\t\\t\\n\\t\\t\\t\\t<li class=\"theme_item\" data-gdid=\"CAS_5e990e01-7249-11eb-9ed5-b387d73c434a\" data-da-position=\"true\">\\n\\t\\t\\t\\t\\t<a href=\"https://post.naver.com/viewer/postView.nhn?volumeNo&#x3D;30746667&amp;memberNo&#x3D;33304042&amp;navigationType&#x3D;push\" class=\"theme_thumb\" data-clk=\"tcc_gam.list9cont4\" target=\"_blank\">\\n\\t\\t\\t\\t\\t\\t<img  data-src=\"https://s.pstatic.net/dthumb.phinf/?src&#x3D;%22https%3A%2F%2Fs.pstatic.net%2Fstatic%2Fwww%2Fmobile%2Fedit%2F2021%2F0219%2Fupload_1613694612936NmeZu.jpg%22&amp;type&#x3D;nf340_228\" alt=\"2021 닌텐도 다이렉트 공개된 정보 정리\" width=\"170\" height=\"114\">\\n\\t\\t\\t\\t\\t\\t<span class=\"thumb_bd\"></span>\\n\\t\\t\\t\\t\\t</a>\\n\\t\\t\\t\\t\\t<a href=\"https://post.naver.com/viewer/postView.nhn?volumeNo&#x3D;30746667&amp;memberNo&#x3D;33304042&amp;navigationType&#x3D;push\" class=\"theme_info\" data-clk=\"tcc_gam.list9cont4\" target=\"_blank\">\\n\\t\\t\\t\\t\\t\\t<em class=\"theme_category\"> 게임</em>\\n\\t\\t\\t\\t\\t\\t<strong class=\"title elss\">2021 닌텐도 다이렉트 공개된 정보 정리</strong>\\n\\t\\t\\t\\t\\t\\t<p class=\"desc\">꽤 긴 기다림이었다. 2월 18일인 오늘 1시간분량의 닌텐도 다이렉트가 정말 오랜만에 공개되었다.결론부터 얘기하자면.. 조금 아쉽다. 가장 애타게 기다리던 그 소식이(숨결) 빠져버렸다. 하지만 몇가지 생각 못했던 발표들이 있어서 그점은 기대가 된다. 이번 닌다로 공개된 내용들을 정리해 보자. - 업데이트/이벤트 소식- 스위치 이식발매(</p>\\n\\t\\t\\t\\t\\t\\t<div class=\"source_box\">\\n\\t\\t\\t\\t\\t\\t\\t<span class=\"date\">6일 전</span>\\n\\t\\t\\t\\t\\t\\t\\t<span class=\"source\"><span class=\"source_inner\">박와즈</span></span>\\n\\t\\t\\t\\t\\t\\t</div>\\n\\t\\t\\t\\t\\t</a>\\n\\t\\t\\t\\t</li>\\n\\t\\t\\t\\n\\t\\t\\t\\t<li class=\"theme_item\" data-gdid=\"CAS_b739e779-72be-11eb-bfa5-ddc5bfe17106\" data-da-position=\"true\">\\n\\t\\t\\t\\t\\t<a href=\"https://post.naver.com/viewer/postView.nhn?volumeNo&#x3D;30750506&amp;memberNo&#x3D;7447804\" class=\"theme_thumb\" data-clk=\"tcc_gam.list9cont5\" target=\"_blank\">\\n\\t\\t\\t\\t\\t\\t<img  data-src=\"https://s.pstatic.net/dthumb.phinf/?src&#x3D;%22https%3A%2F%2Fs.pstatic.net%2Fstatic%2Fwww%2Fmobile%2Fedit%2F2021%2F0219%2Fupload_1613744897011Bdfos.jpg%22&amp;type&#x3D;nf340_228\" alt=\"21화. 슈퍼맨이 되어 뚜까 패는 모드\" width=\"170\" height=\"114\">\\n\\t\\t\\t\\t\\t\\t<span class=\"thumb_bd\"></span>\\n\\t\\t\\t\\t\\t</a>\\n\\t\\t\\t\\t\\t<a href=\"https://post.naver.com/viewer/postView.nhn?volumeNo&#x3D;30750506&amp;memberNo&#x3D;7447804\" class=\"theme_info\" data-clk=\"tcc_gam.list9cont5\" target=\"_blank\">\\n\\t\\t\\t\\t\\t\\t<em class=\"theme_category\"> 게임</em>\\n\\t\\t\\t\\t\\t\\t<strong class=\"title elss\">21화. 슈퍼맨이 되어 뚜까 패는 모드</strong>\\n\\t\\t\\t\\t\\t\\t<p class=\"desc\">또 신박한 서바이벌 모드가 나왔구나했는데 생각보다 재미있어서 자주하게 되더군요ㅋㅋㅋㅋㅋ 쉴새없이 싸우는 맛이 좋네요 다음은 배틀기어모드를 하면서 생기는 공감 에피소드로 돌아오겠습니다!</p>\\n\\t\\t\\t\\t\\t\\t<div class=\"source_box\">\\n\\t\\t\\t\\t\\t\\t\\t<span class=\"date\">5일 전</span>\\n\\t\\t\\t\\t\\t\\t\\t<span class=\"source\"><span class=\"source_inner\">오야 OYA</span></span>\\n\\t\\t\\t\\t\\t\\t</div>\\n\\t\\t\\t\\t\\t</a>\\n\\t\\t\\t\\t</li>\\n\\t\\t\\t\\n\\t\\t</ul>\\n\\t</div>\\n</div>\\n<div class=\"group_theme\" data-block-id=\"\" data-block-code=\"PC-THEME-GAMEAPP-MOBILE-RANKING-DEFAULT-9\" data-block-type=\"MATERIALS\" data-template-code=\"MOBILE-RANKING-LIST\"\\n\\n\\t data-da=\"container\"\\n\\t data-index=\"\"\\n     data-page=\"5\"\\n\\t style=\"display:none\">\\n\\n\\t<div class=\"list_theme_wrap\">\\n\\t\\t<ul class=\"list_theme\">\\n\\t\\t\\t\\n\\t\\t\\t\\t<li class=\"theme_item\" data-gdid=\"CAS_5e990dff-7249-11eb-9ed5-592be209f035\" data-da-position=\"true\">\\n\\t\\t\\t\\t\\t<a href=\"https://post.naver.com/viewer/postView.nhn?volumeNo&#x3D;30735460&amp;memberNo&#x3D;3884106&amp;navigationType&#x3D;push\" class=\"theme_thumb\" data-clk=\"tcc_gam.list10cont1\" target=\"_blank\">\\n\\t\\t\\t\\t\\t\\t<img  data-src=\"https://s.pstatic.net/dthumb.phinf/?src&#x3D;%22https%3A%2F%2Fs.pstatic.net%2Fstatic%2Fwww%2Fmobile%2Fedit%2F2021%2F0219%2Fupload_1613694564720SQdcJ.jpg%22&amp;type&#x3D;nf340_228\" alt=\"롤 시즌11 우르프 유미 공략, 라면챔이라고 불리는 이유?\" width=\"170\" height=\"114\">\\n\\t\\t\\t\\t\\t\\t<span class=\"thumb_bd\"></span>\\n\\t\\t\\t\\t\\t</a>\\n\\t\\t\\t\\t\\t<a href=\"https://post.naver.com/viewer/postView.nhn?volumeNo&#x3D;30735460&amp;memberNo&#x3D;3884106&amp;navigationType&#x3D;push\" class=\"theme_info\" data-clk=\"tcc_gam.list10cont1\" target=\"_blank\">\\n\\t\\t\\t\\t\\t\\t<em class=\"theme_category\"> 게임</em>\\n\\t\\t\\t\\t\\t\\t<strong class=\"title elss\">롤 시즌11 우르프 유미 공략, 라면챔이라고 불리는 이유?</strong>\\n\\t\\t\\t\\t\\t\\t<p class=\"desc\">안녕하세요 샤코 포스트의 샤코입니다. 오늘 여러분들에게 소개해 드릴 내용은 바로 롤 시즌11 우르프 유미 공략입니다. 특히, 유미는 힐+이속+공속 이 3가지를 모두 부여할 수 있기 때문에 우르프 모드에서는 꽤나 재밌게 플레이를 하실 수 있습니다. 특히, 퀸이나 헤카림같이 이속 시너지가 엄청나서 거의 이동속도가 1000은 기본이고 최대로 빠를땐 4000이 넘</p>\\n\\t\\t\\t\\t\\t\\t<div class=\"source_box\">\\n\\t\\t\\t\\t\\t\\t\\t<span class=\"date\">1주일 전</span>\\n\\t\\t\\t\\t\\t\\t\\t<span class=\"source\"><span class=\"source_inner\">샤코</span></span>\\n\\t\\t\\t\\t\\t\\t</div>\\n\\t\\t\\t\\t\\t</a>\\n\\t\\t\\t\\t</li>\\n\\t\\t\\t\\n\\t\\t\\t\\t<li class=\"theme_item\" data-gdid=\"CAS_479f2657-724e-11eb-9828-551153f0379c\" data-da-position=\"true\">\\n\\t\\t\\t\\t\\t<a href=\"https://post.naver.com/viewer/postView.nhn?volumeNo&#x3D;30723630&amp;memberNo&#x3D;17350801\" class=\"theme_thumb\" data-clk=\"tcc_gam.list10cont2\" target=\"_blank\">\\n\\t\\t\\t\\t\\t\\t<img  data-src=\"https://s.pstatic.net/dthumb.phinf/?src&#x3D;%22https%3A%2F%2Fs.pstatic.net%2Fstatic%2Fwww%2Fmobile%2Fedit%2F2021%2F0219%2Fupload_1613699715817rXhwT.jpg%22&amp;type&#x3D;nf340_228\" alt=\"속옷만 입고 다니는 여캐릭터의 비밀\" width=\"170\" height=\"114\">\\n\\t\\t\\t\\t\\t\\t<span class=\"thumb_bd\"></span>\\n\\t\\t\\t\\t\\t</a>\\n\\t\\t\\t\\t\\t<a href=\"https://post.naver.com/viewer/postView.nhn?volumeNo&#x3D;30723630&amp;memberNo&#x3D;17350801\" class=\"theme_info\" data-clk=\"tcc_gam.list10cont2\" target=\"_blank\">\\n\\t\\t\\t\\t\\t\\t<em class=\"theme_category\"> 게임</em>\\n\\t\\t\\t\\t\\t\\t<strong class=\"title elss\">속옷만 입고 다니는 여캐릭터의 비밀</strong>\\n\\t\\t\\t\\t\\t\\t<p class=\"desc\">게임을 하게 되면 아무래도 판타지라는 점을 감안하기 때문에 캐릭터가 어떤 의상을 입더라도 대부분 이해하고 넘어가는 편입니다. 그런데 &lt;니어 레플리칸트&gt;에 등장하는 &#x27;카이네&#x27;는 그러지 못했습니다. &#x27;왜 저렇게 속옷 차림으로 다니는 걸까?&#x27;라는 의문을 도저히 떨쳐버리기가 어려웠죠. 그 길로 그녀의 뒷이야기를 조사해본 결과, 나름대로 이유가 있다는 사</p>\\n\\t\\t\\t\\t\\t\\t<div class=\"source_box\">\\n\\t\\t\\t\\t\\t\\t\\t<span class=\"date\">1주일 전</span>\\n\\t\\t\\t\\t\\t\\t\\t<span class=\"source\"><span class=\"source_inner\">네오필</span></span>\\n\\t\\t\\t\\t\\t\\t</div>\\n\\t\\t\\t\\t\\t</a>\\n\\t\\t\\t\\t</li>\\n\\t\\t\\t\\n\\t\\t\\t\\t<li class=\"theme_item\" data-gdid=\"CAS_4939ac5d-7292-11eb-830d-99267d7657ed\" data-da-position=\"true\">\\n\\t\\t\\t\\t\\t<a href=\"https://post.naver.com/viewer/postView.nhn?volumeNo&#x3D;30754166&amp;memberNo&#x3D;34044315&amp;navigationType&#x3D;push\" class=\"theme_thumb\" data-clk=\"tcc_gam.list10cont3\" target=\"_blank\">\\n\\t\\t\\t\\t\\t\\t<img  data-src=\"https://s.pstatic.net/dthumb.phinf/?src&#x3D;%22https%3A%2F%2Fs.pstatic.net%2Fstatic%2Fwww%2Fmobile%2Fedit%2F2021%2F0219%2Fupload_1613726870768a2bjH.jpg%22&amp;type&#x3D;nf340_228\" alt=\"OGN, 왜 폐국의 길을 걷게 되었을까\" width=\"170\" height=\"114\">\\n\\t\\t\\t\\t\\t\\t<span class=\"thumb_bd\"></span>\\n\\t\\t\\t\\t\\t</a>\\n\\t\\t\\t\\t\\t<a href=\"https://post.naver.com/viewer/postView.nhn?volumeNo&#x3D;30754166&amp;memberNo&#x3D;34044315&amp;navigationType&#x3D;push\" class=\"theme_info\" data-clk=\"tcc_gam.list10cont3\" target=\"_blank\">\\n\\t\\t\\t\\t\\t\\t<em class=\"theme_category\"> 게임</em>\\n\\t\\t\\t\\t\\t\\t<strong class=\"title elss\">OGN, 왜 폐국의 길을 걷게 되었을까</strong>\\n\\t\\t\\t\\t\\t\\t<p class=\"desc\">앞선 글에서 우리는 약 21년 동안 이어진 e스포츠 제국 OGN의 역사에 대해서 살펴봤습니다. e스포츠라는 개념이 이 세상에 제대로 등장하기도 전에, 현대 e스포츠 시스템의 기본 틀을 만들었고, 이를 바탕으로 ‘비즈니스’를 시작했으며, 프로게이머, 프로게임단, 전용 경기장 등의 인프라 구축에도 기여했죠. 더 나아가 ‘엔터테인</p>\\n\\t\\t\\t\\t\\t\\t<div class=\"source_box\">\\n\\t\\t\\t\\t\\t\\t\\t<span class=\"date\">5일 전</span>\\n\\t\\t\\t\\t\\t\\t\\t<span class=\"source\"><span class=\"source_inner\">MDK</span></span>\\n\\t\\t\\t\\t\\t\\t</div>\\n\\t\\t\\t\\t\\t</a>\\n\\t\\t\\t\\t</li>\\n\\t\\t\\t\\n\\t\\t\\t\\t<li class=\"theme_item\" data-gdid=\"CAS_479f2656-724e-11eb-9828-c1489862b532\" data-da-position=\"true\">\\n\\t\\t\\t\\t\\t<a href=\"https://post.naver.com/viewer/postView.nhn?volumeNo&#x3D;30751303&amp;memberNo&#x3D;30323923\" class=\"theme_thumb\" data-clk=\"tcc_gam.list10cont4\" target=\"_blank\">\\n\\t\\t\\t\\t\\t\\t<img  data-src=\"https://s.pstatic.net/dthumb.phinf/?src&#x3D;%22https%3A%2F%2Fs.pstatic.net%2Fstatic%2Fwww%2Fmobile%2Fedit%2F2021%2F0219%2Fupload_1613699675060NSGWI.jpg%22&amp;type&#x3D;nf340_228\" alt=\"&quot;약속을 어길 시 할복자살하겠습니다.&quot; 미카미 신지와 바이오 하자드.\" width=\"170\" height=\"114\">\\n\\t\\t\\t\\t\\t\\t<span class=\"thumb_bd\"></span>\\n\\t\\t\\t\\t\\t</a>\\n\\t\\t\\t\\t\\t<a href=\"https://post.naver.com/viewer/postView.nhn?volumeNo&#x3D;30751303&amp;memberNo&#x3D;30323923\" class=\"theme_info\" data-clk=\"tcc_gam.list10cont4\" target=\"_blank\">\\n\\t\\t\\t\\t\\t\\t<em class=\"theme_category\"> 게임</em>\\n\\t\\t\\t\\t\\t\\t<strong class=\"title elss\">\"약속을 어길 시 할복자살하겠습니다.\" 미카미 신지와 바이오 하자드.</strong>\\n\\t\\t\\t\\t\\t\\t<p class=\"desc\">뭐? 뭘 한다고?잘못 본 게 아니다. 미카미 신지라는 개발자는 한때 게이머들을 안심시키기 위해서 &#x27;할복&#x27;을 조건으로 내 건 적이 있었다. 혹시나 할복이 무엇인지 모르는 이들을 위해 설명하자면, 할복은 과거 일본의 사무라이들이 자결하던 방법으로, 스스로의 배를 칼로 찔러 죽는 무시무시한 관습이다. 세상에.. 할복이라니... 중세 시대 무사도 아닌, 일개 게임</p>\\n\\t\\t\\t\\t\\t\\t<div class=\"source_box\">\\n\\t\\t\\t\\t\\t\\t\\t<span class=\"date\">6일 전</span>\\n\\t\\t\\t\\t\\t\\t\\t<span class=\"source\"><span class=\"source_inner\">기린왕</span></span>\\n\\t\\t\\t\\t\\t\\t</div>\\n\\t\\t\\t\\t\\t</a>\\n\\t\\t\\t\\t</li>\\n\\t\\t\\t\\n\\t\\t\\t\\t<li class=\"theme_item\" data-gdid=\"CAS_479f2658-724e-11eb-9828-97cbcd1a1b55\" data-da-position=\"true\">\\n\\t\\t\\t\\t\\t<a href=\"https://post.naver.com/viewer/postView.nhn?volumeNo&#x3D;30718769&amp;memberNo&#x3D;41061885\" class=\"theme_thumb\" data-clk=\"tcc_gam.list10cont5\" target=\"_blank\">\\n\\t\\t\\t\\t\\t\\t<img  data-src=\"https://s.pstatic.net/dthumb.phinf/?src&#x3D;%22https%3A%2F%2Fs.pstatic.net%2Fstatic%2Fwww%2Fmobile%2Fedit%2F2021%2F0219%2Fupload_1613699878603Mivgj.jpg%22&amp;type&#x3D;nf340_228\" alt=\"페그오(FGO) 토오사카린 메이드 코스프레\" width=\"170\" height=\"114\">\\n\\t\\t\\t\\t\\t\\t<span class=\"thumb_bd\"></span>\\n\\t\\t\\t\\t\\t</a>\\n\\t\\t\\t\\t\\t<a href=\"https://post.naver.com/viewer/postView.nhn?volumeNo&#x3D;30718769&amp;memberNo&#x3D;41061885\" class=\"theme_info\" data-clk=\"tcc_gam.list10cont5\" target=\"_blank\">\\n\\t\\t\\t\\t\\t\\t<em class=\"theme_category\"> 게임</em>\\n\\t\\t\\t\\t\\t\\t<strong class=\"title elss\">페그오(FGO) 토오사카린 메이드 코스프레</strong>\\n\\t\\t\\t\\t\\t\\t<p class=\"desc\">안녕하세요~&gt;ㅁ&lt;/// 나나입니다~!! 제가 오늘 소개해드릴 캐릭터는&lt;페이트 스테이 나이트&gt;의 히로인 중 한 명이자, UBW 루트의 메인 히로인. 토오사카 린입니다 첫등장부터 현재까지 많은 사랑을 받는 캐릭터 중에 하나인데요 (저도 너무나 좋아해요~^^)세이버와 함께있는 (위의) 일러스트에 꽂혀서 메이드버전</p>\\n\\t\\t\\t\\t\\t\\t<div class=\"source_box\">\\n\\t\\t\\t\\t\\t\\t\\t<span class=\"date\">1주일 전</span>\\n\\t\\t\\t\\t\\t\\t\\t<span class=\"source\"><span class=\"source_inner\">NANABI</span></span>\\n\\t\\t\\t\\t\\t\\t</div>\\n\\t\\t\\t\\t\\t</a>\\n\\t\\t\\t\\t</li>\\n\\t\\t\\t\\n\\t\\t</ul>\\n\\t</div>\\n</div>\\n<div class=\"group_theme\" data-block-id=\"\" data-block-code=\"PC-THEME-GAMEAPP-MOBILE-RANKING-DEFAULT-10\" data-block-type=\"MATERIALS\" data-template-code=\"MOBILE-RANKING-LIST\"\\n\\n\\t data-da=\"container\"\\n\\t data-index=\"\"\\n     data-page=\"6\"\\n\\t style=\"display:none\">\\n\\n\\t<div class=\"list_theme_wrap\">\\n\\t\\t<ul class=\"list_theme\">\\n\\t\\t\\t\\n\\t\\t\\t\\t<li class=\"theme_item\" data-gdid=\"CAS_4939ac5e-7292-11eb-830d-2b4a88e6d94d\" data-da-position=\"true\">\\n\\t\\t\\t\\t\\t<a href=\"https://post.naver.com/viewer/postView.nhn?volumeNo&#x3D;30752081&amp;memberNo&#x3D;11878375&amp;navigationType&#x3D;push\" class=\"theme_thumb\" data-clk=\"tcc_gam.list11cont1\" target=\"_blank\">\\n\\t\\t\\t\\t\\t\\t<img  data-src=\"https://s.pstatic.net/dthumb.phinf/?src&#x3D;%22https%3A%2F%2Fs.pstatic.net%2Fstatic%2Fwww%2Fmobile%2Fedit%2F2021%2F0219%2Fupload_16137268962532n4TH.jpg%22&amp;type&#x3D;nf340_228\" alt=\"&#x27;길티기어 &#x27;신작에 &#x27;스파5&#x27; 시즌5까지 격투 게임 시장 &#x27;활기&#x27;\" width=\"170\" height=\"114\">\\n\\t\\t\\t\\t\\t\\t<span class=\"thumb_bd\"></span>\\n\\t\\t\\t\\t\\t</a>\\n\\t\\t\\t\\t\\t<a href=\"https://post.naver.com/viewer/postView.nhn?volumeNo&#x3D;30752081&amp;memberNo&#x3D;11878375&amp;navigationType&#x3D;push\" class=\"theme_info\" data-clk=\"tcc_gam.list11cont1\" target=\"_blank\">\\n\\t\\t\\t\\t\\t\\t<em class=\"theme_category\"> 게임</em>\\n\\t\\t\\t\\t\\t\\t<strong class=\"title elss\">\\'길티기어 \\'신작에 \\'스파5\\' 시즌5까지 격투 게임 시장 \\'활기\\'</strong>\\n\\t\\t\\t\\t\\t\\t<p class=\"desc\">격투 게임 시장이 오랜만에 활기를 띠고 있다. 아크시스템웍스의 대표작인 길티기어 시리즈의 최신작이 출시를 앞두고 있고, &#x27;스트리트파이터5&#x27;의 시즌5 캐릭터 등이 공개됐기 때문이다. &#x27;사무라쇼다운&#x27;도 시즌3에 돌입한다.먼저 오는 4월 9일 &#x27;길티기어&#x27; 시리즈 최신작, &#x27;길티기어 -스트라이브-(GUILTY GEAR –STRIVE-)&#x27;가</p>\\n\\t\\t\\t\\t\\t\\t<div class=\"source_box\">\\n\\t\\t\\t\\t\\t\\t\\t<span class=\"date\">5일 전</span>\\n\\t\\t\\t\\t\\t\\t\\t<span class=\"source\"><span class=\"source_inner\">게임동아</span></span>\\n\\t\\t\\t\\t\\t\\t</div>\\n\\t\\t\\t\\t\\t</a>\\n\\t\\t\\t\\t</li>\\n\\t\\t\\t\\n\\t\\t\\t\\t<li class=\"theme_item\" data-gdid=\"CAS_479f2653-724e-11eb-9828-fd89936041da\" data-da-position=\"true\">\\n\\t\\t\\t\\t\\t<a href=\"https://post.naver.com/viewer/postView.nhn?volumeNo&#x3D;30694591&amp;memberNo&#x3D;4505449\" class=\"theme_thumb\" data-clk=\"tcc_gam.list11cont2\" target=\"_blank\">\\n\\t\\t\\t\\t\\t\\t<img  data-src=\"https://s.pstatic.net/dthumb.phinf/?src&#x3D;%22https%3A%2F%2Fs.pstatic.net%2Fstatic%2Fwww%2Fmobile%2Fedit%2F2021%2F0219%2Fupload_16136994813339sNog.jpg%22&amp;type&#x3D;nf340_228\" alt=\"PC방 영업 10시까지 늘리면 손님 다시 많아질까?\" width=\"170\" height=\"114\">\\n\\t\\t\\t\\t\\t\\t<span class=\"thumb_bd\"></span>\\n\\t\\t\\t\\t\\t</a>\\n\\t\\t\\t\\t\\t<a href=\"https://post.naver.com/viewer/postView.nhn?volumeNo&#x3D;30694591&amp;memberNo&#x3D;4505449\" class=\"theme_info\" data-clk=\"tcc_gam.list11cont2\" target=\"_blank\">\\n\\t\\t\\t\\t\\t\\t<em class=\"theme_category\"> 게임</em>\\n\\t\\t\\t\\t\\t\\t<strong class=\"title elss\">PC방 영업 10시까지 늘리면 손님 다시 많아질까?</strong>\\n\\t\\t\\t\\t\\t\\t<p class=\"desc\">중앙재난안전대책본부가 지난 6일, 코로나19 정례 브리핑을 통해 사회적 거리두기 2.5단계 조정안을 발표했습니다. 이번 조정안에서는 비수도권 식당과 카페 등 일부 업종에 한해서 영업 제한 시간을 오후 9시에서 오후 10시로 완화한다는 내용이 포함됐죠. 단, 수도권은 현행대로 2.5단계를 유지합니다. 단, 비수도권 소재 PC방은 이미 정상 영업이 가능해진 상</p>\\n\\t\\t\\t\\t\\t\\t<div class=\"source_box\">\\n\\t\\t\\t\\t\\t\\t\\t<span class=\"date\">2주일 전</span>\\n\\t\\t\\t\\t\\t\\t\\t<span class=\"source\"><span class=\"source_inner\">PNN</span></span>\\n\\t\\t\\t\\t\\t\\t</div>\\n\\t\\t\\t\\t\\t</a>\\n\\t\\t\\t\\t</li>\\n\\t\\t\\t\\n\\t\\t\\t\\t<li class=\"theme_item\" data-gdid=\"CAS_4939ac5c-7292-11eb-830d-eff117fe4d27\" data-da-position=\"true\">\\n\\t\\t\\t\\t\\t<a href=\"https://post.naver.com/viewer/postView.nhn?volumeNo&#x3D;30754862&amp;memberNo&#x3D;34059480&amp;navigationType&#x3D;push\" class=\"theme_thumb\" data-clk=\"tcc_gam.list11cont3\" target=\"_blank\">\\n\\t\\t\\t\\t\\t\\t<img  data-src=\"https://s.pstatic.net/dthumb.phinf/?src&#x3D;%22https%3A%2F%2Fs.pstatic.net%2Fstatic%2Fwww%2Fmobile%2Fedit%2F2021%2F0219%2Fupload_1613726845954Ez5Tf.jpg%22&amp;type&#x3D;nf340_228\" alt=\"‘레전드 오브 룬테라’ 신규 확장팩은 슈리마 지역으로 확정\" width=\"170\" height=\"114\">\\n\\t\\t\\t\\t\\t\\t<span class=\"thumb_bd\"></span>\\n\\t\\t\\t\\t\\t</a>\\n\\t\\t\\t\\t\\t<a href=\"https://post.naver.com/viewer/postView.nhn?volumeNo&#x3D;30754862&amp;memberNo&#x3D;34059480&amp;navigationType&#x3D;push\" class=\"theme_info\" data-clk=\"tcc_gam.list11cont3\" target=\"_blank\">\\n\\t\\t\\t\\t\\t\\t<em class=\"theme_category\"> 게임</em>\\n\\t\\t\\t\\t\\t\\t<strong class=\"title elss\">‘레전드 오브 룬테라’ 신규 확장팩은 슈리마 지역으로 확정</strong>\\n\\t\\t\\t\\t\\t\\t<p class=\"desc\">라이엇게임즈가 카드게임 ‘레전드 오브 룬테라’의 신규 확장팩 초월체의 제국을 발표했다. 업데이트 시점은 3월 4일로 글로벌 서버에 동시에 업데이트된다. 초월체의 제국의 무대는 ‘리그 오브 레전드’의 슈리마 지역이다. 고대 이집트를 모티브로 한 사막 지역이다. 레넥톤, 나서스, 아지르 등의 챔피언이 속한 지역이기도 </p>\\n\\t\\t\\t\\t\\t\\t<div class=\"source_box\">\\n\\t\\t\\t\\t\\t\\t\\t<span class=\"date\">5일 전</span>\\n\\t\\t\\t\\t\\t\\t\\t<span class=\"source\"><span class=\"source_inner\">GAMEVU</span></span>\\n\\t\\t\\t\\t\\t\\t</div>\\n\\t\\t\\t\\t\\t</a>\\n\\t\\t\\t\\t</li>\\n\\t\\t\\t\\n\\t\\t\\t\\t<li class=\"theme_item\" data-gdid=\"CAS_479f2654-724e-11eb-9828-d34fa13ba7a8\" data-da-position=\"true\">\\n\\t\\t\\t\\t\\t<a href=\"https://post.naver.com/viewer/postView.nhn?volumeNo&#x3D;30725897&amp;memberNo&#x3D;5533664\" class=\"theme_thumb\" data-clk=\"tcc_gam.list11cont4\" target=\"_blank\">\\n\\t\\t\\t\\t\\t\\t<img  data-src=\"https://s.pstatic.net/dthumb.phinf/?src&#x3D;%22https%3A%2F%2Fs.pstatic.net%2Fstatic%2Fwww%2Fmobile%2Fedit%2F2021%2F0219%2Fupload_1613699543483vuLSN.jpg%22&amp;type&#x3D;nf340_228\" alt=\"룬워드 아이템부터 제작 재료까지 디아블로와 함께한 룬의 변천사\" width=\"170\" height=\"114\">\\n\\t\\t\\t\\t\\t\\t<span class=\"thumb_bd\"></span>\\n\\t\\t\\t\\t\\t</a>\\n\\t\\t\\t\\t\\t<a href=\"https://post.naver.com/viewer/postView.nhn?volumeNo&#x3D;30725897&amp;memberNo&#x3D;5533664\" class=\"theme_info\" data-clk=\"tcc_gam.list11cont4\" target=\"_blank\">\\n\\t\\t\\t\\t\\t\\t<em class=\"theme_category\"> 게임</em>\\n\\t\\t\\t\\t\\t\\t<strong class=\"title elss\">룬워드 아이템부터 제작 재료까지 디아블로와 함께한 룬의 변천사</strong>\\n\\t\\t\\t\\t\\t\\t<p class=\"desc\">아마 &lt;룬&gt; 이란 단어를 떠올리면 가장 먼저 생각나는 게 바로 &lt;디아블로2&gt; 게임이 아닌가 싶다. 그만큼 디아블로와 룬은 떼려야 뗄 수 없는 사이가 되어버렸는데 룬은 디아블로에서 다양한 모습으로 등장하고 있다. 디아블로2, 디아블로3 그리고 디아블로 이모탈, 디아블로4까지 어떻게 룬들은 활용되고 있을까?디아블로2룬의 가장 전성기는 바로</p>\\n\\t\\t\\t\\t\\t\\t<div class=\"source_box\">\\n\\t\\t\\t\\t\\t\\t\\t<span class=\"date\">1주일 전</span>\\n\\t\\t\\t\\t\\t\\t\\t<span class=\"source\"><span class=\"source_inner\">쏠킴의 솔직한 토크</span></span>\\n\\t\\t\\t\\t\\t\\t</div>\\n\\t\\t\\t\\t\\t</a>\\n\\t\\t\\t\\t</li>\\n\\t\\t\\t\\n\\t\\t\\t\\t<li class=\"theme_item\" data-gdid=\"CAS_479f2655-724e-11eb-9828-efd5c7ed514e\" data-da-position=\"true\">\\n\\t\\t\\t\\t\\t<a href=\"https://post.naver.com/viewer/postView.nhn?volumeNo&#x3D;30744257&amp;memberNo&#x3D;11542122\" class=\"theme_thumb\" data-clk=\"tcc_gam.list11cont5\" target=\"_blank\">\\n\\t\\t\\t\\t\\t\\t<img  data-src=\"https://s.pstatic.net/dthumb.phinf/?src&#x3D;%22https%3A%2F%2Fs.pstatic.net%2Fstatic%2Fwww%2Fmobile%2Fedit%2F2021%2F0219%2Fupload_1613699606819bFKen.jpg%22&amp;type&#x3D;nf340_228\" alt=\"63화. 안 무서운 징크스\" width=\"170\" height=\"114\">\\n\\t\\t\\t\\t\\t\\t<span class=\"thumb_bd\"></span>\\n\\t\\t\\t\\t\\t</a>\\n\\t\\t\\t\\t\\t<a href=\"https://post.naver.com/viewer/postView.nhn?volumeNo&#x3D;30744257&amp;memberNo&#x3D;11542122\" class=\"theme_info\" data-clk=\"tcc_gam.list11cont5\" target=\"_blank\">\\n\\t\\t\\t\\t\\t\\t<em class=\"theme_category\"> 게임</em>\\n\\t\\t\\t\\t\\t\\t<strong class=\"title elss\">63화. 안 무서운 징크스</strong>\\n\\t\\t\\t\\t\\t\\t<p class=\"desc\">징크스가 징징거려요.자극 없는 삶에 심심해진 징크스는 오늘도 주변 챔프들을 놀립니다.저는 개인적으로 무서운 것을 잘 보는 편이지만 눈앞에 녹턴이 나타난다면그 누구보다 빠르게 주저앉을 자신 있는데요. 여러분은 어떠신가요?이번 주도 재미있게 봐주세요~!</p>\\n\\t\\t\\t\\t\\t\\t<div class=\"source_box\">\\n\\t\\t\\t\\t\\t\\t\\t<span class=\"date\">6일 전</span>\\n\\t\\t\\t\\t\\t\\t\\t<span class=\"source\"><span class=\"source_inner\">쌀신</span></span>\\n\\t\\t\\t\\t\\t\\t</div>\\n\\t\\t\\t\\t\\t</a>\\n\\t\\t\\t\\t</li>\\n\\t\\t\\t\\n\\t\\t</ul>\\n\\t</div>\\n</div>\\n<div class=\"group_theme\" data-block-id=\"\" data-block-code=\"PC-THEME-GAMEAPP-MOBILE-RANKING-DEFAULT-11\" data-block-type=\"MATERIALS\" data-template-code=\"MOBILE-RANKING-LIST\"\\n\\n\\t data-da=\"container\"\\n\\t data-index=\"\"\\n     data-page=\"6\"\\n\\t style=\"display:none\">\\n\\n\\t<div class=\"list_theme_wrap\">\\n\\t\\t<ul class=\"list_theme\">\\n\\t\\t\\t\\n\\t\\t\\t\\t<li class=\"theme_item\" data-gdid=\"CAS_4939ac5f-7292-11eb-830d-e90f0d7c19e1\" data-da-position=\"true\">\\n\\t\\t\\t\\t\\t<a href=\"https://post.naver.com/viewer/postView.nhn?volumeNo&#x3D;30753200&amp;memberNo&#x3D;4704108&amp;navigationType&#x3D;push\" class=\"theme_thumb\" data-clk=\"tcc_gam.list12cont1\" target=\"_blank\">\\n\\t\\t\\t\\t\\t\\t<img  data-src=\"https://s.pstatic.net/dthumb.phinf/?src&#x3D;%22https%3A%2F%2Fs.pstatic.net%2Fstatic%2Fwww%2Fmobile%2Fedit%2F2021%2F0219%2Fupload_1613726930222hsTIb.jpg%22&amp;type&#x3D;nf340_228\" alt=\"블리즈컨 온라인에서 오버워치 리그 쇼매치를 최상의 환경에서 즐기는 방법\" width=\"170\" height=\"114\">\\n\\t\\t\\t\\t\\t\\t<span class=\"thumb_bd\"></span>\\n\\t\\t\\t\\t\\t</a>\\n\\t\\t\\t\\t\\t<a href=\"https://post.naver.com/viewer/postView.nhn?volumeNo&#x3D;30753200&amp;memberNo&#x3D;4704108&amp;navigationType&#x3D;push\" class=\"theme_info\" data-clk=\"tcc_gam.list12cont1\" target=\"_blank\">\\n\\t\\t\\t\\t\\t\\t<em class=\"theme_category\"> 게임</em>\\n\\t\\t\\t\\t\\t\\t<strong class=\"title elss\">블리즈컨 온라인에서 오버워치 리그 쇼매치를 최상의 환경에서 즐기는 방법</strong>\\n\\t\\t\\t\\t\\t\\t<p class=\"desc\">반갑습니다. Periodista 입니다. 블리즈컨 온라인이 이제 하루 앞으로 다가왔습니다. 평소와는 달리 온라인에서 진행하는 무료 게임 행사에 한국 시간은 새벽 혹은 아침 시간대에 열리는 다소 희귀한 상황에서 열리는 이번 블리즈컨에 오버워치 리그가 함께합니다. 다가오는 2021 시즌에 대한 내용 공개와 더불어 오버워치 리그 2회 연속 우승팀인 샌프란시스코 </p>\\n\\t\\t\\t\\t\\t\\t<div class=\"source_box\">\\n\\t\\t\\t\\t\\t\\t\\t<span class=\"date\">5일 전</span>\\n\\t\\t\\t\\t\\t\\t\\t<span class=\"source\"><span class=\"source_inner\">Periodista</span></span>\\n\\t\\t\\t\\t\\t\\t</div>\\n\\t\\t\\t\\t\\t</a>\\n\\t\\t\\t\\t</li>\\n\\t\\t\\t\\n\\t\\t\\t\\t<li class=\"theme_item\" data-gdid=\"CAS_479f2659-724e-11eb-9828-d1c803962254\" data-da-position=\"true\">\\n\\t\\t\\t\\t\\t<a href=\"https://post.naver.com/viewer/postView.nhn?volumeNo&#x3D;30734231&amp;memberNo&#x3D;1966129\" class=\"theme_thumb\" data-clk=\"tcc_gam.list12cont2\" target=\"_blank\">\\n\\t\\t\\t\\t\\t\\t<img  data-src=\"https://s.pstatic.net/dthumb.phinf/?src&#x3D;%22https%3A%2F%2Fs.pstatic.net%2Fstatic%2Fwww%2Fmobile%2Fedit%2F2021%2F0219%2Fupload_1613699826473tWxC7.jpg%22&amp;type&#x3D;nf340_228\" alt=\"갈리폴리의 사나이에 대해 들어보셨나요?\" width=\"170\" height=\"114\">\\n\\t\\t\\t\\t\\t\\t<span class=\"thumb_bd\"></span>\\n\\t\\t\\t\\t\\t</a>\\n\\t\\t\\t\\t\\t<a href=\"https://post.naver.com/viewer/postView.nhn?volumeNo&#x3D;30734231&amp;memberNo&#x3D;1966129\" class=\"theme_info\" data-clk=\"tcc_gam.list12cont2\" target=\"_blank\">\\n\\t\\t\\t\\t\\t\\t<em class=\"theme_category\"> 게임</em>\\n\\t\\t\\t\\t\\t\\t<strong class=\"title elss\">갈리폴리의 사나이에 대해 들어보셨나요?</strong>\\n\\t\\t\\t\\t\\t\\t<p class=\"desc\">반갑습니다 사신청룡입니다. 역사를 알고 게임을 하면 재미가 배가된다! 게임 속 역사 이야기 8번째 시간이 찾아왔습니다. 오늘 이야기해볼 인물은 갈리폴리의 사나이라는 불명예스런 이름으로 불리기도 하며, 전쟁으로 인해 장교에서 총리까지 고속 승진을 한 남자에 대한 이야기입니다. 바로 윈스턴 처칠입니다.한국에서도 윈스턴 처칠은 유명합니다. 아무래도 2차 세계대전</p>\\n\\t\\t\\t\\t\\t\\t<div class=\"source_box\">\\n\\t\\t\\t\\t\\t\\t\\t<span class=\"date\">5일 전</span>\\n\\t\\t\\t\\t\\t\\t\\t<span class=\"source\"><span class=\"source_inner\">사신청룡</span></span>\\n\\t\\t\\t\\t\\t\\t</div>\\n\\t\\t\\t\\t\\t</a>\\n\\t\\t\\t\\t</li>\\n\\t\\t\\t\\n\\t\\t\\t\\t<li class=\"theme_item\" data-gdid=\"CAS_0fc6f9a5-728f-11eb-8698-6f2f3ed76d3f\" data-da-position=\"true\">\\n\\t\\t\\t\\t\\t<a href=\"https://post.naver.com/viewer/postView.nhn?volumeNo&#x3D;30728893&amp;memberNo&#x3D;4505449&amp;navigationType&#x3D;push\" class=\"theme_thumb\" data-clk=\"tcc_gam.list12cont3\" target=\"_blank\">\\n\\t\\t\\t\\t\\t\\t<img  data-src=\"https://s.pstatic.net/dthumb.phinf/?src&#x3D;%22https%3A%2F%2Fs.pstatic.net%2Fstatic%2Fwww%2Fmobile%2Fedit%2F2021%2F0219%2Fupload_1613725052768Z1mIB.jpg%22&amp;type&#x3D;nf340_228\" alt=\"차세대도 피할 수 없었나, PS5 &#x27;듀얼센스&#x27; 쏠림 현상 집단 소송\" width=\"170\" height=\"114\">\\n\\t\\t\\t\\t\\t\\t<span class=\"thumb_bd\"></span>\\n\\t\\t\\t\\t\\t</a>\\n\\t\\t\\t\\t\\t<a href=\"https://post.naver.com/viewer/postView.nhn?volumeNo&#x3D;30728893&amp;memberNo&#x3D;4505449&amp;navigationType&#x3D;push\" class=\"theme_info\" data-clk=\"tcc_gam.list12cont3\" target=\"_blank\">\\n\\t\\t\\t\\t\\t\\t<em class=\"theme_category\"> 게임</em>\\n\\t\\t\\t\\t\\t\\t<strong class=\"title elss\">차세대도 피할 수 없었나, PS5 \\'듀얼센스\\' 쏠림 현상 집단 소송</strong>\\n\\t\\t\\t\\t\\t\\t<p class=\"desc\">닌텐도 스위치 컨트롤러 ‘조이콘’에 이어 소니 PS5 컨트롤러 ‘듀얼센스’ 역시 쏠림 현상으로 인해 집단 소송 위기를 맞이했습니다. 미국 법률회사 치미클스 스와츠 크리너 &amp; 도날드슨-스미스가 지난 12일, 버지니아주에 거주하는 르마크 터너의 법률 대리를 맡아 뉴욕 남부지구 지방법원에 소니 PS5 컨트롤러 &amp;</p>\\n\\t\\t\\t\\t\\t\\t<div class=\"source_box\">\\n\\t\\t\\t\\t\\t\\t\\t<span class=\"date\">1주일 전</span>\\n\\t\\t\\t\\t\\t\\t\\t<span class=\"source\"><span class=\"source_inner\">PNN</span></span>\\n\\t\\t\\t\\t\\t\\t</div>\\n\\t\\t\\t\\t\\t</a>\\n\\t\\t\\t\\t</li>\\n\\t\\t\\t\\n\\t\\t\\t\\t<li class=\"theme_item\" data-gdid=\"CAS_0fc6f9a6-728f-11eb-8698-f3fa942c60e9\" data-da-position=\"true\">\\n\\t\\t\\t\\t\\t<a href=\"https://post.naver.com/viewer/postView.nhn?volumeNo&#x3D;30747601&amp;memberNo&#x3D;10582936&amp;navigationType&#x3D;push\" class=\"theme_thumb\" data-clk=\"tcc_gam.list12cont4\" target=\"_blank\">\\n\\t\\t\\t\\t\\t\\t<img  data-src=\"https://s.pstatic.net/dthumb.phinf/?src&#x3D;%22https%3A%2F%2Fs.pstatic.net%2Fstatic%2Fwww%2Fmobile%2Fedit%2F2021%2F0219%2Fupload_1613724961853ipRme.jpg%22&amp;type&#x3D;nf340_228\" alt=\"스팀이 ‘매우 긍정적’ 개발사에 판매 정지 처분을?\" width=\"170\" height=\"114\">\\n\\t\\t\\t\\t\\t\\t<span class=\"thumb_bd\"></span>\\n\\t\\t\\t\\t\\t</a>\\n\\t\\t\\t\\t\\t<a href=\"https://post.naver.com/viewer/postView.nhn?volumeNo&#x3D;30747601&amp;memberNo&#x3D;10582936&amp;navigationType&#x3D;push\" class=\"theme_info\" data-clk=\"tcc_gam.list12cont4\" target=\"_blank\">\\n\\t\\t\\t\\t\\t\\t<em class=\"theme_category\"> 게임</em>\\n\\t\\t\\t\\t\\t\\t<strong class=\"title elss\">스팀이 ‘매우 긍정적’ 개발사에 판매 정지 처분을?</strong>\\n\\t\\t\\t\\t\\t\\t<p class=\"desc\">스팀이 ‘매우 긍정적’ 개발사에 판매 정지 처분을 내렸다. 이게 어찌된 일일까? 지난 11일, 한 개발사가 스팀에 퍼즐게임 이모지 에볼루션을 출시했다. 여러 이모티콘을 결합해 가며 문제를 푸는 간단한 게임으로, 그 자체는 큰 문제가 없었다. 하지만 이 게임은 출시 이틀 만에 스팀에서 판매 정지 처분을 받았다. 이유는 &#x27;리뷰 조작&#x27;이었다</p>\\n\\t\\t\\t\\t\\t\\t<div class=\"source_box\">\\n\\t\\t\\t\\t\\t\\t\\t<span class=\"date\">6일 전</span>\\n\\t\\t\\t\\t\\t\\t\\t<span class=\"source\"><span class=\"source_inner\">게임메카</span></span>\\n\\t\\t\\t\\t\\t\\t</div>\\n\\t\\t\\t\\t\\t</a>\\n\\t\\t\\t\\t</li>\\n\\t\\t\\t\\n\\t\\t\\t\\t<li class=\"theme_item\" data-gdid=\"CAS_0fc6f9a8-728f-11eb-8698-a1f41e476ae6\" data-da-position=\"true\">\\n\\t\\t\\t\\t\\t<a href=\"https://post.naver.com/viewer/postView.nhn?volumeNo&#x3D;30754160&amp;memberNo&#x3D;11255530&amp;navigationType&#x3D;push\" class=\"theme_thumb\" data-clk=\"tcc_gam.list12cont5\" target=\"_blank\">\\n\\t\\t\\t\\t\\t\\t<img  data-src=\"https://s.pstatic.net/dthumb.phinf/?src&#x3D;%22https%3A%2F%2Fs.pstatic.net%2Fstatic%2Fwww%2Fmobile%2Fedit%2F2021%2F0219%2Fupload_1613725032662pI6Rw.jpg%22&amp;type&#x3D;nf340_228\" alt=\"&quot;진심으로 소통하겠다&quot; 마비노기, 3월 13일 간담회 개최\" width=\"170\" height=\"114\">\\n\\t\\t\\t\\t\\t\\t<span class=\"thumb_bd\"></span>\\n\\t\\t\\t\\t\\t</a>\\n\\t\\t\\t\\t\\t<a href=\"https://post.naver.com/viewer/postView.nhn?volumeNo&#x3D;30754160&amp;memberNo&#x3D;11255530&amp;navigationType&#x3D;push\" class=\"theme_info\" data-clk=\"tcc_gam.list12cont5\" target=\"_blank\">\\n\\t\\t\\t\\t\\t\\t<em class=\"theme_category\"> 게임</em>\\n\\t\\t\\t\\t\\t\\t<strong class=\"title elss\">\"진심으로 소통하겠다\" 마비노기, 3월 13일 간담회 개최</strong>\\n\\t\\t\\t\\t\\t\\t<p class=\"desc\">유저들의 트럭 시위가 이어진 마비노기가 오프라인 간담회 일정을 발표했다. 마비노기 간담회는 3월 13일(토) 오후 2시, 판교 사옥에서 개최된다. 넥슨 측에서는 민경훈 디렉터를 비롯해 컨텐츠팀장, 기술팀장, GM팀장이 간담회에 참석한다. 유저 대표는 총 5명으로, 3차 성명문 발송인을 통해 유저들이 직접 대표를 선발한다. 넥슨은 간담회에서 설</p>\\n\\t\\t\\t\\t\\t\\t<div class=\"source_box\">\\n\\t\\t\\t\\t\\t\\t\\t<span class=\"date\">5일 전</span>\\n\\t\\t\\t\\t\\t\\t\\t<span class=\"source\"><span class=\"source_inner\">게임인사이트</span></span>\\n\\t\\t\\t\\t\\t\\t</div>\\n\\t\\t\\t\\t\\t</a>\\n\\t\\t\\t\\t</li>\\n\\t\\t\\t\\n\\t\\t</ul>\\n\\t</div>\\n</div>\\n\\n\\n\\n\\n\\t<div class=\"btn_more_wrap\">\\n\\t\\t<button type=\"button\" class=\"btn_more\" data-clk-custom=\"tcc_gam.more\" data-next-page=\"2\"><i class=\"ico_more\"></i>새로운 글 더보기</button>\\n\\t</div>\\n\\n\\n\\t</div>\\n</div>\\n </div> </div> <div id=\"NM_INT_RIGHT\" class=\"column_right\"> <div class=\"column_fix_wrap\"> <div id=\"da_brand\"></div> \\n\\n\\n\\n\\n<div id=\"account\" class=\"sc_login\">\\n<h2 class=\"blind\">Sign in</h2>\\n<p class=\"login_msg\">Connect with people</p>\\n<a href=\"https://nid.naver.com/nidlogin.login?mode=form&url=https%3A%2F%2Fwww.naver.com\" class=\"link_login\" data-clk=\"log_off.login\"><i class=\"ico_naver\"><span class=\"blind\">NAVER</span></i>Sign in</a>\\n<div class=\"sub_area\">\\n<div class=\"look_box\">\\n<a href=\"https://nid.naver.com/user/help.nhn?todo=idinquiry\" class=\"link_look\" data-clk=\"log_off.searchid\">Forgot Username</a>\\n<a href=\"https://nid.naver.com/nidreminder.form\" class=\"link_look\" data-clk=\"log_off.searchpass\">Password</a>\\n</div>\\n<a href=\"https://nid.naver.com/nidregister.form?url=https%3A%2F%2Fwww.naver.com\" class=\"link_join\" data-clk=\"log_off.registration\">Sign up</a>\\n</div>\\n</div>\\n\\n\\n\\n <div id=\"timesquare\" class=\"sc_timesquare\"> <h2 class=\"blind\">타임스퀘어</h2> <div class=\"card_wrap\">\\n<div class=\"card_nav\">\\n<a href=\"#\" role=\"button\" class=\"btn_nav btn_prev\" data-clk=\"squ.pre\"><span class=\"blind\">이전</span></a>\\n<a href=\"#\" role=\"button\" class=\"btn_nav btn_next\" data-clk=\"squ.next\"><span class=\"blind\">다음</span></a>\\n</div>\\n<div id=\"NM_TS_ROLLING_WRAP\" style=\"height: 100%;\">\\n<div>\\n<a href=\"https://news.naver.com/main/home.nhn\" class=\"card_news\" data-clk=\"squ.line2\"><i class=\"news_badge type_flash\">신문1면</i><span class=\"news\">언론사 헤드라인 보기</span></a>\\n</div>\\n<div>\\n<a href=\"https://search.naver.com/search.naver?sm=top_hty&amp;fbm=0&amp;ie=utf8&amp;query=%EC%BD%94%EB%A1%9C%EB%82%9819\" class=\"card_news\" data-clk=\"squ.line3\"><i class=\"news_badge\">이슈</i><span class=\"news\">코로나바이러스감염증19 현황</span></a>\\n</div>\\n<div>\\n<a href=\"https://finance.naver.com/sise/sise_index.nhn?code=KOSPI\" class=\"card_stock \" data-clk=\"squ.kospi\">\\n<strong class=\"stock_title\">증시</strong>\\n<div class=\"stock_box\">\\n<em class=\"name\">코스피</em>\\n<strong class=\"current\">2,994.98</strong>\\n<span class=\"rate rate_stable\">0.00 0.00%</span>\\n</div>\\n</a>\\n</div>\\n<div>\\n<a href=\"https://finance.naver.com/sise/sise_index.nhn?code=KOSDAQ\" class=\"card_stock \" data-clk=\"squ.kosdaq\">\\n<strong class=\"stock_title\">증시</strong>\\n<div class=\"stock_box\">\\n<em class=\"name\">코스닥</em>\\n<strong class=\"current\">906.31</strong>\\n<span class=\"rate rate_stable\">0.00 0.00%</span>\\n</div>\\n</a>\\n</div>\\n<div>\\n<a href=\"https://finance.naver.com/marketindex/exchangeDetail.nhn?marketindexCd=FX_USDKRW\" class=\"card_stock type_exchange\" data-clk=\"squ.usd\">\\n<strong class=\"stock_title\">환율</strong>\\n<div class=\"stock_box\">\\n<em class=\"name\">USD</em>\\n<strong class=\"current\">1,107.50</strong>\\n<span class=\"rate rate_down\">1.50 -0.14%</span>\\n</div>\\n</a>\\n</div>\\n</div>\\n</div> <!-- EMPTY --> </div>  <div id=\"veta_branding\"> <iframe id=\"da_iframe_rolling\" name=\"da_iframe_rolling\" data-iframe-src=\"https://siape.veta.naver.com/fxshow?su=SU10601&amp;nrefreshx=0\" data-veta-preview=\"main_rolling\" title=\"광고\" width=\"350\" height=\"200\" marginheight=\"0\" marginwidth=\"0\" scrolling=\"no\" frameborder=\"0\"></iframe> <span class=\"veta_bd_t\"></span> <span class=\"veta_bd_b\"></span> <span class=\"veta_bd_l\"></span> <span class=\"veta_bd_r\"></span> </div>   <div id=\"shopcast\" class=\"sc_shopcast\"> <iframe id=\"shopcast_iframe\" data-iframe-src=\"https://castbox.shopping.naver.com/shoppingboxnew/main.nhn\" title=\"쇼핑캐스트\" width=\"350\" height=\"1539\" marginheight=\"0\" marginwidth=\"0\" scrolling=\"no\" frameborder=\"0\"></iframe> </div> </div> </div> <a id=\"NM_scroll_top_btn\" href=\"#wrap\" class=\"content_top\"><span class=\"blind\">TOP</span></a> <button id=\"NM_darkmode_btn\" type=\"button\" role=\"button\" class=\"btn_theme\" aria-pressed=\"false\"  > <span class=\"blind\">라이트 모드로 보기</span> </button> </div> <div id=\"footer\" role=\"contentinfo\"> <div class=\"footer_inner\"> <div class=\"banner_area\"> <div class=\"da_box_wrap\">    <div id=\"da_public_left\"> <iframe id=\"da_iframe_bottom_left\" data-iframe-src=\"https://siape.veta.naver.com/fxshow?su=SU10641&amp;nrefreshx=0\" title=\"광고\" width=\"350\" height=\"86\" scrolling=\"no\" frameborder=\"0\"></iframe> </div> <div id=\"da_public_right\"> <iframe id=\"da_iframe_bottom_right\" data-iframe-src=\"https://siape.veta.naver.com/fxshow?su=SU10642&amp;nrefreshx=0\" title=\"광고\" width=\"350\" height=\"86\" scrolling=\"no\" frameborder=\"0\"></iframe> </div> <div id=\"veta_time2\"> <iframe id=\"da_iframe_below\" name=\"da_iframe_below\" data-iframe-src=\"https://siape.veta.naver.com/fxshow?su=SU10640&amp;nrefreshx=0\" data-veta-preview=\"main_below\" width=\"350\" height=\"86\" scrolling=\"no\" frameborder=\"0\" title=\"광고\"> </iframe> </div> </div> </div> <div class=\"notice_area\" data-clk-prefix=\"ntc\"> <div class=\"notice_box\"> <h3 class=\"title\"><a href=\"https://www.naver.com/NOTICE\">공지사항</a> </h3> <a href=\"https://www.naver.com/NOTICE/read/1100001014/10000000000030670899\" class=\"notice_msg\" data-clk=\"notice\" >네이버 &#39;개인정보 처리방침&#39; 변경에 대한 안내 말씀드립니다.</a> </div> <a href=\"more.html\" class=\"link_all\" data-clk=\"svcmap\">서비스 전체보기</a> </div> <div class=\"aside_area\"> <div class=\"partner_box_wrap\"> <div class=\"partner_box\" data-clk-prefix=\"crt\"> <h3 class=\"title\">Creators</h3> <a href=\"https://www.navercorp.com/service/creators\" class=\"link_partner\" data-clk=\"creator\">크리에이터</a> <a href=\"https://www.navercorp.com/service/business\" class=\"link_partner\" data-clk=\"smbusiness\">스몰비즈니스</a> </div> <div class=\"partner_box\" data-clk-prefix=\"crt\"> <h3 class=\"title\">Partners</h3> <a href=\"https://business.naver.com/service.html\" class=\"link_partner\" data-clk=\"service\">비즈니스 · 광고</a> <a href=\"https://sell.storefarm.naver.com/#/home/about\" class=\"link_partner\" data-clk=\"store\">스토어 개설</a> <a href=\"https://smartplace.naver.com\" class=\"link_partner\" data-clk=\"place\">지역업체 등록</a> <a href=\"https://expert.naver.com/expert/introduction?tab=guide#join\" class=\"link_partner\" data-clk=\"expert\">엑스퍼트 등록</a> </div> <div class=\"partner_box\" data-clk-prefix=\"crt\"> <h3 class=\"title\">Developers</h3> <a href=\"https://developers.naver.com\" class=\"link_partner\" data-clk=\"center\">네이버 개발자 센터</a> <a href=\"https://developers.naver.com/docs/common/openapiguide/#/apilist.md\" class=\"link_partner\" data-clk=\"openapi\">오픈 API</a> <a href=\"https://naver.github.io\" class=\"link_partner\" data-clk=\"opensource\">오픈소스</a> <a href=\"https://d2.naver.com\" class=\"link_partner\" data-clk=\"d2\">네이버 D2</a> <a href=\"http://d2startup.com\" class=\"link_partner\" data-clk=\"naverD2SF\">네이버 D2SF</a> <a href=\"https://www.naverlabs.com\" class=\"link_partner\" data-clk=\"labs\">네이버 랩스</a> </div> </div> <div class=\"service_box_wrap\"> <div class=\"service_box\" data-clk-prefix=\"wbd\"> <a href=\"http://whale.naver.com/\" class=\"service_logo\" data-clk=\"bt\"> <img src=\"data:image/png;base64,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\" alt=\"웨일\" width=\"48\" height=\"48\"> </a> <div class=\"service_info\"> <strong class=\"title\">웨일 브라우저</strong> <a href=\"http://whale.naver.com/\" class=\"dsc\" data-clk=\"bt\">다운받기</a> </div> </div> <div class=\"service_box\" data-clk-prefix=\"prj\"> <a href=\"https://search.naver.com/search.naver?where=nexearch&sm=top_hty&fbm=1&ie=utf8&query=%ED%94%84%EB%A1%9C%EC%A0%9D%ED%8A%B8%EA%BD%83\" class=\"service_logo\" data-clk=\"link\"> <img src=\"data:image/png;base64,iVBORw0KGgoAAAANSUhEUgAAAF4AAABkCAMAAAA47XeXAAAAgVBMVEUAAADN5PdGm99Gm99Gm99Gm99Gm95Gm99Gm99Gm99Gm99Gm99Gm99Gm99Gm99Gm99Gm99Gm99Gm99Gm99Gm99Gm99Gm99Gmt9Gm99Gm99Gm99Gm95Gm99Gm99Gm95Gm99Hm99Gm99Gm9/////3+/5cp+LO5PfR5/fO5fdcp+P7/f/zv5GhAAAAInRSTlMA/v7vH9u5qJNgGwb6l8a9uqF9WFUyLxYMCtbVmLCwe4OCj8gzEgAAA0NJREFUaN7NmmFz4iAQhkkwMTHGWrWtWvWuq8mF+/8/8Ey2nb0OhSwQZnw+MHQ7pbjAy2s2gsuiLPJMLpcyy4tyISZltnmHbxw3MzEVr/MUNNL5q5iCt2ccXCN9fhPB7CQYkTsRRlWDlboSAexzGCHfC28OKxhldfDOzBMwePLNTw0sauHFFphshQcLCUwkaQRfXYBPSkrEUBdv3jezcXXhw1ciUhc+fCUidQlH7qzqEk5d2dQlnHxvU5dwVgdXdSGclaiGyamt6hLO1qIu4ZASzcFE092SBprk1jagulvXAAw/qb5N7m176xQYmOPoLymYaK/X65/PNhlagE6LGUhfRM8FjNzuf/73//bHmInzoJEpjMyeWpp9RzGz/PT6+QvMNO2Q+67PPeYZY5h7jDVg5OM+/BGikd13JfDAj/Ad1WLMyEyUwKPT00ypN1GKAljQJtFiFgqRe86eYhbWIvPPPR5d+9pKiIgUwKNJdHXBvW9jyRye1EWLWYfnJcd141Byspizz7gbUyWDuqiW0v15D9g3ZgF86JwyKUgUHJaATUmS5rsEdkkTZLjZS8Alw+skFr8Nl6H6uosShaKOp3Zo+/jgFTDe+wcSfv0yFGfQaLX7tDO0reXOPRuMCG4Q11Y3IiYblWgzS7R+h31qdRtlGB7zikeUckz+AB3a8FuMqD7Cd2nhUHLOEIkLubQIkEuLxIdwEwUy3HyXxsbgPMJcGuGox+TSIugxuTQ+KHIaAS5N92eIIuMT5tJoPfHy5q9yKoXLelLuKRri0mjMQdhwTPw6Sv8pzKXhFyhNilEwkSCXRrnAnaPnJdyl0UrqXircpeHVglnv+62K4NJo3lFcGmWd79KO7OQoXAE8XNO6tIQGxj7fpfHTwk8RubQLWEGvgTNGKzj01fixunCMCCYcvSSlaFwUyKVx86J3bczpUR3zimq1LqdosAUbJF54ar+uk5Gju436mPTk8ZAXFdO93HRYTesUVgf3B+y0XdxLfdVputmfKp/iBtNjyl3c0kzUwtJIWewIPvAL9LOyWLsV9WAps3VRzh6hJBm3oOqsRKfHLGYzS/GP+iLBuBKdqkd+iWPkFZTHf4Em4us/uhI5qss/6zK5u8+AXpwAAAAASUVORK5CYII=\" alt=\"꽃\" width=\"47\" height=\"50\"> </a> <div class=\"service_info\"> <strong class=\"title\">프로젝트 꽃</strong> <a href=\"https://search.naver.com/search.naver?where=nexearch&sm=top_hty&fbm=1&ie=utf8&query=%ED%94%84%EB%A1%9C%EC%A0%9D%ED%8A%B8%EA%BD%83\" class=\"dsc\" data-clk=\"link\">바로가기</a> </div> </div> </div> </div> <div class=\"corp_area\" data-clk-prefix=\"plc\"> <h3 class=\"blind\">네이버 정책 및 약관</h3> <ul class=\"list_corp\"> <li class=\"corp_item\"><a href=\"https://www.navercorp.com\" data-clk=\"intronhn\">회사소개</a></li> <li class=\"corp_item\"><a href=\"https://recruit.navercorp.com/naver/recruitMain\" data-clk=\"recruit\">인재채용</a></li> <li class=\"corp_item\"><a href=\"https://www.navercorp.com/naver/proposalGuide\" data-clk=\"contact\">제휴제안</a></li> <li class=\"corp_item\"><a href=\"/policy/service.html\" data-clk=\"service\">이용약관</a></li> <li class=\"corp_item\"><a href=\"/policy/privacy.html\" data-clk=\"privacy\"><strong>개인정보처리방침</strong></a></li> <li class=\"corp_item\"><a href=\"/policy/youthpolicy.html\" data-clk=\"youth\">청소년보호정책</a></li> <li class=\"corp_item\"><a href=\"/policy/spamcheck.html\" data-clk=\"policy\">네이버 정책</a></li> <li class=\"corp_item\"><a href=\"https://help.naver.com/\" data-clk=\"helpcenter\">고객센터</a></li> </ul> <address class=\"addr\"><a href=\"https://www.navercorp.com\" target=\"_blank\" data-clk=\"nhn\">ⓒ NAVER Corp.</a></address> </div> </div> </div> </div> <div id=\"adscript\" style=\"display:none\"></div> </body> </html>\\n'"
      ]
     },
     "execution_count": 94,
     "metadata": {},
     "output_type": "execute_result"
    }
   ],
   "source": [
    "import requests\n",
    "resp = requests.get('http://naver.com')\n",
    "resp.text\n"
   ]
  },
  {
   "cell_type": "code",
   "execution_count": 95,
   "metadata": {},
   "outputs": [
    {
     "data": {
      "text/plain": [
       "3.141592653589793"
      ]
     },
     "execution_count": 95,
     "metadata": {},
     "output_type": "execute_result"
    }
   ],
   "source": [
    "import math\n",
    "math.pi"
   ]
  },
  {
   "cell_type": "code",
   "execution_count": 101,
   "metadata": {},
   "outputs": [
    {
     "data": {
      "text/plain": [
       "6.123233995736766e-17"
      ]
     },
     "execution_count": 101,
     "metadata": {},
     "output_type": "execute_result"
    }
   ],
   "source": [
    "math.cos(math.pi/2)"
   ]
  },
  {
   "cell_type": "code",
   "execution_count": 102,
   "metadata": {},
   "outputs": [
    {
     "data": {
      "text/plain": [
       "3.141592653589793"
      ]
     },
     "execution_count": 102,
     "metadata": {},
     "output_type": "execute_result"
    }
   ],
   "source": [
    "from math import pi\n",
    "pi # directly use pi"
   ]
  },
  {
   "cell_type": "code",
   "execution_count": 103,
   "metadata": {},
   "outputs": [
    {
     "data": {
      "text/plain": [
       "0.8939966636005579"
      ]
     },
     "execution_count": 103,
     "metadata": {},
     "output_type": "execute_result"
    }
   ],
   "source": [
    "from math import * \n",
    "sin(90)"
   ]
  },
  {
   "cell_type": "code",
   "execution_count": 105,
   "metadata": {},
   "outputs": [
    {
     "name": "stdout",
     "output_type": "stream",
     "text": [
      "2.718281828459045\n",
      "2.718281828459045\n"
     ]
    }
   ],
   "source": [
    "print(math.e)\n",
    "print(e)"
   ]
  },
  {
   "cell_type": "code",
   "execution_count": 106,
   "metadata": {},
   "outputs": [
    {
     "data": {
      "text/plain": [
       "20.085536923187668"
      ]
     },
     "execution_count": 106,
     "metadata": {},
     "output_type": "execute_result"
    }
   ],
   "source": [
    "import math\n",
    "math.exp(3)"
   ]
  },
  {
   "cell_type": "code",
   "execution_count": 107,
   "metadata": {},
   "outputs": [
    {
     "data": {
      "text/plain": [
       "20.085536923187668"
      ]
     },
     "execution_count": 107,
     "metadata": {},
     "output_type": "execute_result"
    }
   ],
   "source": [
    "import math as m \n",
    "m.exp(3)"
   ]
  },
  {
   "cell_type": "code",
   "execution_count": 108,
   "metadata": {},
   "outputs": [],
   "source": [
    "# class is data type of att+method\n"
   ]
  },
  {
   "cell_type": "code",
   "execution_count": 109,
   "metadata": {},
   "outputs": [
    {
     "data": {
      "text/plain": [
       "[1, 2, 3, 4, 5]"
      ]
     },
     "execution_count": 109,
     "metadata": {},
     "output_type": "execute_result"
    }
   ],
   "source": [
    "a = [1,2,3,4]\n",
    "a.append(5)  # insert by append method \n",
    "a\n"
   ]
  },
  {
   "cell_type": "code",
   "execution_count": 111,
   "metadata": {},
   "outputs": [],
   "source": [
    "def test():  # empty implementation \n",
    "    pass"
   ]
  },
  {
   "cell_type": "code",
   "execution_count": 112,
   "metadata": {},
   "outputs": [],
   "source": [
    "class Person:\n",
    "    pass     # empty class"
   ]
  },
  {
   "cell_type": "code",
   "execution_count": 115,
   "metadata": {},
   "outputs": [
    {
     "name": "stdout",
     "output_type": "stream",
     "text": [
      "<class '__main__.Person'> <class '__main__.Person'>\n",
      "<class 'list'> <class 'list'>\n"
     ]
    }
   ],
   "source": [
    "bob = Person()\n",
    "cathy = Person()\n",
    "\n",
    "a = list()\n",
    "b = list()  # object construction \n",
    "\n",
    "print(type(bob), type(cathy))\n",
    "print(type(a), type(b))\n"
   ]
  },
  {
   "cell_type": "code",
   "execution_count": 116,
   "metadata": {},
   "outputs": [],
   "source": [
    "# construction   __init__\n"
   ]
  },
  {
   "cell_type": "code",
   "execution_count": 123,
   "metadata": {},
   "outputs": [
    {
     "name": "stdout",
     "output_type": "stream",
     "text": [
      "<__main__.Person object at 0x7faec8a20a30> is generated\n",
      "<__main__.Person object at 0x7faec8a202b0> is generated\n",
      "\n",
      "aaron 20\n"
     ]
    }
   ],
   "source": [
    "class Person:\n",
    "    def __init__(self):\n",
    "        print(self, 'is generated') # object's memory address\n",
    "        self.name = 'Kate'\n",
    "        self.age = 10\n",
    "        \n",
    "p1 = Person()\n",
    "p2 = Person()\n",
    "print()\n",
    "\n",
    "p1.name = 'aaron'\n",
    "p1.age = 20\n",
    "print(p1.name, p1.age)"
   ]
  },
  {
   "cell_type": "code",
   "execution_count": 125,
   "metadata": {},
   "outputs": [
    {
     "name": "stdout",
     "output_type": "stream",
     "text": [
      "<__main__.Person object at 0x7faec8a20580> is generated\n",
      "<__main__.Person object at 0x7faec8a207f0> is generated\n",
      "bob 30\n",
      "kate 30\n"
     ]
    }
   ],
   "source": [
    "class Person:\n",
    "    def __init__(self, n, a):\n",
    "        print(self, 'is generated') # object's memory address\n",
    "        self.name = n\n",
    "        self.age = a\n",
    "p1 = Person('bob',30)\n",
    "p2 = Person('kate',30)\n",
    "print(p1.name, p1.age)\n",
    "print(p2.name, p2.age)"
   ]
  },
  {
   "cell_type": "code",
   "execution_count": 127,
   "metadata": {},
   "outputs": [
    {
     "name": "stdout",
     "output_type": "stream",
     "text": [
      "bob 30\n",
      "kate 30\n"
     ]
    }
   ],
   "source": [
    "class Person:\n",
    "    def __init__(self, name, age=10):\n",
    "        print(self, 'is generated') # object's memory address\n",
    "        self.name = name\n",
    "        self.age = age\n",
    "\n",
    "print(p1.name, p1.age)\n",
    "print(p2.name, p2.age)"
   ]
  },
  {
   "cell_type": "code",
   "execution_count": 129,
   "metadata": {},
   "outputs": [],
   "source": [
    "# self keyword\n",
    "# first parameter is self"
   ]
  },
  {
   "cell_type": "code",
   "execution_count": 130,
   "metadata": {},
   "outputs": [
    {
     "name": "stdout",
     "output_type": "stream",
     "text": [
      "<__main__.Person object at 0x7faec8a58b20>\n",
      "<__main__.Person object at 0x7faec8a58640>\n"
     ]
    }
   ],
   "source": [
    "class Person:\n",
    "    def __init__(self, name, age):\n",
    "        self.name = name\n",
    "        self.age = age\n",
    "\n",
    "a = Person('aron', 20)  # self \n",
    "b = Person('bob',30)\n",
    "\n",
    "print(a) ## calling constructor # a is equal self \n",
    "print(b)"
   ]
  },
  {
   "cell_type": "code",
   "execution_count": 132,
   "metadata": {},
   "outputs": [
    {
     "name": "stdout",
     "output_type": "stream",
     "text": [
      "aron is sleeping\n",
      "bob is sleeping\n"
     ]
    }
   ],
   "source": [
    "class Person:\n",
    "    def __init__(self, name, age):\n",
    "        self.name = name\n",
    "        self.age = age\n",
    "    def sleep(self):\n",
    "        print(self.name, 'is sleeping')\n",
    "\n",
    "a = Person('aron', 20)  # self \n",
    "b = Person('bob',30)\n",
    "a.sleep()\n",
    "b.sleep()"
   ]
  },
  {
   "cell_type": "code",
   "execution_count": 133,
   "metadata": {},
   "outputs": [],
   "source": [
    "# define method, static method"
   ]
  },
  {
   "cell_type": "code",
   "execution_count": 137,
   "metadata": {},
   "outputs": [
    {
     "name": "stdout",
     "output_type": "stream",
     "text": [
      "current: 0\n"
     ]
    }
   ],
   "source": [
    "class Counter:\n",
    "    def __init__(self):\n",
    "        self.num =0\n",
    "        \n",
    "    def print_current_value(self):\n",
    "        print('current:', self.num)\n",
    "\n",
    "c1 = Counter()\n",
    "c1.print_current_value()\n"
   ]
  },
  {
   "cell_type": "code",
   "execution_count": 142,
   "metadata": {},
   "outputs": [
    {
     "name": "stdout",
     "output_type": "stream",
     "text": [
      "current: 0\n",
      "current: 2\n",
      "current: 0\n",
      "current: 1\n"
     ]
    }
   ],
   "source": [
    "class Counter:\n",
    "    def __init__(self):\n",
    "        self.num =0\n",
    "    \n",
    "    def increment(self):\n",
    "        self.num += 1\n",
    "        \n",
    "    def reset(self):\n",
    "        self.num = 0 \n",
    "        \n",
    "    def print_current_value(self):\n",
    "        print('current:', self.num)\n",
    "\n",
    "c1 = Counter()\n",
    "c1.print_current_value()\n",
    "c1.increment()\n",
    "c1.increment()\n",
    "c1.print_current_value()\n",
    "\n",
    "c1.reset()\n",
    "c1.print_current_value()\n",
    "\n",
    "c2 = Counter()\n",
    "c2.increment()\n",
    "c2.print_current_value()   # calling at the object level \n"
   ]
  },
  {
   "cell_type": "code",
   "execution_count": 144,
   "metadata": {},
   "outputs": [],
   "source": [
    "# static method  // in case of without attribue "
   ]
  },
  {
   "cell_type": "code",
   "execution_count": 147,
   "metadata": {},
   "outputs": [
    {
     "data": {
      "text/plain": [
       "200"
      ]
     },
     "execution_count": 147,
     "metadata": {},
     "output_type": "execute_result"
    }
   ],
   "source": [
    "class Math:\n",
    "    @staticmethod  # decorator : not instance method\n",
    "    def add(a,b):\n",
    "        return a + b\n",
    "    \n",
    "    @staticmethod\n",
    "    def multiply(a,b):\n",
    "        return a * b\n",
    "\n",
    "Math.add(10,20)\n",
    "Math.multiply(10,20)"
   ]
  },
  {
   "cell_type": "code",
   "execution_count": 1,
   "metadata": {},
   "outputs": [],
   "source": [
    "# class inheritance\n",
    "# Student is a Person, Employee is a Person"
   ]
  },
  {
   "cell_type": "code",
   "execution_count": 3,
   "metadata": {},
   "outputs": [
    {
     "name": "stdout",
     "output_type": "stream",
     "text": [
      "Bob eat BBQ\n",
      "Bob sleep 30\n",
      "Bob work 60\n"
     ]
    }
   ],
   "source": [
    "class Person: \n",
    "    def __init__(self, name, age):\n",
    "        self.name = name\n",
    "        self.age = age\n",
    "    \n",
    "    def eat(self, food):\n",
    "        print( '{} eat {}'.format(self.name, food))\n",
    "    \n",
    "    def sleep(self, minute):\n",
    "        print( '{} sleep {}'.format(self.name, minute))\n",
    "    \n",
    "    def work(self, minute):\n",
    "        print( '{} work {}'.format(self.name, minute))\n",
    "        \n",
    "class Student(Person):\n",
    "    def __init__(self, name, age):\n",
    "        self.name = name\n",
    "        self.age = age\n",
    "            \n",
    "class Employee(Person):\n",
    "    def __init__(self, name, age):\n",
    "        self.name = name\n",
    "        self.age = age\n",
    "\n",
    "bob = Student('Bob', 25)\n",
    "bob.eat('BBQ')\n",
    "bob.sleep(30)\n",
    "bob.work(60)"
   ]
  },
  {
   "cell_type": "code",
   "execution_count": 4,
   "metadata": {},
   "outputs": [],
   "source": [
    "# method override"
   ]
  },
  {
   "cell_type": "code",
   "execution_count": 8,
   "metadata": {},
   "outputs": [
    {
     "name": "stdout",
     "output_type": "stream",
     "text": [
      "Bob eat BBQ\n",
      "Bob sleep 30\n",
      "Bob study 60\n"
     ]
    }
   ],
   "source": [
    "class Person: \n",
    "    def __init__(self, name, age):\n",
    "        self.name = name\n",
    "        self.age = age\n",
    "    \n",
    "    def eat(self, food):\n",
    "        print( '{} eat {}'.format(self.name, food))\n",
    "    \n",
    "    def sleep(self, minute):\n",
    "        print( '{} sleep {}'.format(self.name, minute))\n",
    "    \n",
    "    def work(self, minute):\n",
    "        print( '{} work {}'.format(self.name, minute))\n",
    "        \n",
    "class Student(Person):\n",
    "    def __init__(self, name, age):\n",
    "        self.name = name\n",
    "        self.age = age\n",
    "    def work(self, minute):  # method override\n",
    "        print( '{} study {}'.format(self.name, minute))\n",
    "            \n",
    "class Employee(Person):\n",
    "    def __init__(self, name, age):\n",
    "        self.name = name\n",
    "        self.age = age\n",
    "    \n",
    "\n",
    "bob = Student('Bob', 25)\n",
    "bob.eat('BBQ')\n",
    "bob.sleep(30)\n",
    "bob.work(60)"
   ]
  },
  {
   "cell_type": "code",
   "execution_count": 9,
   "metadata": {},
   "outputs": [
    {
     "name": "stdout",
     "output_type": "stream",
     "text": [
      "Bob eat BBQ\n",
      "Bob sleep 30\n",
      "Bob work for company 60\n"
     ]
    }
   ],
   "source": [
    "class Person: \n",
    "    def __init__(self, name, age):\n",
    "        self.name = name\n",
    "        self.age = age\n",
    "    \n",
    "    def eat(self, food):\n",
    "        print( '{} eat {}'.format(self.name, food))\n",
    "    \n",
    "    def sleep(self, minute):\n",
    "        print( '{} sleep {}'.format(self.name, minute))\n",
    "    \n",
    "    def work(self, minute):\n",
    "        print( '{} work {}'.format(self.name, minute))\n",
    "        \n",
    "class Student(Person):\n",
    "    def __init__(self, name, age):\n",
    "        self.name = name\n",
    "        self.age = age\n",
    "    def work(self, minute):\n",
    "        print( '{} study {}'.format(self.name, minute))\n",
    "            \n",
    "class Employee(Person):\n",
    "    def __init__(self, name, age):\n",
    "        self.name = name\n",
    "        self.age = age\n",
    "    def work(self, minute):   # method override\n",
    "        print( '{} work for company {}'.format(self.name, minute))\n",
    "\n",
    "bob = Employee('Bob', 25)\n",
    "bob.eat('BBQ')\n",
    "bob.sleep(30)\n",
    "bob.work(60)\n"
   ]
  },
  {
   "cell_type": "code",
   "execution_count": 10,
   "metadata": {},
   "outputs": [],
   "source": [
    "# super : calling the parent class in a child class "
   ]
  },
  {
   "cell_type": "code",
   "execution_count": 12,
   "metadata": {},
   "outputs": [
    {
     "name": "stdout",
     "output_type": "stream",
     "text": [
      "Bob eat BBQ\n",
      "Bob sleep 30\n",
      "Bob work 60\n",
      "Bob work for company 60\n"
     ]
    }
   ],
   "source": [
    "class Person: \n",
    "    def __init__(self, name, age):\n",
    "        self.name = name\n",
    "        self.age = age\n",
    "    \n",
    "    def eat(self, food):\n",
    "        print( '{} eat {}'.format(self.name, food))\n",
    "    \n",
    "    def sleep(self, minute):\n",
    "        print( '{} sleep {}'.format(self.name, minute))\n",
    "    \n",
    "    def work(self, minute):\n",
    "        print( '{} work {}'.format(self.name, minute))\n",
    "        \n",
    "class Student(Person):\n",
    "    def __init__(self, name, age):\n",
    "        self.name = name\n",
    "        self.age = age\n",
    "    def work(self, minute):   \n",
    "        super().work(minute)  ## super : using parent class in the child class  \n",
    "        print( '{} study {}'.format(self.name, minute))\n",
    "            \n",
    "class Employee(Person):\n",
    "    def __init__(self, name, age):\n",
    "        self.name = name\n",
    "        self.age = age\n",
    "    def work(self, minute):   # method override\n",
    "        super().work(minute)\n",
    "        print( '{} work for company {}'.format(self.name, minute))\n",
    "        \n",
    "bob = Employee('Bob', 25)\n",
    "bob.eat('BBQ')\n",
    "bob.sleep(30)\n",
    "bob.work(60)\n"
   ]
  },
  {
   "cell_type": "code",
   "execution_count": 53,
   "metadata": {},
   "outputs": [],
   "source": [
    "## special method : begining with '__func__'  (dunder method)\n",
    "# class operator redefine :  using custom objects as a basic type like  "
   ]
  },
  {
   "cell_type": "code",
   "execution_count": 15,
   "metadata": {},
   "outputs": [
    {
     "name": "stdout",
     "output_type": "stream",
     "text": [
      "( 3, 4)\n",
      "( 2, 7)\n"
     ]
    }
   ],
   "source": [
    "class Point:\n",
    "    def __init__(self, x, y):\n",
    "        self.x = x\n",
    "        self.y = y\n",
    "    def __str__(self): # override for printing \n",
    "        return '( {}, {})'.format(self.x, self.y)\n",
    "        \n",
    "p1 = Point(3,4)\n",
    "p2 = Point(2,7)\n",
    "\n",
    "print(p1)\n",
    "print(p2)\n"
   ]
  },
  {
   "cell_type": "code",
   "execution_count": 54,
   "metadata": {},
   "outputs": [
    {
     "name": "stdout",
     "output_type": "stream",
     "text": [
      "( 3, 4)\n",
      "( 2, 7)\n",
      "( 5, 11)\n"
     ]
    }
   ],
   "source": [
    "class Point:\n",
    "    def __init__(self, x, y):\n",
    "        self.x = x\n",
    "        self.y = y\n",
    "    \n",
    "    def add(self, pt):\n",
    "        new_x = self.x + pt.x\n",
    "        new_y = self.y + pt.y\n",
    "        return Point(new_x, new_y)\n",
    "        \n",
    "    def __str__(self):  # override for printing \n",
    "        return '( {}, {})'.format(self.x, self.y)\n",
    "        \n",
    "p1 = Point(3,4)\n",
    "p2 = Point(2,7)\n",
    "p3 = p1.add(p2)\n",
    "\n",
    "print(p1)\n",
    "print(p2)\n",
    "print(p3)"
   ]
  },
  {
   "cell_type": "code",
   "execution_count": 61,
   "metadata": {},
   "outputs": [
    {
     "name": "stdout",
     "output_type": "stream",
     "text": [
      "3\n",
      "4\n",
      "( 3, 4)\n",
      "( 2, 7)\n",
      "( 5, 11)\n",
      "( 1, -3)\n",
      "( 9, 12)\n",
      "25\n",
      "3 , 4\n"
     ]
    }
   ],
   "source": [
    "class Point:\n",
    "    def __init__(self, x, y):\n",
    "        self.x = x\n",
    "        self.y = y\n",
    "    \n",
    "    def __add__(self, pt):  # special function override for '+'\n",
    "        new_x = self.x + pt.x\n",
    "        new_y = self.y + pt.y\n",
    "        return Point(new_x, new_y)\n",
    "    \n",
    "    def __sub__(self, pt):  # special function overrid for '* '\n",
    "        new_x = self.x - pt.x\n",
    "        new_y = self.y - pt.y\n",
    "        return Point(new_x, new_y)\n",
    "    \n",
    "    def __mul__(self, factor):\n",
    "        return Point(self.x * factor, self.y * factor)\n",
    "    \n",
    "    def __len__(self):\n",
    "        return self.x **2 + self.y**2\n",
    "       \n",
    "    def __getitem__(self, index):\n",
    "        if index == 0:\n",
    "            return self.x\n",
    "        elif index == 1:\n",
    "            return self.y\n",
    "        else:\n",
    "            return -1 # don't care \n",
    "        \n",
    "    \n",
    "    def __str__(self):\n",
    "        return '( {}, {})'.format(self.x, self.y)\n",
    "        \n",
    "p1 = Point(3,4)\n",
    "p2 = Point(2,7)\n",
    "p3 = p1 + p2\n",
    "p4 = p1-p2\n",
    "p5 = p1*3\n",
    "\n",
    "print(p1[0])\n",
    "print(p1[1])\n",
    "print(p1)\n",
    "print(p2)\n",
    "print(p3)\n",
    "print(p4)\n",
    "print(p5)\n",
    "print(len(p1))\n",
    "print(p1[0],',' ,p1[1])"
   ]
  },
  {
   "cell_type": "code",
   "execution_count": 74,
   "metadata": {},
   "outputs": [],
   "source": [
    "## refer to python data model doc \n",
    "# https://docs.python.org/ko/3/reference/datamodel.html\n",
    "## basic cutomization "
   ]
  },
  {
   "cell_type": "code",
   "execution_count": 75,
   "metadata": {},
   "outputs": [],
   "source": [
    "# class exercise\n"
   ]
  },
  {
   "cell_type": "code",
   "execution_count": 76,
   "metadata": {},
   "outputs": [
    {
     "name": "stdout",
     "output_type": "stream",
     "text": [
      "1 + 2j\n",
      "3 + 5j\n",
      "4 + 7j\n",
      "-7 + 11j\n"
     ]
    },
    {
     "data": {
      "text/plain": [
       "False"
      ]
     },
     "execution_count": 76,
     "metadata": {},
     "output_type": "execute_result"
    }
   ],
   "source": [
    "class ComplexNumber:\n",
    "    def __init__(self, real, img):\n",
    "        self.real = real\n",
    "        self.img = img\n",
    "    \n",
    "    def __add__(self, cn):\n",
    "        return ComplexNumber(self.real + cn.real, self.img + cn.img)\n",
    "        \n",
    "    def __sub__(self, cn):\n",
    "        return ComplexNumber(self.real - cn.real, self.img - cn.img)\n",
    "    def __mul__(self, x):        #(a +bj)* (c +dj) = (ac-bd)+(ad+bc)j\n",
    "        if type(x)==int:\n",
    "            return ComplexNumber(self.real*x, self.img*x)\n",
    "        elif type(x) == ComplexNumber:\n",
    "            return ComplexNumber(self.real*x.real - self.img*x.img, self.real*x.img+self.img*x.real)\n",
    "    \n",
    "    def __str__(self): # for output printing \n",
    "        if self.img >=0:\n",
    "            return '{} + {}j'.format(self.real, self.img)\n",
    "        else:\n",
    "            return '{} - {}j'.format(self.real, abs(self.img))\n",
    "    def __eq__(self, cn):\n",
    "        return self.real == cn.real and self.img == cn.img\n",
    "    \n",
    "    def __ne__(self, cn):\n",
    "        return not (self.real == cn.real and self.img == cn.img)\n",
    "    \n",
    "a = ComplexNumber(1,2)\n",
    "b = ComplexNumber(3,5)\n",
    "print(a)\n",
    "print(b)\n",
    "print(a + b) \n",
    "print(a * b)\n",
    "a==b"
   ]
  },
  {
   "cell_type": "code",
   "execution_count": null,
   "metadata": {},
   "outputs": [],
   "source": []
  }
 ],
 "metadata": {
  "kernelspec": {
   "display_name": "Python 3",
   "language": "python",
   "name": "python3"
  },
  "language_info": {
   "codemirror_mode": {
    "name": "ipython",
    "version": 3
   },
   "file_extension": ".py",
   "mimetype": "text/x-python",
   "name": "python",
   "nbconvert_exporter": "python",
   "pygments_lexer": "ipython3",
   "version": "3.8.5"
  }
 },
 "nbformat": 4,
 "nbformat_minor": 4
}
